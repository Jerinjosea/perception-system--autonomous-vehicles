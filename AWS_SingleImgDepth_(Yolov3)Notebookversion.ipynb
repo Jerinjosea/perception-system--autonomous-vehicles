{
  "nbformat": 4,
  "nbformat_minor": 0,
  "metadata": {
    "accelerator": "GPU",
    "colab": {
      "name": "AWS-SingleImgDepth (Yolov3)Notebookversion.ipynb",
      "provenance": [],
      "collapsed_sections": [
        "1EU_yqgXM4XV",
        "aNulh2XvM748",
        "5crs6F9brpwq",
        "takpM5RvrupZ",
        "t51RsFcXEMHk",
        "m0jfQRuyqhHq",
        "IwvIc7iFZ__d",
        "8_2iY7HwCTlm"
      ]
    },
    "kernelspec": {
      "display_name": "Python 3",
      "name": "python3"
    },
    "widgets": {
      "application/vnd.jupyter.widget-state+json": {
        "a79a49bfe3e04c209bf5bbd03e0b2eed": {
          "model_module": "@jupyter-widgets/controls",
          "model_name": "HBoxModel",
          "state": {
            "_dom_classes": [],
            "_model_module": "@jupyter-widgets/controls",
            "_model_module_version": "1.5.0",
            "_model_name": "HBoxModel",
            "_view_count": null,
            "_view_module": "@jupyter-widgets/controls",
            "_view_module_version": "1.5.0",
            "_view_name": "HBoxView",
            "box_style": "",
            "children": [
              "IPY_MODEL_b76b470d533a48c1b3412f079f248108",
              "IPY_MODEL_b21394988b7d4366bfe24338bbd43e70"
            ],
            "layout": "IPY_MODEL_0b27ec85e56b402db9754ed5cbd93cae"
          }
        },
        "b76b470d533a48c1b3412f079f248108": {
          "model_module": "@jupyter-widgets/controls",
          "model_name": "FloatProgressModel",
          "state": {
            "_dom_classes": [],
            "_model_module": "@jupyter-widgets/controls",
            "_model_module_version": "1.5.0",
            "_model_name": "FloatProgressModel",
            "_view_count": null,
            "_view_module": "@jupyter-widgets/controls",
            "_view_module_version": "1.5.0",
            "_view_name": "ProgressView",
            "bar_style": "",
            "description": "  0%",
            "description_tooltip": null,
            "layout": "IPY_MODEL_124e761376df419ebaab334ace9b580d",
            "max": 3,
            "min": 0,
            "orientation": "horizontal",
            "style": "IPY_MODEL_4ae6b9c1d5054c5baea487d26a6e712c",
            "value": 0
          }
        },
        "b21394988b7d4366bfe24338bbd43e70": {
          "model_module": "@jupyter-widgets/controls",
          "model_name": "HTMLModel",
          "state": {
            "_dom_classes": [],
            "_model_module": "@jupyter-widgets/controls",
            "_model_module_version": "1.5.0",
            "_model_name": "HTMLModel",
            "_view_count": null,
            "_view_module": "@jupyter-widgets/controls",
            "_view_module_version": "1.5.0",
            "_view_name": "HTMLView",
            "description": "",
            "description_tooltip": null,
            "layout": "IPY_MODEL_d8c396dba51c4ceb9e07276be999280b",
            "placeholder": "​",
            "style": "IPY_MODEL_552a51448ede4e7b987e3ac337158973",
            "value": " 0/3 [00:00&lt;?, ?epoch/s]"
          }
        },
        "0b27ec85e56b402db9754ed5cbd93cae": {
          "model_module": "@jupyter-widgets/base",
          "model_name": "LayoutModel",
          "state": {
            "_model_module": "@jupyter-widgets/base",
            "_model_module_version": "1.2.0",
            "_model_name": "LayoutModel",
            "_view_count": null,
            "_view_module": "@jupyter-widgets/base",
            "_view_module_version": "1.2.0",
            "_view_name": "LayoutView",
            "align_content": null,
            "align_items": null,
            "align_self": null,
            "border": null,
            "bottom": null,
            "display": null,
            "flex": null,
            "flex_flow": null,
            "grid_area": null,
            "grid_auto_columns": null,
            "grid_auto_flow": null,
            "grid_auto_rows": null,
            "grid_column": null,
            "grid_gap": null,
            "grid_row": null,
            "grid_template_areas": null,
            "grid_template_columns": null,
            "grid_template_rows": null,
            "height": null,
            "justify_content": null,
            "justify_items": null,
            "left": null,
            "margin": null,
            "max_height": null,
            "max_width": null,
            "min_height": null,
            "min_width": null,
            "object_fit": null,
            "object_position": null,
            "order": null,
            "overflow": null,
            "overflow_x": null,
            "overflow_y": null,
            "padding": null,
            "right": null,
            "top": null,
            "visibility": null,
            "width": null
          }
        },
        "124e761376df419ebaab334ace9b580d": {
          "model_module": "@jupyter-widgets/base",
          "model_name": "LayoutModel",
          "state": {
            "_model_module": "@jupyter-widgets/base",
            "_model_module_version": "1.2.0",
            "_model_name": "LayoutModel",
            "_view_count": null,
            "_view_module": "@jupyter-widgets/base",
            "_view_module_version": "1.2.0",
            "_view_name": "LayoutView",
            "align_content": null,
            "align_items": null,
            "align_self": null,
            "border": null,
            "bottom": null,
            "display": null,
            "flex": null,
            "flex_flow": null,
            "grid_area": null,
            "grid_auto_columns": null,
            "grid_auto_flow": null,
            "grid_auto_rows": null,
            "grid_column": null,
            "grid_gap": null,
            "grid_row": null,
            "grid_template_areas": null,
            "grid_template_columns": null,
            "grid_template_rows": null,
            "height": null,
            "justify_content": null,
            "justify_items": null,
            "left": null,
            "margin": null,
            "max_height": null,
            "max_width": null,
            "min_height": null,
            "min_width": null,
            "object_fit": null,
            "object_position": null,
            "order": null,
            "overflow": null,
            "overflow_x": null,
            "overflow_y": null,
            "padding": null,
            "right": null,
            "top": null,
            "visibility": null,
            "width": null
          }
        },
        "4ae6b9c1d5054c5baea487d26a6e712c": {
          "model_module": "@jupyter-widgets/controls",
          "model_name": "ProgressStyleModel",
          "state": {
            "_model_module": "@jupyter-widgets/controls",
            "_model_module_version": "1.5.0",
            "_model_name": "ProgressStyleModel",
            "_view_count": null,
            "_view_module": "@jupyter-widgets/base",
            "_view_module_version": "1.2.0",
            "_view_name": "StyleView",
            "bar_color": null,
            "description_width": "initial"
          }
        },
        "d8c396dba51c4ceb9e07276be999280b": {
          "model_module": "@jupyter-widgets/base",
          "model_name": "LayoutModel",
          "state": {
            "_model_module": "@jupyter-widgets/base",
            "_model_module_version": "1.2.0",
            "_model_name": "LayoutModel",
            "_view_count": null,
            "_view_module": "@jupyter-widgets/base",
            "_view_module_version": "1.2.0",
            "_view_name": "LayoutView",
            "align_content": null,
            "align_items": null,
            "align_self": null,
            "border": null,
            "bottom": null,
            "display": null,
            "flex": null,
            "flex_flow": null,
            "grid_area": null,
            "grid_auto_columns": null,
            "grid_auto_flow": null,
            "grid_auto_rows": null,
            "grid_column": null,
            "grid_gap": null,
            "grid_row": null,
            "grid_template_areas": null,
            "grid_template_columns": null,
            "grid_template_rows": null,
            "height": null,
            "justify_content": null,
            "justify_items": null,
            "left": null,
            "margin": null,
            "max_height": null,
            "max_width": null,
            "min_height": null,
            "min_width": null,
            "object_fit": null,
            "object_position": null,
            "order": null,
            "overflow": null,
            "overflow_x": null,
            "overflow_y": null,
            "padding": null,
            "right": null,
            "top": null,
            "visibility": null,
            "width": null
          }
        },
        "552a51448ede4e7b987e3ac337158973": {
          "model_module": "@jupyter-widgets/controls",
          "model_name": "DescriptionStyleModel",
          "state": {
            "_model_module": "@jupyter-widgets/controls",
            "_model_module_version": "1.5.0",
            "_model_name": "DescriptionStyleModel",
            "_view_count": null,
            "_view_module": "@jupyter-widgets/base",
            "_view_module_version": "1.2.0",
            "_view_name": "StyleView",
            "description_width": ""
          }
        }
      }
    }
  },
  "cells": [
    {
      "cell_type": "markdown",
      "metadata": {
        "id": "1EU_yqgXM4XV"
      },
      "source": [
        "#Anchor Box Calculation\n",
        "\n"
      ]
    },
    {
      "cell_type": "code",
      "metadata": {
        "colab": {
          "base_uri": "https://localhost:8080/",
          "height": 238
        },
        "id": "F2N5uR4jM32T",
        "outputId": "979e3ad7-cef3-4a91-f591-b5e4a272012a"
      },
      "source": [
        "import matplotlib.pyplot as plt\n",
        "\n",
        "class main:\n",
        "  def __init__(self,no):\n",
        "    self.num_clusters = no\n",
        "\n",
        "   \n",
        "args = main(9)\n",
        "\n",
        "'''\n",
        "Created on Feb 20, 2017\n",
        "@author: jumabek\n",
        "'''\n",
        "from os import listdir\n",
        "from os.path import isfile, join\n",
        "import argparse\n",
        "#import cv2\n",
        "import numpy as np\n",
        "import sys\n",
        "import os\n",
        "import shutil\n",
        "import random \n",
        "import math\n",
        "\n",
        "width_in_cfg_file = 1248.\n",
        "height_in_cfg_file = 1248.\n",
        "\n",
        "def IOU(X,centroids):\n",
        "    similarities = []\n",
        "    k = len(centroids)\n",
        "    for centroid in centroids:\n",
        "        c_x,c_y,c_z = centroid\n",
        "        x,y,z = X\n",
        "        inner_vol = min(x,c_x)*min(y,c_y)*min(z,c_z)\n",
        "        similarity = inner_vol/((x*y*z+c_x*c_y*c_z)-inner_vol)\n",
        "        similarities.append(similarity) # will become (k,) shape\n",
        "    return np.array(similarities) \n",
        "\n",
        "def avg_IOU(X,centroids):\n",
        "    n,d = X.shape\n",
        "    sum = 0.\n",
        "    for i in range(X.shape[0]):\n",
        "        #note IOU() will return array which contains IoU for each centroid and X[i] // slightly ineffective, but I am too lazy\n",
        "        sum+= max(IOU(X[i],centroids)) \n",
        "    return sum/n\n",
        "\n",
        "def write_anchors_to_file(centroids,X,anchor_file):\n",
        "    f = open(anchor_file,'w')\n",
        "    \n",
        "    anchors = centroids.copy()\n",
        "    print(anchors.shape)\n",
        "\n",
        "    for i in range(anchors.shape[0]):\n",
        "        anchors[i][0]*=width_in_cfg_file\n",
        "        anchors[i][1]*=height_in_cfg_file\n",
        "        anchors[i][2]*= 5\n",
        "         \n",
        "\n",
        "    widths = anchors[:,0]+ anchors[:,1]\n",
        "    sorted_indices = np.argsort(widths)\n",
        "\n",
        "    print('Anchors = ', anchors[sorted_indices])\n",
        "        \n",
        "    for i in sorted_indices[:-1]:\n",
        "        f.write('%0.5f,%0.5f,%0.5f, '%(anchors[i,0],anchors[i,1],anchors[i,2]))\n",
        "\n",
        "    #there should not be comma after last anchor, that's why\n",
        "    f.write('%0.5f,%0.5f,%0.5f\\n'%(anchors[sorted_indices[-1:],0],anchors[sorted_indices[-1:],1],anchors[sorted_indices[-1:],2]))\n",
        "    \n",
        "    f.write('%f\\n'%(avg_IOU(X,centroids)))\n",
        "    plt.scatter(centroids.shape[0], avg_IOU(X,centroids))\n",
        "\n",
        "def kmeans(X,centroids,eps,anchor_file):\n",
        "    \n",
        "    N = X.shape[0]\n",
        "    iterations = 0\n",
        "    k,dim = centroids.shape\n",
        "    print(\"k,dim =\",k,dim)\n",
        "    prev_assignments = np.ones(N)*(-1)    \n",
        "    iter = 0\n",
        "    old_D = np.zeros((N,k))\n",
        "\n",
        "    while True:\n",
        "        D = [] \n",
        "        iter+=1           \n",
        "        for i in range(N):\n",
        "            d = 1 - IOU(X[i],centroids)\n",
        "            D.append(d)\n",
        "        D = np.array(D) # D.shape = (N,k)\n",
        "        \n",
        "        print(\"iter {}: dists = {}\".format(iter,np.sum(np.abs(old_D-D))))\n",
        "            \n",
        "        #assign samples to centroids \n",
        "        assignments = np.argmin(D,axis=1)\n",
        "        \n",
        "        if (assignments == prev_assignments).all() :\n",
        "            print(\"Centroids = \",centroids)\n",
        "            write_anchors_to_file(centroids,X,anchor_file)\n",
        "            return\n",
        "\n",
        "        #calculate new centroids\n",
        "        centroid_sums=np.zeros((k,dim),np.float)\n",
        "        for i in range(N):\n",
        "            centroid_sums[assignments[i]]+=X[i]        \n",
        "        for j in range(k):            \n",
        "            centroids[j] = centroid_sums[j]/(np.sum(assignments==j))\n",
        "        \n",
        "        prev_assignments = assignments.copy()     \n",
        "        old_D = D.copy()  \n",
        "\n",
        "    \n",
        "\n",
        "annotation_dims = []\n",
        "\n",
        "size = np.zeros((1,1,3))\n",
        "file_path = '/gdrive/My Drive/data/'\n",
        "for scene  in nusc.scene :\n",
        "  sample_token = scene['first_sample_token']\n",
        "  sample = nusc.get('sample',sample_token)\n",
        "  sensor = 'LIDAR_TOP'\n",
        "  lidar_top_data = nusc.get('sample_data', sample['data'][sensor])\n",
        "  ego_pose = nusc.get('ego_pose', lidar_top_data['ego_pose_token'])\n",
        "  for annotation in sample['anns']:\n",
        "    annotation = nusc.get('sample_annotation',annotation)\n",
        "    x,y,z = annotation['size']\n",
        "    x = float(x) / 140.\n",
        "    y = float(y) / 140.\n",
        "    z = float(z) / 5.\n",
        "    annotation_dims.append(tuple(map(float,(x,y,z))))\n",
        "#print(annotation_dims)  \n",
        "annotation_dims = np.array(annotation_dims)\n",
        "\n",
        "eps = 0.005\n",
        "\n",
        "if args.num_clusters == 0:\n",
        "    for num_clusters in range(1,11): #we make 1 through 10 clusters \n",
        "        anchor_file = 'anchors%d.txt'%(num_clusters)\n",
        "\n",
        "        indices = [ random.randrange(annotation_dims.shape[0]) for i in range(num_clusters)]\n",
        "        centroids = annotation_dims[indices]\n",
        "        kmeans(annotation_dims,centroids,eps,anchor_file)\n",
        "        print('centroids.shape', centroids.shape)\n",
        "else:\n",
        "    anchor_file = 'anchors%d.txt'%(args.num_clusters)\n",
        "    indices = [ random.randrange(annotation_dims.shape[0]) for i in range(args.num_clusters)]\n",
        "    centroids = annotation_dims[indices]\n",
        "    kmeans(annotation_dims,centroids,eps,anchor_file)\n",
        "    print('centroids.shape', centroids.shape)\n",
        "\n"
      ],
      "execution_count": null,
      "outputs": [
        {
          "output_type": "error",
          "ename": "NameError",
          "evalue": "ignored",
          "traceback": [
            "\u001b[0;31m---------------------------------------------------------------------------\u001b[0m",
            "\u001b[0;31mNameError\u001b[0m                                 Traceback (most recent call last)",
            "\u001b[0;32m<ipython-input-1-72f4f8892842>\u001b[0m in \u001b[0;36m<module>\u001b[0;34m()\u001b[0m\n\u001b[1;32m    115\u001b[0m \u001b[0msize\u001b[0m \u001b[0;34m=\u001b[0m \u001b[0mnp\u001b[0m\u001b[0;34m.\u001b[0m\u001b[0mzeros\u001b[0m\u001b[0;34m(\u001b[0m\u001b[0;34m(\u001b[0m\u001b[0;36m1\u001b[0m\u001b[0;34m,\u001b[0m\u001b[0;36m1\u001b[0m\u001b[0;34m,\u001b[0m\u001b[0;36m3\u001b[0m\u001b[0;34m)\u001b[0m\u001b[0;34m)\u001b[0m\u001b[0;34m\u001b[0m\u001b[0;34m\u001b[0m\u001b[0m\n\u001b[1;32m    116\u001b[0m \u001b[0mfile_path\u001b[0m \u001b[0;34m=\u001b[0m \u001b[0;34m'/gdrive/My Drive/data/'\u001b[0m\u001b[0;34m\u001b[0m\u001b[0;34m\u001b[0m\u001b[0m\n\u001b[0;32m--> 117\u001b[0;31m \u001b[0;32mfor\u001b[0m \u001b[0mscene\u001b[0m  \u001b[0;32min\u001b[0m \u001b[0mnusc\u001b[0m\u001b[0;34m.\u001b[0m\u001b[0mscene\u001b[0m \u001b[0;34m:\u001b[0m\u001b[0;34m\u001b[0m\u001b[0;34m\u001b[0m\u001b[0m\n\u001b[0m\u001b[1;32m    118\u001b[0m   \u001b[0msample_token\u001b[0m \u001b[0;34m=\u001b[0m \u001b[0mscene\u001b[0m\u001b[0;34m[\u001b[0m\u001b[0;34m'first_sample_token'\u001b[0m\u001b[0;34m]\u001b[0m\u001b[0;34m\u001b[0m\u001b[0;34m\u001b[0m\u001b[0m\n\u001b[1;32m    119\u001b[0m   \u001b[0msample\u001b[0m \u001b[0;34m=\u001b[0m \u001b[0mnusc\u001b[0m\u001b[0;34m.\u001b[0m\u001b[0mget\u001b[0m\u001b[0;34m(\u001b[0m\u001b[0;34m'sample'\u001b[0m\u001b[0;34m,\u001b[0m\u001b[0msample_token\u001b[0m\u001b[0;34m)\u001b[0m\u001b[0;34m\u001b[0m\u001b[0;34m\u001b[0m\u001b[0m\n",
            "\u001b[0;31mNameError\u001b[0m: name 'nusc' is not defined"
          ]
        }
      ]
    },
    {
      "cell_type": "code",
      "metadata": {
        "colab": {
          "base_uri": "https://localhost:8080/",
          "height": 238
        },
        "id": "Tu1geigrSzaD",
        "outputId": "95a6be29-b57e-4d2c-a01f-d9fd6e1e70df"
      },
      "source": [
        "from collections import Counter \n",
        "\n",
        "annotation_dims = []\n",
        "cat = []\n",
        "size = np.zeros((1,1,3))\n",
        "file_path = '/gdrive/My Drive/data/'\n",
        "for scene  in nusc.scene :\n",
        "  sample_token = scene['first_sample_token']\n",
        "  sample = nusc.get('sample',sample_token)\n",
        "  sensor = 'LIDAR_TOP'\n",
        "  lidar_top_data = nusc.get('sample_data', sample['data'][sensor])\n",
        "  ego_pose = nusc.get('ego_pose', lidar_top_data['ego_pose_token'])\n",
        "  for annotation in sample['anns']:\n",
        "    annotation = nusc.get('sample_annotation',annotation)\n",
        "    print(annotation['size'],annotation['category_name'])\n",
        "    x,y,z = annotation['size']\n",
        "    cat.append(annotation['category_name'])\n",
        "    #x = float(x) / 140.\n",
        "    #y = float(y) / 140.\n",
        "    #z = float(z) / 5.\n",
        "    annotation_dims.append(tuple(map(float,(x,y,z))))\n",
        "print(annotation_dims)\n",
        "d = Counter(cat)   \n",
        "print(d)\n",
        "print(annotation_dims[1])\n",
        "print(max(x[0] for x in annotation_dims))\n",
        "print(max(x[1] for x in annotation_dims))\n",
        "print(max(x[2] for x in annotation_dims))\n",
        "#print(sum(annotation_dims[:,1]))\n",
        "#print(sum(annotation_dims[:,2]))"
      ],
      "execution_count": null,
      "outputs": [
        {
          "output_type": "error",
          "ename": "NameError",
          "evalue": "ignored",
          "traceback": [
            "\u001b[0;31m---------------------------------------------------------------------------\u001b[0m",
            "\u001b[0;31mNameError\u001b[0m                                 Traceback (most recent call last)",
            "\u001b[0;32m<ipython-input-2-d83d1b63f439>\u001b[0m in \u001b[0;36m<module>\u001b[0;34m()\u001b[0m\n\u001b[1;32m      5\u001b[0m \u001b[0msize\u001b[0m \u001b[0;34m=\u001b[0m \u001b[0mnp\u001b[0m\u001b[0;34m.\u001b[0m\u001b[0mzeros\u001b[0m\u001b[0;34m(\u001b[0m\u001b[0;34m(\u001b[0m\u001b[0;36m1\u001b[0m\u001b[0;34m,\u001b[0m\u001b[0;36m1\u001b[0m\u001b[0;34m,\u001b[0m\u001b[0;36m3\u001b[0m\u001b[0;34m)\u001b[0m\u001b[0;34m)\u001b[0m\u001b[0;34m\u001b[0m\u001b[0;34m\u001b[0m\u001b[0m\n\u001b[1;32m      6\u001b[0m \u001b[0mfile_path\u001b[0m \u001b[0;34m=\u001b[0m \u001b[0;34m'/gdrive/My Drive/data/'\u001b[0m\u001b[0;34m\u001b[0m\u001b[0;34m\u001b[0m\u001b[0m\n\u001b[0;32m----> 7\u001b[0;31m \u001b[0;32mfor\u001b[0m \u001b[0mscene\u001b[0m  \u001b[0;32min\u001b[0m \u001b[0mnusc\u001b[0m\u001b[0;34m.\u001b[0m\u001b[0mscene\u001b[0m \u001b[0;34m:\u001b[0m\u001b[0;34m\u001b[0m\u001b[0;34m\u001b[0m\u001b[0m\n\u001b[0m\u001b[1;32m      8\u001b[0m   \u001b[0msample_token\u001b[0m \u001b[0;34m=\u001b[0m \u001b[0mscene\u001b[0m\u001b[0;34m[\u001b[0m\u001b[0;34m'first_sample_token'\u001b[0m\u001b[0;34m]\u001b[0m\u001b[0;34m\u001b[0m\u001b[0;34m\u001b[0m\u001b[0m\n\u001b[1;32m      9\u001b[0m   \u001b[0msample\u001b[0m \u001b[0;34m=\u001b[0m \u001b[0mnusc\u001b[0m\u001b[0;34m.\u001b[0m\u001b[0mget\u001b[0m\u001b[0;34m(\u001b[0m\u001b[0;34m'sample'\u001b[0m\u001b[0;34m,\u001b[0m\u001b[0msample_token\u001b[0m\u001b[0;34m)\u001b[0m\u001b[0;34m\u001b[0m\u001b[0;34m\u001b[0m\u001b[0m\n",
            "\u001b[0;31mNameError\u001b[0m: name 'nusc' is not defined"
          ]
        }
      ]
    },
    {
      "cell_type": "code",
      "metadata": {
        "id": "5vfkhkwxPhJa"
      },
      "source": [
        ""
      ],
      "execution_count": null,
      "outputs": []
    },
    {
      "cell_type": "code",
      "metadata": {
        "colab": {
          "base_uri": "https://localhost:8080/"
        },
        "id": "L5rdnxJVl4LZ",
        "outputId": "e942802c-bf78-40b9-c116-46f2e5d412d0"
      },
      "source": [
        "!pip3 install terminaltables\n",
        "!pip install nuscenes-devkit\n",
        "!pip install turfpy\n",
        "!pip install wandb"
      ],
      "execution_count": null,
      "outputs": [
        {
          "output_type": "stream",
          "text": [
            "Requirement already satisfied: terminaltables in ./anaconda3/lib/python3.7/site-packages (3.1.0)\n",
            "\u001b[33mWARNING: You are using pip version 20.3.3; however, version 21.0 is available.\n",
            "You should consider upgrading via the '/home/ubuntu/anaconda3/bin/python -m pip install --upgrade pip' command.\u001b[0m\n",
            "Requirement already satisfied: nuscenes-devkit in ./anaconda3/lib/python3.7/site-packages (1.1.2)\n",
            "Requirement already satisfied: descartes in ./anaconda3/lib/python3.7/site-packages (from nuscenes-devkit) (1.1.0)\n",
            "Requirement already satisfied: Pillow in ./anaconda3/lib/python3.7/site-packages (from nuscenes-devkit) (7.0.0)\n",
            "Requirement already satisfied: matplotlib in ./anaconda3/lib/python3.7/site-packages (from nuscenes-devkit) (3.1.3)\n",
            "Requirement already satisfied: opencv-python in ./anaconda3/lib/python3.7/site-packages (from nuscenes-devkit) (4.5.1.48)\n",
            "Requirement already satisfied: pyquaternion>=0.9.5 in ./anaconda3/lib/python3.7/site-packages (from nuscenes-devkit) (0.9.9)\n",
            "Requirement already satisfied: scikit-learn in ./anaconda3/lib/python3.7/site-packages (from nuscenes-devkit) (0.22.1)\n",
            "Requirement already satisfied: pycocotools>=2.0.1 in ./anaconda3/lib/python3.7/site-packages (from nuscenes-devkit) (2.0.2)\n",
            "Requirement already satisfied: numpy in ./anaconda3/lib/python3.7/site-packages (from nuscenes-devkit) (1.19.5)\n",
            "Requirement already satisfied: Shapely in ./anaconda3/lib/python3.7/site-packages (from nuscenes-devkit) (1.7.1)\n",
            "Requirement already satisfied: tqdm in ./anaconda3/lib/python3.7/site-packages (from nuscenes-devkit) (4.42.1)\n",
            "Requirement already satisfied: cachetools in ./anaconda3/lib/python3.7/site-packages (from nuscenes-devkit) (4.2.1)\n",
            "Requirement already satisfied: jupyter in ./anaconda3/lib/python3.7/site-packages (from nuscenes-devkit) (1.0.0)\n",
            "Requirement already satisfied: scipy in ./anaconda3/lib/python3.7/site-packages (from nuscenes-devkit) (1.4.1)\n",
            "Requirement already satisfied: fire in ./anaconda3/lib/python3.7/site-packages (from nuscenes-devkit) (0.4.0)\n",
            "Requirement already satisfied: setuptools>=18.0 in ./anaconda3/lib/python3.7/site-packages (from pycocotools>=2.0.1->nuscenes-devkit) (45.2.0.post20200210)\n",
            "Requirement already satisfied: cython>=0.27.3 in ./anaconda3/lib/python3.7/site-packages (from pycocotools>=2.0.1->nuscenes-devkit) (0.29.15)\n",
            "Requirement already satisfied: python-dateutil>=2.1 in ./anaconda3/lib/python3.7/site-packages (from matplotlib->nuscenes-devkit) (2.8.1)\n",
            "Requirement already satisfied: cycler>=0.10 in ./anaconda3/lib/python3.7/site-packages (from matplotlib->nuscenes-devkit) (0.10.0)\n",
            "Requirement already satisfied: kiwisolver>=1.0.1 in ./anaconda3/lib/python3.7/site-packages (from matplotlib->nuscenes-devkit) (1.1.0)\n",
            "Requirement already satisfied: pyparsing!=2.0.4,!=2.1.2,!=2.1.6,>=2.0.1 in ./anaconda3/lib/python3.7/site-packages (from matplotlib->nuscenes-devkit) (2.4.7)\n",
            "Requirement already satisfied: six in ./anaconda3/lib/python3.7/site-packages (from cycler>=0.10->matplotlib->nuscenes-devkit) (1.15.0)\n",
            "Requirement already satisfied: termcolor in ./anaconda3/lib/python3.7/site-packages (from fire->nuscenes-devkit) (1.1.0)\n",
            "Requirement already satisfied: jupyter-console in ./anaconda3/lib/python3.7/site-packages (from jupyter->nuscenes-devkit) (6.1.0)\n",
            "Requirement already satisfied: ipykernel in ./anaconda3/lib/python3.7/site-packages (from jupyter->nuscenes-devkit) (5.1.4)\n",
            "Requirement already satisfied: ipywidgets in ./anaconda3/lib/python3.7/site-packages (from jupyter->nuscenes-devkit) (7.5.1)\n",
            "Requirement already satisfied: qtconsole in ./anaconda3/lib/python3.7/site-packages (from jupyter->nuscenes-devkit) (4.6.0)\n",
            "Requirement already satisfied: nbconvert in ./anaconda3/lib/python3.7/site-packages (from jupyter->nuscenes-devkit) (5.6.1)\n",
            "Requirement already satisfied: notebook in ./anaconda3/lib/python3.7/site-packages (from jupyter->nuscenes-devkit) (6.0.3)\n",
            "Requirement already satisfied: tornado>=4.2 in ./anaconda3/lib/python3.7/site-packages (from ipykernel->jupyter->nuscenes-devkit) (6.0.3)\n",
            "Requirement already satisfied: ipython>=5.0.0 in ./anaconda3/lib/python3.7/site-packages (from ipykernel->jupyter->nuscenes-devkit) (7.12.0)\n",
            "Requirement already satisfied: traitlets>=4.1.0 in ./anaconda3/lib/python3.7/site-packages (from ipykernel->jupyter->nuscenes-devkit) (4.3.3)\n",
            "Requirement already satisfied: jupyter-client in ./anaconda3/lib/python3.7/site-packages (from ipykernel->jupyter->nuscenes-devkit) (5.3.4)\n",
            "Requirement already satisfied: pexpect in ./anaconda3/lib/python3.7/site-packages (from ipython>=5.0.0->ipykernel->jupyter->nuscenes-devkit) (4.8.0)\n",
            "Requirement already satisfied: jedi>=0.10 in ./anaconda3/lib/python3.7/site-packages (from ipython>=5.0.0->ipykernel->jupyter->nuscenes-devkit) (0.14.1)\n",
            "Requirement already satisfied: pickleshare in ./anaconda3/lib/python3.7/site-packages (from ipython>=5.0.0->ipykernel->jupyter->nuscenes-devkit) (0.7.5)\n",
            "Requirement already satisfied: prompt-toolkit!=3.0.0,!=3.0.1,<3.1.0,>=2.0.0 in ./anaconda3/lib/python3.7/site-packages (from ipython>=5.0.0->ipykernel->jupyter->nuscenes-devkit) (3.0.3)\n",
            "Requirement already satisfied: decorator in ./anaconda3/lib/python3.7/site-packages (from ipython>=5.0.0->ipykernel->jupyter->nuscenes-devkit) (4.4.1)\n",
            "Requirement already satisfied: backcall in ./anaconda3/lib/python3.7/site-packages (from ipython>=5.0.0->ipykernel->jupyter->nuscenes-devkit) (0.1.0)\n",
            "Requirement already satisfied: pygments in ./anaconda3/lib/python3.7/site-packages (from ipython>=5.0.0->ipykernel->jupyter->nuscenes-devkit) (2.5.2)\n",
            "Requirement already satisfied: parso>=0.5.0 in ./anaconda3/lib/python3.7/site-packages (from jedi>=0.10->ipython>=5.0.0->ipykernel->jupyter->nuscenes-devkit) (0.5.2)\n",
            "Requirement already satisfied: wcwidth in ./anaconda3/lib/python3.7/site-packages (from prompt-toolkit!=3.0.0,!=3.0.1,<3.1.0,>=2.0.0->ipython>=5.0.0->ipykernel->jupyter->nuscenes-devkit) (0.1.8)\n",
            "Requirement already satisfied: ipython-genutils in ./anaconda3/lib/python3.7/site-packages (from traitlets>=4.1.0->ipykernel->jupyter->nuscenes-devkit) (0.2.0)\n",
            "Requirement already satisfied: nbformat>=4.2.0 in ./anaconda3/lib/python3.7/site-packages (from ipywidgets->jupyter->nuscenes-devkit) (5.0.4)\n",
            "Requirement already satisfied: widgetsnbextension~=3.5.0 in ./anaconda3/lib/python3.7/site-packages (from ipywidgets->jupyter->nuscenes-devkit) (3.5.1)\n",
            "Requirement already satisfied: jsonschema!=2.5.0,>=2.4 in ./anaconda3/lib/python3.7/site-packages (from nbformat>=4.2.0->ipywidgets->jupyter->nuscenes-devkit) (3.2.0)\n",
            "Requirement already satisfied: jupyter-core in ./anaconda3/lib/python3.7/site-packages (from nbformat>=4.2.0->ipywidgets->jupyter->nuscenes-devkit) (4.6.1)\n",
            "Requirement already satisfied: attrs>=17.4.0 in ./anaconda3/lib/python3.7/site-packages (from jsonschema!=2.5.0,>=2.4->nbformat>=4.2.0->ipywidgets->jupyter->nuscenes-devkit) (20.3.0)\n",
            "Requirement already satisfied: importlib-metadata in ./anaconda3/lib/python3.7/site-packages (from jsonschema!=2.5.0,>=2.4->nbformat>=4.2.0->ipywidgets->jupyter->nuscenes-devkit) (3.4.0)\n",
            "Requirement already satisfied: pyrsistent>=0.14.0 in ./anaconda3/lib/python3.7/site-packages (from jsonschema!=2.5.0,>=2.4->nbformat>=4.2.0->ipywidgets->jupyter->nuscenes-devkit) (0.15.7)\n",
            "Requirement already satisfied: jinja2 in ./anaconda3/lib/python3.7/site-packages (from notebook->jupyter->nuscenes-devkit) (2.11.1)\n",
            "Requirement already satisfied: prometheus-client in ./anaconda3/lib/python3.7/site-packages (from notebook->jupyter->nuscenes-devkit) (0.7.1)\n",
            "Requirement already satisfied: Send2Trash in ./anaconda3/lib/python3.7/site-packages (from notebook->jupyter->nuscenes-devkit) (1.5.0)\n",
            "Requirement already satisfied: pyzmq>=17 in ./anaconda3/lib/python3.7/site-packages (from notebook->jupyter->nuscenes-devkit) (18.1.1)\n",
            "Requirement already satisfied: terminado>=0.8.1 in ./anaconda3/lib/python3.7/site-packages (from notebook->jupyter->nuscenes-devkit) (0.8.3)\n",
            "Requirement already satisfied: typing-extensions>=3.6.4 in ./anaconda3/lib/python3.7/site-packages (from importlib-metadata->jsonschema!=2.5.0,>=2.4->nbformat>=4.2.0->ipywidgets->jupyter->nuscenes-devkit) (3.7.4.3)\n",
            "Requirement already satisfied: zipp>=0.5 in ./anaconda3/lib/python3.7/site-packages (from importlib-metadata->jsonschema!=2.5.0,>=2.4->nbformat>=4.2.0->ipywidgets->jupyter->nuscenes-devkit) (3.4.0)\n",
            "Requirement already satisfied: MarkupSafe>=0.23 in ./anaconda3/lib/python3.7/site-packages (from jinja2->notebook->jupyter->nuscenes-devkit) (1.1.1)\n",
            "Requirement already satisfied: mistune<2,>=0.8.1 in ./anaconda3/lib/python3.7/site-packages (from nbconvert->jupyter->nuscenes-devkit) (0.8.4)\n",
            "Requirement already satisfied: testpath in ./anaconda3/lib/python3.7/site-packages (from nbconvert->jupyter->nuscenes-devkit) (0.4.4)\n",
            "Requirement already satisfied: defusedxml in ./anaconda3/lib/python3.7/site-packages (from nbconvert->jupyter->nuscenes-devkit) (0.6.0)\n",
            "Requirement already satisfied: pandocfilters>=1.4.1 in ./anaconda3/lib/python3.7/site-packages (from nbconvert->jupyter->nuscenes-devkit) (1.4.2)\n",
            "Requirement already satisfied: bleach in ./anaconda3/lib/python3.7/site-packages (from nbconvert->jupyter->nuscenes-devkit) (3.1.0)\n",
            "Requirement already satisfied: entrypoints>=0.2.2 in ./anaconda3/lib/python3.7/site-packages (from nbconvert->jupyter->nuscenes-devkit) (0.3)\n",
            "Requirement already satisfied: webencodings in ./anaconda3/lib/python3.7/site-packages (from bleach->nbconvert->jupyter->nuscenes-devkit) (0.5.1)\n",
            "Requirement already satisfied: ptyprocess>=0.5 in ./anaconda3/lib/python3.7/site-packages (from pexpect->ipython>=5.0.0->ipykernel->jupyter->nuscenes-devkit) (0.6.0)\n",
            "Requirement already satisfied: joblib>=0.11 in ./anaconda3/lib/python3.7/site-packages (from scikit-learn->nuscenes-devkit) (0.14.1)\n",
            "\u001b[33mWARNING: You are using pip version 20.3.3; however, version 21.0 is available.\n",
            "You should consider upgrading via the '/home/ubuntu/anaconda3/bin/python -m pip install --upgrade pip' command.\u001b[0m\n",
            "Requirement already satisfied: turfpy in ./anaconda3/lib/python3.7/site-packages (0.0.5)\n",
            "Requirement already satisfied: scipy in ./anaconda3/lib/python3.7/site-packages (from turfpy) (1.4.1)\n",
            "Requirement already satisfied: numpy in ./anaconda3/lib/python3.7/site-packages (from turfpy) (1.19.5)\n",
            "Requirement already satisfied: shapely in ./anaconda3/lib/python3.7/site-packages (from turfpy) (1.7.1)\n",
            "Requirement already satisfied: geojson in ./anaconda3/lib/python3.7/site-packages (from turfpy) (2.5.0)\n",
            "\u001b[33mWARNING: You are using pip version 20.3.3; however, version 21.0 is available.\n",
            "You should consider upgrading via the '/home/ubuntu/anaconda3/bin/python -m pip install --upgrade pip' command.\u001b[0m\n",
            "Requirement already satisfied: wandb in ./anaconda3/lib/python3.7/site-packages (0.10.15)\n",
            "Requirement already satisfied: protobuf>=3.12.0 in ./anaconda3/lib/python3.7/site-packages (from wandb) (3.14.0)\n",
            "Requirement already satisfied: docker-pycreds>=0.4.0 in ./anaconda3/lib/python3.7/site-packages (from wandb) (0.4.0)\n",
            "Requirement already satisfied: configparser>=3.8.1 in ./anaconda3/lib/python3.7/site-packages (from wandb) (5.0.1)\n",
            "Requirement already satisfied: Click>=7.0 in ./anaconda3/lib/python3.7/site-packages (from wandb) (7.0)\n",
            "Requirement already satisfied: watchdog<0.10.5,>=0.8.3 in ./anaconda3/lib/python3.7/site-packages (from wandb) (0.10.2)\n",
            "Requirement already satisfied: python-dateutil>=2.6.1 in ./anaconda3/lib/python3.7/site-packages (from wandb) (2.8.1)\n",
            "Requirement already satisfied: requests<3,>=2.0.0 in ./anaconda3/lib/python3.7/site-packages (from wandb) (2.25.1)\n",
            "Requirement already satisfied: six>=1.13.0 in ./anaconda3/lib/python3.7/site-packages (from wandb) (1.15.0)\n",
            "Requirement already satisfied: psutil>=5.0.0 in ./anaconda3/lib/python3.7/site-packages (from wandb) (5.6.7)\n",
            "Requirement already satisfied: subprocess32>=3.5.3 in ./anaconda3/lib/python3.7/site-packages (from wandb) (3.5.4)\n",
            "Requirement already satisfied: GitPython>=1.0.0 in ./anaconda3/lib/python3.7/site-packages (from wandb) (3.1.12)\n",
            "Requirement already satisfied: sentry-sdk>=0.4.0 in ./anaconda3/lib/python3.7/site-packages (from wandb) (0.19.5)\n",
            "Requirement already satisfied: PyYAML in ./anaconda3/lib/python3.7/site-packages (from wandb) (5.3.1)\n",
            "Requirement already satisfied: promise<3,>=2.0 in ./anaconda3/lib/python3.7/site-packages (from wandb) (2.3)\n",
            "Requirement already satisfied: shortuuid>=0.5.0 in ./anaconda3/lib/python3.7/site-packages (from wandb) (1.0.1)\n",
            "Requirement already satisfied: gitdb<5,>=4.0.1 in ./anaconda3/lib/python3.7/site-packages (from GitPython>=1.0.0->wandb) (4.0.5)\n",
            "Requirement already satisfied: smmap<4,>=3.0.1 in ./anaconda3/lib/python3.7/site-packages (from gitdb<5,>=4.0.1->GitPython>=1.0.0->wandb) (3.0.5)\n",
            "Requirement already satisfied: idna<3,>=2.5 in ./anaconda3/lib/python3.7/site-packages (from requests<3,>=2.0.0->wandb) (2.10)\n",
            "Requirement already satisfied: chardet<5,>=3.0.2 in ./anaconda3/lib/python3.7/site-packages (from requests<3,>=2.0.0->wandb) (4.0.0)\n",
            "Requirement already satisfied: urllib3<1.27,>=1.21.1 in ./anaconda3/lib/python3.7/site-packages (from requests<3,>=2.0.0->wandb) (1.26.2)\n",
            "Requirement already satisfied: certifi>=2017.4.17 in ./anaconda3/lib/python3.7/site-packages (from requests<3,>=2.0.0->wandb) (2020.12.5)\n",
            "Requirement already satisfied: pathtools>=0.1.1 in ./anaconda3/lib/python3.7/site-packages (from watchdog<0.10.5,>=0.8.3->wandb) (0.1.2)\n",
            "\u001b[33mWARNING: You are using pip version 20.3.3; however, version 21.0 is available.\n",
            "You should consider upgrading via the '/home/ubuntu/anaconda3/bin/python -m pip install --upgrade pip' command.\u001b[0m\n"
          ],
          "name": "stdout"
        }
      ]
    },
    {
      "cell_type": "markdown",
      "metadata": {
        "id": "aNulh2XvM748"
      },
      "source": [
        "#Start off"
      ]
    },
    {
      "cell_type": "code",
      "metadata": {
        "id": "qLnS-Foc5Zav",
        "colab": {
          "base_uri": "https://localhost:8080/"
        },
        "outputId": "815cfdc3-2909-4d10-e1ca-8a94a667a25f"
      },
      "source": [
        "%matplotlib inline\n",
        "from nuscenes.nuscenes import NuScenes \n",
        "\n",
        "nusc = NuScenes(version='v1.0-trainval', dataroot='data', verbose=True)"
      ],
      "execution_count": 1,
      "outputs": [
        {
          "output_type": "stream",
          "text": [
            "======\n",
            "Loading NuScenes tables for version v1.0-trainval...\n",
            "23 category,\n",
            "8 attribute,\n",
            "4 visibility,\n",
            "64386 instance,\n",
            "12 sensor,\n",
            "10200 calibrated_sensor,\n",
            "2631083 ego_pose,\n",
            "68 log,\n",
            "850 scene,\n",
            "34149 sample,\n",
            "2631083 sample_data,\n",
            "1166187 sample_annotation,\n",
            "4 map,\n",
            "Done loading in 36.950 seconds.\n",
            "======\n",
            "Reverse indexing ...\n",
            "Done reverse indexing in 9.3 seconds.\n",
            "======\n"
          ],
          "name": "stdout"
        }
      ]
    },
    {
      "cell_type": "code",
      "metadata": {
        "id": "fTQzGTHQ0FfF"
      },
      "source": [
        "#import wandb\n",
        "#wandb.init()"
      ],
      "execution_count": 2,
      "outputs": []
    },
    {
      "cell_type": "code",
      "metadata": {
        "id": "kH_zIRd2IP1j"
      },
      "source": [
        "\n",
        "from __future__ import division\n",
        "\n",
        "from terminaltables import AsciiTable\n",
        "\n",
        "import os\n",
        "import sys\n",
        "import time\n",
        "import datetime\n",
        "import argparse\n",
        "\n",
        "import torch\n",
        "from torch.utils.data import DataLoader\n",
        "from torchvision import datasets\n",
        "from torchvision import transforms\n",
        "from torch.autograd import Variable\n",
        "import torch.optim as optim"
      ],
      "execution_count": 3,
      "outputs": []
    },
    {
      "cell_type": "markdown",
      "metadata": {
        "id": "5crs6F9brpwq"
      },
      "source": [
        "#Utils"
      ]
    },
    {
      "cell_type": "code",
      "metadata": {
        "id": "4Q0mYRDmhNzp"
      },
      "source": [
        "#Angle Decoder\n",
        "\n",
        "def angle_decoder(r):\n",
        "  teta1 = torch.asin(2*r[0] - 1)\n",
        "  teta2 = torch.acos(2*r[1] - 1)\n",
        "  teta = 0\n",
        "  if 2*r[0] - 1 >= 0 and 2*r[1] - 1 >= 0:\n",
        "    teta = (teta1+teta2)/2\n",
        "  elif 2*r[0] - 1 >= 0 and 2*r[1] - 1 < 0:\n",
        "    teta = (math.pi-teta1+teta2)/2\n",
        "  elif 2*r[0] - 1 < 0 and 2*r[1] - 1 <= 0:\n",
        "    teta = (math.pi - teta1+2*math.pi -teta2)/2\n",
        "  elif 2*r[0] - 1 < 0 and 2*r[1] - 1 > 0:\n",
        "    teta = (2*math.pi + teta1+2*math.pi - teta2)/2\n",
        "  return teta"
      ],
      "execution_count": 4,
      "outputs": []
    },
    {
      "cell_type": "code",
      "metadata": {
        "id": "O8QQyIXmraeD"
      },
      "source": [
        "#Utils\n",
        "\n",
        "from __future__ import division\n",
        "import math\n",
        "import time\n",
        "import tqdm\n",
        "import torch\n",
        "import torch.nn as nn\n",
        "import torch.nn.functional as F\n",
        "from torch.autograd import Variable\n",
        "import numpy as np\n",
        "import matplotlib.pyplot as plt\n",
        "import matplotlib.patches as patches\n",
        "\n",
        "from shapely.geometry import Polygon\n",
        "\n",
        "\n",
        "def to_cpu(tensor):\n",
        "    return tensor.detach().cpu()\n",
        "\n",
        "def rotate_around_point(point, radians, origin=(0, 0)):\n",
        "  \"\"\"Rotate a point around a given point.\n",
        "  \n",
        "  I call this the \"low performance\" version since it's recalculating\n",
        "  the same values more than once [cos(radians), sin(radians), x-ox, y-oy).\n",
        "  It's more readable than the next function, though.\n",
        "  \"\"\"\n",
        "  x, y = point\n",
        "  ox, oy = origin\n",
        "\n",
        "  qx = ox + math.cos(radians) * (x - ox) + math.sin(radians) * (y - oy)\n",
        "  qy = oy + -math.sin(radians) * (x - ox) + math.cos(radians) * (y - oy)\n",
        "\n",
        "  return qx.item(), qy.item()\n",
        "\n",
        "def load_classes(path):\n",
        "    \"\"\"\n",
        "    Loads class labels at 'path'\n",
        "    \"\"\"\n",
        "    fp = open(path, \"r\")\n",
        "    names = fp.read().split(\"\\n\")[:-1]\n",
        "    return names\n",
        "\n",
        "\n",
        "def weights_init_normal(m):\n",
        "    classname = m.__class__.__name__\n",
        "    if classname.find(\"Conv\") != -1:\n",
        "        torch.nn.init.normal_(m.weight.data, 0.0, 0.02)\n",
        "    elif classname.find(\"BatchNorm2d\") != -1:\n",
        "        torch.nn.init.normal_(m.weight.data, 1.0, 0.02)\n",
        "        torch.nn.init.constant_(m.bias.data, 0.0)\n",
        "\n",
        "\n",
        "def rescale_boxes(boxes, current_dim, original_shape):\n",
        "    \"\"\" Rescales bounding boxes to the original shape \"\"\"\n",
        "    orig_h, orig_w = original_shape\n",
        "    # The amount of padding that was added\n",
        "    pad_x = max(orig_h - orig_w, 0) * (current_dim / max(original_shape))\n",
        "    pad_y = max(orig_w - orig_h, 0) * (current_dim / max(original_shape))\n",
        "    # Image height and width after padding is removed\n",
        "    unpad_h = current_dim - pad_y\n",
        "    unpad_w = current_dim - pad_x\n",
        "    # Rescale bounding boxes to dimension of original image\n",
        "    boxes[:, 0] = ((boxes[:, 0] - pad_x // 2) / unpad_w) * orig_w\n",
        "    boxes[:, 1] = ((boxes[:, 1] - pad_y // 2) / unpad_h) * orig_h\n",
        "    boxes[:, 2] = ((boxes[:, 2] - pad_x // 2) / unpad_w) * orig_w\n",
        "    boxes[:, 3] = ((boxes[:, 3] - pad_y // 2) / unpad_h) * orig_h\n",
        "    return boxes\n",
        "\n",
        "\n",
        "def xywh2xyxy(x):\n",
        "    y = x.new(x.shape)\n",
        "    y[..., 0] = x[..., 0] - x[..., 3] / 2\n",
        "    y[..., 1] = x[..., 1] - x[..., 4] / 2\n",
        "    y[..., 2] = x[..., 2] - x[..., 5] / 2\n",
        "    y[..., 3] = x[..., 0] + x[..., 3] / 2\n",
        "    y[..., 4] = x[..., 1] + x[..., 4] / 2\n",
        "    y[..., 5] = x[..., 2] + x[..., 5] / 2\n",
        "    return y\n",
        "\n",
        "\n",
        "def ap_per_class(tp, conf, pred_cls, target_cls):\n",
        "    \"\"\" Compute the average precision, given the recall and precision curves.\n",
        "    Source: https://github.com/rafaelpadilla/Object-Detection-Metrics.\n",
        "    # Arguments\n",
        "        tp:    True positives (list).\n",
        "        conf:  Objectness value from 0-1 (list).\n",
        "        pred_cls: Predicted object classes (list).\n",
        "        target_cls: True object classes (list).\n",
        "    # Returns\n",
        "        The average precision as computed in py-faster-rcnn.\n",
        "    \"\"\"\n",
        "\n",
        "    # Sort by objectness\n",
        "    i = np.argsort(-conf)\n",
        "    tp, conf, pred_cls = tp[i], conf[i], pred_cls[i]\n",
        "\n",
        "    # Find unique classes\n",
        "    unique_classes = np.unique(target_cls)\n",
        "\n",
        "    # Create Precision-Recall curve and compute AP for each class\n",
        "    ap, p, r = [], [], []\n",
        "    for c in tqdm.tqdm(unique_classes, desc=\"Computing AP\"):\n",
        "        i = pred_cls == c\n",
        "        n_gt = (target_cls == c).sum()  # Number of ground truth objects\n",
        "        n_p = i.sum()  # Number of predicted objects\n",
        "\n",
        "        if n_p == 0 and n_gt == 0:\n",
        "            continue\n",
        "        elif n_p == 0 or n_gt == 0:\n",
        "            ap.append(0)\n",
        "            r.append(0)\n",
        "            p.append(0)\n",
        "        else:\n",
        "            # Accumulate FPs and TPs\n",
        "            fpc = (1 - tp[i]).cumsum()\n",
        "            tpc = (tp[i]).cumsum()\n",
        "\n",
        "            # Recall\n",
        "            recall_curve = tpc / (n_gt + 1e-16)\n",
        "            r.append(recall_curve[-1])\n",
        "\n",
        "            # Precision\n",
        "            precision_curve = tpc / (tpc + fpc)\n",
        "            p.append(precision_curve[-1])\n",
        "\n",
        "            # AP from recall-precision curve\n",
        "            ap.append(compute_ap(recall_curve, precision_curve))\n",
        "\n",
        "    # Compute F1 score (harmonic mean of precision and recall)\n",
        "    p, r, ap = np.array(p), np.array(r), np.array(ap)\n",
        "    f1 = 2 * p * r / (p + r + 1e-16)\n",
        "\n",
        "    return p, r, ap, f1, unique_classes.astype(\"int32\")\n",
        "\n",
        "\n",
        "def compute_ap(recall, precision):\n",
        "    \"\"\" Compute the average precision, given the recall and precision curves.\n",
        "    Code originally from https://github.com/rbgirshick/py-faster-rcnn.\n",
        "\n",
        "    # Arguments\n",
        "        recall:    The recall curve (list).\n",
        "        precision: The precision curve (list).\n",
        "    # Returns\n",
        "        The average precision as computed in py-faster-rcnn.\n",
        "    \"\"\"\n",
        "    # correct AP calculation\n",
        "    # first append sentinel values at the end\n",
        "    mrec = np.concatenate(([0.0], recall, [1.0]))\n",
        "    mpre = np.concatenate(([0.0], precision, [0.0]))\n",
        "\n",
        "    # compute the precision envelope\n",
        "    for i in range(mpre.size - 1, 0, -1):\n",
        "        mpre[i - 1] = np.maximum(mpre[i - 1], mpre[i])\n",
        "\n",
        "    # to calculate area under PR curve, look for points\n",
        "    # where X axis (recall) changes value\n",
        "    i = np.where(mrec[1:] != mrec[:-1])[0]\n",
        "\n",
        "    # and sum (\\Delta recall) * prec\n",
        "    ap = np.sum((mrec[i + 1] - mrec[i]) * mpre[i + 1])\n",
        "    return ap\n",
        "\n",
        "\n",
        "def get_batch_statistics(outputs, targets, iou_threshold):\n",
        "    \"\"\" Compute true positives, predicted scores and predicted labels per sample \"\"\"\n",
        "    batch_metrics = []\n",
        "    for sample_i in range(len(outputs)):\n",
        "\n",
        "        if outputs[sample_i] is None:\n",
        "            continue\n",
        "\n",
        "        output = outputs[sample_i]\n",
        "        pred_boxes = output[:, :8]\n",
        "        pred_scores = output[:, 8]\n",
        "        pred_labels = output[:, -1]\n",
        "\n",
        "        true_positives = np.zeros(pred_boxes.shape[0])\n",
        "\n",
        "        annotations = targets[targets[:, 0] == sample_i][:, 1:]\n",
        "        target_labels = annotations[:, 0] if len(annotations) else []\n",
        "        if len(annotations):\n",
        "            detected_boxes = []\n",
        "            target_boxes = annotations[:, 1:]\n",
        "\n",
        "            for pred_i, (pred_box, pred_label) in enumerate(zip(pred_boxes, pred_labels)):\n",
        "\n",
        "                # If targets are found break\n",
        "                if len(detected_boxes) == len(annotations):\n",
        "                    break\n",
        "\n",
        "                # Ignore if label is not one of the target labels\n",
        "                if pred_label not in target_labels:\n",
        "                    continue\n",
        "\n",
        "                iou, box_index = bbox_iou(pred_box.unsqueeze(0), target_boxes).max(0)\n",
        "                if iou >= iou_threshold and box_index not in detected_boxes:\n",
        "                    true_positives[pred_i] = 1\n",
        "                    detected_boxes += [box_index]\n",
        "        batch_metrics.append([true_positives, pred_scores, pred_labels])\n",
        "    return batch_metrics\n",
        "\n",
        "\n",
        "def bbox_wh_iou(wh1, wh2):\n",
        "    wh2 = wh2.t()\n",
        "    w1, l1, h1 = wh1[0], wh1[1] ,wh1[2]\n",
        "    w2, l2, h2 = wh2[0], wh2[1] ,wh1[2]\n",
        "    inter_area = torch.min(w1, w2) * torch.min(l1, l2) * torch.min(h1, h2)\n",
        "    union_area = (w1 * l1 * h1 + 1e-16) + (w2 * l2 * h2) - inter_area\n",
        "    return inter_area / union_area\n",
        "\n",
        "\n",
        "\n",
        "def bbox_iou(box1, box2):\n",
        "    \"\"\"\n",
        "    Returns the IoU of two bounding boxes\n",
        "    \"\"\"\n",
        "    iou_scores = []\n",
        "    # Transform from center and width to exact coordinates\n",
        "    b1_x1, b1_x3 = box1[:,0] - box1[:,3] / 2, box1[:,0] + box1[:,3] / 2\n",
        "    b1_y1, b1_y3 = box1[:,1] - box1[:,4] / 2, box1[:,1] + box1[:,4] / 2\n",
        "    b1_x2, b1_x4 = b1_x3, b1_x1\n",
        "    b1_y2, b1_y4 = b1_y1, b1_y3\n",
        "    #b1_z1, b1_z3 = box1[2] - box1[5] / 2, box1[2] + box1[5] / 2\n",
        "    b2_x1, b2_x3 = box2[:,0] - box2[:,3] / 2, box2[:,0] + box2[:,3] / 2\n",
        "    b2_x2, b2_x4 = b2_x3, b2_x1\n",
        "    b2_y1, b2_y3 = box2[:,1] - box2[:,4] / 2, box2[:,1] + box2[:,4] / 2\n",
        "    b2_y2, b2_y4 = b2_y1, b2_y3\n",
        "    #b2_z1, b2_z3 = box2[2] - box2[5] / 2, box2[2] + box2[5] / 2\n",
        "\n",
        "    rotation1 = [angle_decoder(r[6:8]) for r in box1]\n",
        "    rotation2 = [angle_decoder(r[6:8]) for r in box2]\n",
        "    \n",
        "\n",
        "\n",
        "    if box1.shape == box2.shape:\n",
        "      for x11,x12,x13,x14,y11,y12,y13,y14,x21,x22,x23,x24,y21,y22,y23,y24,r1,r2, b1,b2 in zip(b1_x1,b1_x2,b1_x3,b1_x4, b1_y1,b1_y2,b1_y3,b1_y4, b2_x1,b2_x2,b2_x3,b2_x4, b2_y1,b2_y2,b2_y3,b2_y4, rotation1,rotation2, box1,box2):\n",
        "        p1 = Polygon([rotate_around_point((x11, y11), r1, (b1[0], b1[1])),\n",
        "             rotate_around_point((x12, y12), r1, (b1[0], b1[1])),\n",
        "             rotate_around_point((x13, y13), r1, (b1[0], b1[1])),\n",
        "             rotate_around_point((x14, y14), r1, (b1[0], b1[1]))])\n",
        "        p2 = Polygon([rotate_around_point((x21, y21), r2, (b2[0], b2[1])),\n",
        "             rotate_around_point((x22, y22), r2, (b2[0], b2[1])),\n",
        "             rotate_around_point((x23, y23), r2, (b2[0], b2[1])),\n",
        "             rotate_around_point((x24, y24), r2, (b2[0], b2[1]))])\n",
        "        p3 = p1.intersection(p2)\n",
        "        inter_area = p3.area\n",
        "        b1_area = p1.area\n",
        "        b2_area = p2.area\n",
        "\n",
        "        iou = inter_area / (b1_area + b2_area - inter_area + 1e-16)\n",
        "        iou_scores.append(iou)\n",
        "\n",
        "        return torch.Tensor(iou_scores).to(device)\n",
        "    else:\n",
        "      x11,x12,x13,x14, y11,y12,y13,y14 = b1_x1[0],b1_x2[0],b1_x3[0],b1_x4[0], b1_y1[0],b1_y2[0],b1_y3[0],b1_y4[0]\n",
        "      r1, b1 = rotation1[0], box1[0]\n",
        "      for x21,x22,x23,x24,y21,y22,y23,y24,r2 ,b2 in zip(b2_x1,b2_x2,b2_x3,b2_x4, b2_y1,b2_y2,b2_y3,b2_y4, rotation2, box2):\n",
        "        p1 = Polygon([rotate_around_point((x11, y11), r1, (b1[0], b1[1])),\n",
        "             rotate_around_point((x12, y12), r1, (b1[0], b1[1])),\n",
        "             rotate_around_point((x13, y13), r1, (b1[0], b1[1])),\n",
        "             rotate_around_point((x14, y14), r1, (b1[0], b1[1]))])\n",
        "        p2 = Polygon([rotate_around_point((x21, y21), r2, (b2[0], b2[1])),\n",
        "             rotate_around_point((x22, y22), r2, (b2[0], b2[1])),\n",
        "             rotate_around_point((x23, y23), r2, (b2[0], b2[1])),\n",
        "             rotate_around_point((x24, y24), r2, (b2[0], b2[1]))])\n",
        "        p3 = p1.intersection(p2)\n",
        "        inter_area = p3.area\n",
        "        b1_area = p1.area\n",
        "        b2_area = p2.area\n",
        "\n",
        "        iou = inter_area / (b1_area + b2_area - inter_area + 1e-16)\n",
        "        iou_scores.append(iou)\n",
        "\n",
        "        return torch.Tensor(iou_scores).to(device)\n",
        "\n",
        "def non_max_suppression(prediction, conf_thres=0.5, nms_thres=0.5):\n",
        "    \"\"\"\n",
        "    Removes detections with lower object confidence score than 'conf_thres' and performs\n",
        "    Non-Maximum Suppression to further filter detections.\n",
        "    Returns detections with shape:\n",
        "        (x1, y1, x2, y2, object_conf, class_score, class_pred)\n",
        "    \"\"\"\n",
        "\n",
        "    # From (center x, center y, width, height) to (x1, y1, x2, y2)\n",
        "    #prediction[..., :6] = xywh2xyxy(prediction[..., :6])\n",
        "    output = [None for _ in range(len(prediction))]\n",
        "    for image_i, image_pred in enumerate(prediction):\n",
        "        # Filter out confidence scores below threshold\n",
        "        image_pred = image_pred[image_pred[:, 8] >= conf_thres]\n",
        "        # If none are remaining => process next image\n",
        "        if not image_pred.size(0):\n",
        "            continue\n",
        "        # Object confidence times class confidence\n",
        "        score = image_pred[:, 8] * image_pred[:, 9:].max(1)[0]\n",
        "        # Sort by it\n",
        "        image_pred = image_pred[(-score).argsort()]\n",
        "        class_confs, class_preds = image_pred[:, 9:].max(1, keepdim=True)\n",
        "        detections = torch.cat((image_pred[:, :9], class_confs.float(), class_preds.float()), 1)\n",
        "        # Perform non-maximum suppression\n",
        "        keep_boxes = []\n",
        "        while detections.size(0):\n",
        "            large_overlap = bbox_iou(detections[0, :8].unsqueeze(0), detections[:, :8]) > nms_thres\n",
        "            label_match = detections[0, -1] == detections[:, -1]\n",
        "            label_match = label_match.cuda()\n",
        "            # Indices of boxes with lower confidence scores, large IOUs and matching labels\n",
        "            invalid = large_overlap & label_match\n",
        "            weights = detections[invalid, 8:9]\n",
        "            # Merge overlapping bboxes by order of confidence\n",
        "            detections[0, :8] = (weights * detections[invalid, :8]).sum(0) / weights.sum()\n",
        "            keep_boxes += [detections[0]]\n",
        "            detections = detections[~invalid]\n",
        "        if keep_boxes:\n",
        "            output[image_i] = torch.stack(keep_boxes)\n",
        "\n",
        "    return output\n",
        "\n",
        "\n",
        "def build_targets(pred_boxes, pred_cls, target, anchors, ignore_thres):\n",
        "    ByteTensor = torch.cuda.ByteTensor if pred_boxes.is_cuda else torch.ByteTensor\n",
        "    FloatTensor = torch.cuda.FloatTensor if pred_boxes.is_cuda else torch.FloatTensor\n",
        "\n",
        "    nB = pred_boxes.size(0)\n",
        "    nA = pred_boxes.size(1)\n",
        "    nC = pred_cls.size(-1)\n",
        "    nG = pred_boxes.size(2)\n",
        "    \n",
        "    obj_mask = ByteTensor(nB, nA, nG, nG).fill_(0)\n",
        "    noobj_mask = ByteTensor(nB, nA, nG, nG).fill_(1)\n",
        "    class_mask = FloatTensor(nB, nA, nG, nG).fill_(0)\n",
        "    iou_scores = FloatTensor(nB, nA, nG, nG).fill_(0)\n",
        "    tx = FloatTensor(nB, nA, nG, nG).fill_(0)\n",
        "    ty = FloatTensor(nB, nA, nG, nG).fill_(0)\n",
        "    tz = FloatTensor(nB, nA, nG, nG).fill_(0)\n",
        "    tw = FloatTensor(nB, nA, nG, nG).fill_(0)\n",
        "    tl = FloatTensor(nB, nA, nG, nG).fill_(0)\n",
        "    th = FloatTensor(nB, nA, nG, nG).fill_(0)\n",
        "    tr1 = FloatTensor(nB, nA, nG, nG).fill_(0)\n",
        "    tr2 = FloatTensor(nB, nA, nG, nG).fill_(0)\n",
        "    tcls = FloatTensor(nB, nA, nG, nG, nC).fill_(0)\n",
        "    \n",
        "    target_boxes = target[:, 2:10]\n",
        "    target_boxes[:, :2] = target_boxes[:, :2] * nG\n",
        "    target_boxes[:, 3:5] = target_boxes[:, 3:5] * nG\n",
        "    target_boxes[:, 5] = target_boxes[:, 5] * 5\n",
        "\n",
        "    gxy = target_boxes[:, :2]\n",
        "    gwlh = target_boxes[:, 3:6]\n",
        "\n",
        "    ious = torch.stack([bbox_wh_iou(anchor, gwlh) for anchor in anchors]) #here\n",
        "    try:\n",
        "      best_ious, best_n = ious.max(0)\n",
        "    except:\n",
        "      tconf = obj_mask.float()\n",
        "      return iou_scores, class_mask, obj_mask, noobj_mask, tx, ty, tz, tw, tl, th, tr1, tr2, tcls, tconf\n",
        "\n",
        "    b, target_labels = target[:, :2].long().t()\n",
        "    \n",
        "    gx, gy = gxy.t()\n",
        "    gw, gl, gh = gwlh.t()\n",
        "    gi, gj = gxy.long().t()\n",
        "    \n",
        "    # Set masks\n",
        "    obj_mask[b, best_n, gj, gi] = 1\n",
        "    noobj_mask[b, best_n, gj, gi] = 0\n",
        "\n",
        "    # Set noobj mask to zero where iou exceeds ignore threshold\n",
        "    for i, anchor_ious in enumerate(ious.t()):\n",
        "        noobj_mask[b[i], anchor_ious > ignore_thres, gj[i], gi[i]] = 0\n",
        "\n",
        "    # Coordinates\n",
        "    tx[b, best_n, gj, gi] = gx - gx.floor()\n",
        "    ty[b, best_n, gj, gi] = gy - gy.floor()\n",
        "    tz[b, best_n, gj, gi] = target_boxes[:,2]\n",
        "    # Width and height\n",
        "    tw[b, best_n, gj, gi] = torch.log(gw / anchors[best_n][:, 0] + 1e-16)\n",
        "    tl[b, best_n, gj, gi] = torch.log(gl / anchors[best_n][:, 1] + 1e-16)\n",
        "    th[b, best_n, gj, gi] = torch.log(gh / anchors[best_n][:, 2] + 1e-16)\n",
        "    \n",
        "    tr1[b, best_n, gj, gi] = target_boxes[:,6]\n",
        "    tr2[b, best_n, gj, gi] = target_boxes[:,7]\n",
        "    # One-hot encoding of label\n",
        "    tcls[b, best_n, gj, gi, target_labels] = 1\n",
        "    # Compute label correctness and iou at best anchor\n",
        "    class_mask[b, best_n, gj, gi] = (pred_cls[b, best_n, gj, gi].argmax(-1) == target_labels).float()\n",
        "    iou_scores[b, best_n, gj, gi] = bbox_iou(pred_boxes[b, best_n, gj, gi], target_boxes)\n",
        "    tconf = obj_mask.float()\n",
        "    target_boxes[:, :2] = target_boxes[:, :2] / nG\n",
        "    target_boxes[:, 3:5] = target_boxes[:, 3:5] / nG\n",
        "    target_boxes[:, 5] = target_boxes[:, 5] / 5\n",
        "    return iou_scores, class_mask, obj_mask, noobj_mask, tx, ty, tz, tw, tl, th, tr1, tr2, tcls, tconf\n"
      ],
      "execution_count": 5,
      "outputs": []
    },
    {
      "cell_type": "code",
      "metadata": {
        "id": "GfNuZWdMrK2w"
      },
      "source": [
        "#Parse_config\n",
        "\n",
        "def parse_model_config(path):\n",
        "    \"\"\"Parses the yolo-v3 layer configuration file and returns module definitions\"\"\"\n",
        "    file = open(path, 'r')\n",
        "    lines = file.read().split('\\n')\n",
        "    lines = [x for x in lines if x and not x.startswith('#')]\n",
        "    lines = [x.rstrip().lstrip() for x in lines] # get rid of fringe whitespaces\n",
        "    module_defs = []\n",
        "    for line in lines:\n",
        "        if line.startswith('['): # This marks the start of a new block\n",
        "            module_defs.append({})\n",
        "            module_defs[-1]['type'] = line[1:-1].rstrip()\n",
        "            if module_defs[-1]['type'] == 'convolutional':\n",
        "                module_defs[-1]['batch_normalize'] = 0\n",
        "        else:\n",
        "            key, value = line.split(\"=\")\n",
        "            value = value.strip()\n",
        "            module_defs[-1][key.rstrip()] = value.strip()\n",
        "\n",
        "    return module_defs\n",
        "\n",
        "def parse_data_config(path):\n",
        "    \"\"\"Parses the data configuration file\"\"\"\n",
        "    options = dict()\n",
        "    options['gpus'] = '0,1,2,3'\n",
        "    options['num_workers'] = '10'\n",
        "    with open(path, 'r') as fp:\n",
        "        lines = fp.readlines()\n",
        "    for line in lines:\n",
        "        line = line.strip()\n",
        "        if line == '' or line.startswith('#'):\n",
        "            continue\n",
        "        key, value = line.split('=')\n",
        "        options[key.strip()] = value.strip()\n",
        "    return options\n"
      ],
      "execution_count": 6,
      "outputs": []
    },
    {
      "cell_type": "code",
      "metadata": {
        "id": "-xUCTALNYmpR"
      },
      "source": [
        "#Draw\n",
        "def draw(targets):\n",
        "  fig = plt.figure(figsize=(8,8))\n",
        "  ax = fig.add_subplot(111)\n",
        "  for target in targets:\n",
        "    rotation = angle_decoder(target[6:8])\n",
        "    length = target[3]\n",
        "    width = target[4]\n",
        "    x_temp, y_temp = rotate_around_point((target[0],-target[1]), -(rotation), origin=(target[0]-width/2, -target[1] - length/2))\n",
        "    x_offset, y_offset = x_temp - target[0], y_temp + target[1]\n",
        "    rectas = patches.Rectangle(xy=((target[0]-width/2) - x_offset, (-target[1] - length/2) - y_offset) ,width=width, height=length, angle = (rotation)*180/math.pi, linewidth=1, color='blue', fill=False)\n",
        "    ax.add_patch(rectas)\n",
        "    ax.scatter(target[0], -target[1], color = 'red', s=10)\n",
        "  ax.scatter(0.5, -0.5)\n",
        "  plt.xlim(0, 1)\n",
        "  plt.ylim(-1,0)\n",
        "  plt.show()"
      ],
      "execution_count": 7,
      "outputs": []
    },
    {
      "cell_type": "code",
      "metadata": {
        "id": "OLTv_sBOJrxK"
      },
      "source": [
        "#Sampler\r\n",
        "import torch\r\n",
        "\r\n",
        "class ResumableRandomSampler(torch.utils.data.Sampler):\r\n",
        "    r\"\"\"Samples elements randomly. If without replacement, then sample from a shuffled dataset.\r\n",
        "    If with replacement, then user can specify :attr:`num_samples` to draw.\r\n",
        "    Arguments:\r\n",
        "        data_source (Dataset): dataset to sample from\r\n",
        "        replacement (bool): samples are drawn on-demand with replacement if ``True``, default=``False``\r\n",
        "        num_samples (int): number of samples to draw, default=`len(dataset)`. This argument\r\n",
        "            is supposed to be specified only when `replacement` is ``True``.\r\n",
        "        generator (Generator): Generator used in sampling.\r\n",
        "    \"\"\"\r\n",
        "    #data_source: Sized\r\n",
        "    #replacement: bool\r\n",
        "\r\n",
        "    def __init__(self, data_source):\r\n",
        "        self.data_source = data_source\r\n",
        "        self.generator = torch.Generator()\r\n",
        "        self.generator.manual_seed(47)\r\n",
        "        \r\n",
        "        self.perm_index = 0\r\n",
        "        self.perm = torch.randperm(self.num_samples, generator=self.generator)\r\n",
        "        \r\n",
        "    @property\r\n",
        "    def num_samples(self) -> int:\r\n",
        "        return len(self.data_source)\r\n",
        "\r\n",
        "    def __iter__(self):\r\n",
        "        if self.perm_index >= len(self.perm):\r\n",
        "            self.perm_index = 0\r\n",
        "            self.perm = torch.randperm(self.num_samples, generator=self.generator)\r\n",
        "            \r\n",
        "        while self.perm_index < len(self.perm):\r\n",
        "            self.perm_index += 1\r\n",
        "            yield self.perm[self.perm_index-1]\r\n",
        "\r\n",
        "    def __len__(self):\r\n",
        "        return self.num_samples\r\n",
        "    \r\n",
        "    def get_state(self):\r\n",
        "        return {\"perm\": self.perm, \"perm_index\": self.perm_index, \"generator_state\": self.generator.get_state()}\r\n",
        "    \r\n",
        "    def set_state(self, state):\r\n",
        "        self.perm = state[\"perm\"]\r\n",
        "        self.perm_index = state[\"perm_index\"]\r\n",
        "        self.generator.set_state(state[\"generator_state\"])"
      ],
      "execution_count": 8,
      "outputs": []
    },
    {
      "cell_type": "code",
      "metadata": {
        "id": "H0phLTHEsL0P"
      },
      "source": [
        "#Dataset\n",
        "\n",
        "import glob\n",
        "import random\n",
        "import os\n",
        "import sys\n",
        "import numpy as np\n",
        "from PIL import Image\n",
        "import torch\n",
        "import torch.nn.functional as F\n",
        "from pyquaternion import Quaternion\n",
        "import math\n",
        "import json\n",
        "\n",
        "\n",
        "from torch.utils.data import Dataset\n",
        "import torchvision.transforms as transforms\n",
        "\n",
        "\n",
        "def pad_to_square(img, pad_value):\n",
        "    c, h, w = img.shape\n",
        "    dim_diff = np.abs(h - w)\n",
        "    # (upper / left) padding and (lower / right) padding\n",
        "    pad1, pad2 = dim_diff // 2, dim_diff - dim_diff // 2\n",
        "    # Determine padding\n",
        "    pad = (0, 0, pad1, pad2) if h <= w else (pad1, pad2, 0, 0)\n",
        "    # Add padding\n",
        "    img = F.pad(img, pad, \"constant\", value=pad_value)\n",
        "\n",
        "    return img, pad\n",
        "\n",
        "\n",
        "def resize(image, size):\n",
        "    image = F.interpolate(image.unsqueeze(0), size=size, mode=\"nearest\").squeeze(0)\n",
        "    return image\n",
        "\n",
        "\n",
        "def random_resize(images, min_size=288, max_size=448):\n",
        "    new_size = random.sample(list(range(min_size, max_size + 1, 32)), 1)[0]\n",
        "    images = F.interpolate(images, size=new_size, mode=\"nearest\")\n",
        "    return images\n",
        "\n",
        "\n",
        "class ImageFolder(Dataset):\n",
        "    def __init__(self, folder_path, img_size=1248):\n",
        "        self.files = sorted(glob.glob(\"%s/*.*\" % folder_path))\n",
        "        self.img_size = img_size\n",
        "\n",
        "    def __getitem__(self, index):\n",
        "        img_path = self.files[index % len(self.files)]\n",
        "        # Extract image as PyTorch tensor\n",
        "        img = transforms.ToTensor()(Image.open(img_path))\n",
        "        # Pad to square resolution\n",
        "        img, _ = pad_to_square(img, 0)\n",
        "        # Resize\n",
        "        img = resize(img, self.img_size)\n",
        "\n",
        "        return img_path, img\n",
        "\n",
        "    def __len__(self):\n",
        "        return len(self.files)\n",
        "\n",
        "\n",
        "class ListDataset(Dataset):\n",
        "    def __init__(self, sample_mapping, img_size=1248, augment=True, multiscale=False, normalized_labels=False, max_height=5, max_length=70, max_width=70):\n",
        "       \n",
        "        self.img_size = img_size\n",
        "        self.max_objects = 100\n",
        "        self.augment = augment\n",
        "        self.multiscale = multiscale\n",
        "        self.normalized_labels = normalized_labels\n",
        "        self.min_size = self.img_size - 3 * 32\n",
        "        self.max_size = self.img_size + 3 * 32\n",
        "        self.batch_count = 0\n",
        "        self.sample_mapping = sample_mapping\n",
        "        self.file_path = 'data/'\n",
        "        \n",
        "\n",
        "        #get categories\n",
        "        self.categories = []\n",
        "        with open('data/v1.0-trainval/category.json') as f:\n",
        "          data = json.load(f)\n",
        "        for d in data:\n",
        "          self.categories.append(d['name'])\n",
        "        self.num_category = len(self.categories)\n",
        "        \n",
        "        #important items for tweking\n",
        "        self.max_height = max_height\n",
        "        self.max_width = max_width\n",
        "        self.max_length = max_length\n",
        "\n",
        "    def quaternion_yaw(self, q: Quaternion) -> float:\n",
        "      \"\"\"\n",
        "      Calculate the yaw angle from a quaternion.\n",
        "      See https://en.wikipedia.org/wiki/Conversion_between_quaternions_and_Euler_angles.\n",
        "      :param q: Quaternion of interest.\n",
        "      :return: Yaw angle in radians.\n",
        "      \"\"\"\n",
        "\n",
        "      a = 2.0 * (q[0] * q[3] + q[1] * q[2])\n",
        "      b = 1.0 - 2.0 * (q[2] ** 2 + q[3] ** 2)\n",
        "\n",
        "      return np.arctan2(a, b)\n",
        "\n",
        "    def rotate_around_point_lowperf(self, point, radians, origin=(0, 0)):\n",
        "      \"\"\"Rotate a point around a given point.\n",
        "      \n",
        "      I call this the \"low performance\" version since it's recalculating\n",
        "      the same values more than once [cos(radians), sin(radians), x-ox, y-oy).\n",
        "      It's more readable than the next function, though.\n",
        "      \"\"\"\n",
        "      x, y = point\n",
        "      ox, oy = origin\n",
        "\n",
        "      qx = ox + math.cos(radians) * (x - ox) + math.sin(radians) * (y - oy)\n",
        "      qy = oy + -math.sin(radians) * (x - ox) + math.cos(radians) * (y - oy)\n",
        "\n",
        "      return qx, qy\n",
        "\n",
        "    def convert_to_top_corner(self, point):\n",
        "      \"\"\"Convert the position with respect to the top left corner\"\"\"\n",
        "      point[0] = self.max_length + point[0]\n",
        "      point[1] = self.max_width - point[1]\n",
        "      return point\n",
        "\n",
        "    def check_cameraregion(self,coordinates,cameras,sample,verbose = False):\n",
        "      \"\"\"To check if the coordinate of the object lies in blacked out camera region\n",
        "       and if so return flag as 0\"\"\"\n",
        "      if verbose:\n",
        "        print(\"Start of Checking for the point :\",coordinates)\n",
        "      angle = 0\n",
        "      flag = False\n",
        "      for camera in cameras:\n",
        "        flag = False\n",
        "        sample_data = nusc.get('sample_data',sample['data'][camera])\n",
        "        sensor = nusc.get('calibrated_sensor',sample_data['calibrated_sensor_token'])\n",
        "        if camera == 'CAM_BACK':\n",
        "          angle = 55/180 * math.pi\n",
        "        else :\n",
        "          angle = 35/180 * math.pi\n",
        "        if verbose:\n",
        "          print(\"Sensor before rotation:\", sensor['translation'][0:2])\n",
        "        x, y = self.rotate_around_point_lowperf(sensor['translation'][0:2], -math.pi/2)\n",
        "        if verbose:\n",
        "          print(\"Sensor after rotation:\", x,y)\n",
        "        rotation = self.quaternion_yaw(sensor['rotation']) +math.pi\n",
        "        vl = coordinates[1] - y - math.tan(rotation+angle) * (coordinates[0]-x)\n",
        "        vr = coordinates[1] - y - math.tan(rotation-angle) * (coordinates[0]-x)\n",
        "        if verbose:\n",
        "          print(camera,\"Angles :\",(rotation+angle)*180/math.pi,(rotation-angle)*180/math.pi)\n",
        "        if (rotation + angle >= math.pi/2 and rotation + angle <= math.pi*3/2):\n",
        "          if vl >= 0:\n",
        "            flag = True\n",
        "        else:\n",
        "          if vl <= 0:\n",
        "            flag = True\n",
        "        if flag:\n",
        "          if (rotation - angle >= math.pi/2 and rotation - angle <= math.pi*3/2):\n",
        "            if vr <= 0:\n",
        "              flag = True\n",
        "              break\n",
        "            else:\n",
        "              flag = False\n",
        "          else:\n",
        "            if vr >= 0:\n",
        "              flag = True\n",
        "              break\n",
        "            else:\n",
        "              flag = False\n",
        "      return flag\n",
        "\n",
        "    def __getitem__(self, index):\n",
        "\n",
        "        token = self.sample_mapping[index]\n",
        "        my_sample = nusc.get('sample',token)\n",
        "        \n",
        "        # ---------\n",
        "        #  Image\n",
        "        # ---------\n",
        "\n",
        "        front = ['CAM_FRONT_LEFT','CAM_FRONT','CAM_FRONT_RIGHT']\n",
        "        back = ['CAM_BACK_RIGHT','CAM_BACK','CAM_BACK_LEFT']\n",
        "\n",
        "        camera = []\n",
        "        blackout_cameras = []\n",
        "\n",
        "        #Augmentation using camera blackout\n",
        "        if self.augment:\n",
        "          if np.random.random() < 0.3:\n",
        "            camera = front + back\n",
        "            numbers = [1,2,3,4,5]\n",
        "            number = random.choice(numbers)\n",
        "            blackout_cameras = random.sample(camera,number)\n",
        "\n",
        "        #Camera image stitching and applying blackout from the selected cameras\n",
        "        for f,b in zip(front,back):\n",
        "          sensorf = nusc.get('sample_data',my_sample['data'][f])\n",
        "          sensorb = nusc.get('sample_data',my_sample['data'][b])\n",
        "\n",
        "          if f == 'CAM_FRONT_LEFT' and b == 'CAM_BACK_RIGHT':\n",
        "            image_dataf = transforms.ToTensor()(Image.open(self.file_path + sensorf['filename']).convert('RGB'))\n",
        "            if 'CAM_FRONT_LEFT' in blackout_cameras:\n",
        "              image_dataf = torch.zeros(image_dataf.shape)\n",
        "            image_datab = transforms.ToTensor()(Image.open(self.file_path + sensorb['filename']).convert('RGB'))\n",
        "            if 'CAM_BACK_RIGHT' in blackout_cameras:\n",
        "              image_datab = torch.zeros(image_dataf.shape)\n",
        "          else:\n",
        "            data = transforms.ToTensor()(Image.open(self.file_path + sensorf['filename']).convert('RGB'))\n",
        "            if f in blackout_cameras:\n",
        "              data = torch.zeros(data.shape)\n",
        "            image_dataf = torch.cat((image_dataf,data),2)\n",
        "            data = transforms.ToTensor()(Image.open(self.file_path + sensorb['filename']).convert('RGB'))\n",
        "            if b in blackout_cameras:\n",
        "              data = torch.zeros(data.shape)\n",
        "            image_datab = torch.cat((image_datab,data),2)\n",
        "        #fliping the bottem image for more consistency\n",
        "        image_datab = torch.flip(image_datab, [-1])\n",
        "        #concatinating the top and bottem image\n",
        "        image_data = torch.cat((image_dataf,image_datab),1)\n",
        "        #resizeing the image to square\n",
        "        image_data, _ = pad_to_square(image_data,0)\n",
        "\n",
        "        \n",
        "        # ---------\n",
        "        #  Label\n",
        "        # ---------\n",
        "\n",
        "        l_factor, w_factor, h_factor = (self.max_length, self.max_width, self.max_height) if self.normalized_labels else (1, 1, 1)\n",
        "        targets = None\n",
        "\n",
        "\n",
        "        annos_list = my_sample['anns']\n",
        "        converted_anotations = []\n",
        "        #ego pose\n",
        "        sensor = 'LIDAR_TOP'\n",
        "        lidar_top_data = nusc.get('sample_data', my_sample['data'][sensor])\n",
        "        ego_pose = nusc.get('ego_pose', lidar_top_data['ego_pose_token'])\n",
        "        ego_yaw = self.quaternion_yaw(ego_pose['rotation']) - math.pi/2\n",
        "\n",
        "        boxes = []\n",
        "        t=[]\n",
        "        original_ego_yaw = ego_yaw + math.pi/2 #converting back to original value\n",
        "\n",
        "        for annos in annos_list:\n",
        "          annotation = nusc.get('sample_annotation', annos)\n",
        "          vis = nusc.get('visibility',annotation['visibility_token'])\n",
        "          vis = vis['level'][1:].split(\"-\")\n",
        "          if int(vis[1]) <= 40 :\n",
        "            continue\n",
        "          #print(vis)\n",
        "          box = []\n",
        "\n",
        "          #xyz\n",
        "          flag = False\n",
        "          cordinates = [annotation['translation'][i] - ego_pose['translation'][i] for i in range(3)]\n",
        "          cordinates[0], cordinates[1] = self.rotate_around_point_lowperf(cordinates[:2], ego_yaw, origin=(0, 0))\n",
        "          if self.augment :\n",
        "            flag = self.check_cameraregion(cordinates,blackout_cameras,my_sample)\n",
        "          cordinates = self.convert_to_top_corner(cordinates)\n",
        "          if cordinates[0] > 2*self.max_width or cordinates[0] < 0 or cordinates[1] > 2*self.max_length or cordinates[1] < 0 or flag:# or (self.augment and self.check_cameraregion() == 0):\n",
        "            continue\n",
        "\n",
        "          #whl\n",
        "          size = annotation['size']\n",
        "\n",
        "          #angle r1, r2\n",
        "            #converting to relative angle (0-360)\n",
        "          rotation_yaw = self.quaternion_yaw(annotation['rotation']) - original_ego_yaw\n",
        "          if rotation_yaw < 0:\n",
        "            rotation_yaw += math.pi*2\n",
        "          r1 = (1 + math.sin(rotation_yaw))/2\n",
        "          r2 = (1 + math.cos(rotation_yaw))/2\n",
        "\n",
        "          #category\n",
        "          category_index = self.categories.index(annotation['category_name'])\n",
        "\n",
        "          #Appending to Box\n",
        "          box.append(category_index)\n",
        "          for i,j in zip(cordinates, [self.max_width*2, self.max_length*2, self.max_height]):\n",
        "            box.append(i/j)\n",
        "          for i,j in zip(size, [self.max_width*2, self.max_length*2, self.max_height]):\n",
        "            box.append(i/j)\n",
        "          box.append(r1)\n",
        "          box.append(r2)\n",
        "\n",
        "          #Appending to Boxes\n",
        "          boxes.append(box)\n",
        "          t.append(annos)\n",
        "\n",
        "        boxes = torch.Tensor(boxes)\n",
        "\n",
        "        targets = torch.zeros((len(boxes), 10))\n",
        "        if len(boxes)> 0:\n",
        "          targets[:, 1:] = boxes\n",
        "\n",
        "        # Apply augmentations\n",
        "        #if self.augment:\n",
        "        #  image_data, targets = horisontal_flip(image_data, targets, Verbose = True)\n",
        "        #    if np.random.random() < 0.5:\n",
        "        return image_data, targets\n",
        "\n",
        "    def collate_fn(self, batch):\n",
        "        imgs, targets = list(zip(*batch))\n",
        "        # Remove empty placeholder targets\n",
        "        targets = [boxes for boxes in targets if boxes is not None]\n",
        "        # Add sample index to targets\n",
        "        for i, boxes in enumerate(targets):\n",
        "            targets[i][:, 0] = i\n",
        "        targets = torch.cat(targets, 0)\n",
        "        \"\"\"\n",
        "        # Selects new image size every tenth batch\n",
        "        if self.multiscale and self.batch_count % 10 == 0:\n",
        "            self.img_size = random.choice(range(self.min_size, self.max_size + 1, 32))\n",
        "        \"\"\"\n",
        "        # Resize images to input shape\n",
        "        imgs = torch.stack([resize(img, self.img_size) for img in imgs])\n",
        "        self.batch_count += 1\n",
        "        \n",
        "        return imgs, targets\n",
        "\n",
        "    def __len__(self):\n",
        "        return len(self.sample_mapping)\n"
      ],
      "execution_count": 9,
      "outputs": []
    },
    {
      "cell_type": "code",
      "metadata": {
        "id": "TOKpxjoY8_8i"
      },
      "source": [
        "#import matplotlib.pyplot as plt\n",
        "#i = ListDataset(train_samples)\n",
        "#img, targets = i.__getitem__(2)\n",
        "#plt.imshow(  img.permute(1, 2, 0)  )\n",
        "#print(targets)"
      ],
      "execution_count": 10,
      "outputs": []
    },
    {
      "cell_type": "code",
      "metadata": {
        "id": "LklsSzDNP6s8"
      },
      "source": [
        "#img, targets = i.__getitem__(1)\n",
        "#plt.imshow(  img.permute(1, 2, 0)  )"
      ],
      "execution_count": 11,
      "outputs": []
    },
    {
      "cell_type": "markdown",
      "metadata": {
        "id": "takpM5RvrupZ"
      },
      "source": [
        "#MODEL.py"
      ]
    },
    {
      "cell_type": "code",
      "metadata": {
        "id": "zDDUlseGjmRJ"
      },
      "source": [
        "#MODEL\n",
        "\n",
        "from __future__ import division\n",
        "\n",
        "import torch\n",
        "import torch.nn as nn\n",
        "import torch.nn.functional as F\n",
        "from torch.autograd import Variable\n",
        "import numpy as np\n",
        "\n",
        "\n",
        "import matplotlib.pyplot as plt\n",
        "import matplotlib.patches as patches\n",
        "\n",
        "\n",
        "def create_modules(module_defs):\n",
        "    \"\"\"\n",
        "    Constructs module list of layer blocks from module configuration in module_defs\n",
        "    \"\"\"\n",
        "    hyperparams = module_defs.pop(0)\n",
        "    output_filters = [int(hyperparams[\"channels\"])]\n",
        "    module_list = nn.ModuleList()\n",
        "    for module_i, module_def in enumerate(module_defs):\n",
        "        modules = nn.Sequential()\n",
        "\n",
        "        if module_def[\"type\"] == \"convolutional\":\n",
        "            bn = int(module_def[\"batch_normalize\"])\n",
        "            filters = int(module_def[\"filters\"])\n",
        "            kernel_size = int(module_def[\"size\"])\n",
        "            pad = (kernel_size - 1) // 2\n",
        "            modules.add_module(\n",
        "                f\"conv_{module_i}\",\n",
        "                nn.Conv2d(\n",
        "                    in_channels=output_filters[-1],\n",
        "                    out_channels=filters,\n",
        "                    kernel_size=kernel_size,\n",
        "                    stride=int(module_def[\"stride\"]),\n",
        "                    padding=pad,\n",
        "                    bias=not bn,\n",
        "                ),\n",
        "            )\n",
        "            if bn:\n",
        "                modules.add_module(f\"batch_norm_{module_i}\", nn.BatchNorm2d(filters, momentum=0.9, eps=1e-5))\n",
        "            if module_def[\"activation\"] == \"leaky\":\n",
        "                modules.add_module(f\"leaky_{module_i}\", nn.LeakyReLU(0.1))\n",
        "\n",
        "        elif module_def[\"type\"] == \"maxpool\":\n",
        "            kernel_size = int(module_def[\"size\"])\n",
        "            stride = int(module_def[\"stride\"])\n",
        "            if kernel_size == 2 and stride == 1:\n",
        "                modules.add_module(f\"_debug_padding_{module_i}\", nn.ZeroPad2d((0, 1, 0, 1)))\n",
        "            maxpool = nn.MaxPool2d(kernel_size=kernel_size, stride=stride, padding=int((kernel_size - 1) // 2))\n",
        "            modules.add_module(f\"maxpool_{module_i}\", maxpool)\n",
        "\n",
        "        elif module_def[\"type\"] == \"upsample\":\n",
        "            upsample = Upsample(scale_factor=int(module_def[\"stride\"]), mode=\"nearest\")\n",
        "            modules.add_module(f\"upsample_{module_i}\", upsample)\n",
        "\n",
        "        elif module_def[\"type\"] == \"route\":\n",
        "            layers = [int(x) for x in module_def[\"layers\"].split(\",\")]\n",
        "            filters = sum([output_filters[1:][i] for i in layers])\n",
        "            modules.add_module(f\"route_{module_i}\", EmptyLayer())\n",
        "\n",
        "        elif module_def[\"type\"] == \"shortcut\":\n",
        "            filters = output_filters[1:][int(module_def[\"from\"])]\n",
        "            modules.add_module(f\"shortcut_{module_i}\", EmptyLayer())\n",
        "\n",
        "        elif module_def[\"type\"] == \"yolo\":\n",
        "            anchor_idxs = [int(x) for x in module_def[\"mask\"].split(\",\")]\n",
        "            # Extract anchors\n",
        "            anchors = [float(x) for x in module_def[\"anchors\"].split(\",\")]\n",
        "            anchors = [(anchors[i], anchors[i + 1], anchors[i + 2]) for i in range(0, len(anchors), 3)]\n",
        "            anchors = [anchors[i] for i in anchor_idxs]\n",
        "            num_classes = int(module_def[\"classes\"])\n",
        "            img_size = int(hyperparams[\"height\"])\n",
        "            # Define detection layer\n",
        "            yolo_layer = YOLOLayer(anchors, num_classes, img_size)\n",
        "            modules.add_module(f\"yolo_{module_i}\", yolo_layer)\n",
        "        # Register module list and number of output filters\n",
        "        module_list.append(modules)\n",
        "        output_filters.append(filters)\n",
        "\n",
        "    return hyperparams, module_list\n",
        "\n",
        "\n",
        "class Upsample(nn.Module):\n",
        "    \"\"\" nn.Upsample is deprecated \"\"\"\n",
        "\n",
        "    def __init__(self, scale_factor, mode=\"nearest\"):\n",
        "        super(Upsample, self).__init__()\n",
        "        self.scale_factor = scale_factor\n",
        "        self.mode = mode\n",
        "\n",
        "    def forward(self, x):\n",
        "        x = F.interpolate(x, scale_factor=self.scale_factor, mode=self.mode)\n",
        "        return x\n",
        "\n",
        "\n",
        "class EmptyLayer(nn.Module):\n",
        "    \"\"\"Placeholder for 'route' and 'shortcut' layers\"\"\"\n",
        "\n",
        "    def __init__(self):\n",
        "        super(EmptyLayer, self).__init__()\n",
        "\n",
        "\n",
        "class YOLOLayer(nn.Module):\n",
        "    \"\"\"Detection layer\"\"\"\n",
        "\n",
        "    def __init__(self, anchors, num_classes, img_dim=1248):\n",
        "        super(YOLOLayer, self).__init__()\n",
        "        self.anchors = anchors\n",
        "        self.num_anchors = len(anchors)\n",
        "        self.num_classes = num_classes\n",
        "        self.ignore_thres = 0.5\n",
        "        self.mse_loss = nn.MSELoss()\n",
        "        self.bce_loss = nn.BCELoss()\n",
        "        self.obj_scale = 1\n",
        "        self.noobj_scale = 100\n",
        "        self.metrics = {}\n",
        "        self.img_dim = img_dim\n",
        "        self.grid_size = 0  # grid size\n",
        "\n",
        "    def compute_grid_offsets(self, grid_size, cuda=True):\n",
        "        self.grid_size = grid_size\n",
        "        g = self.grid_size\n",
        "        FloatTensor = torch.cuda.FloatTensor if cuda else torch.FloatTensor\n",
        "        self.stride = self.img_dim / self.grid_size\n",
        "        # Calculate offsets for each grid\n",
        "        self.grid_x = torch.arange(g).repeat(g, 1).view([1, 1, g, g]).type(FloatTensor)\n",
        "        self.grid_y = torch.arange(g).repeat(g, 1).t().view([1, 1, g, g]).type(FloatTensor)\n",
        "        self.scaled_anchors = FloatTensor([(a_w / self.stride, a_l / self.stride, a_h ) for a_w, a_l, a_h in self.anchors])\n",
        "        self.anchor_w = self.scaled_anchors[:, 0:1].view((1, self.num_anchors, 1, 1))\n",
        "        self.anchor_l = self.scaled_anchors[:, 1:2].view((1, self.num_anchors, 1, 1))\n",
        "        self.anchor_h = self.scaled_anchors[:, 2:3].view((1, self.num_anchors, 1, 1))\n",
        "\n",
        "    def forward(self, x, targets=None, img_dim=None):\n",
        "\n",
        "        # Tensors for cuda support\n",
        "        FloatTensor = torch.cuda.FloatTensor if x.is_cuda else torch.FloatTensor\n",
        "        LongTensor = torch.cuda.LongTensor if x.is_cuda else torch.LongTensor\n",
        "        ByteTensor = torch.cuda.ByteTensor if x.is_cuda else torch.ByteTensor\n",
        "\n",
        "        self.img_dim = img_dim\n",
        "        num_samples = x.size(0)\n",
        "        grid_size = x.size(2)\n",
        "        prediction = (\n",
        "            x.view(num_samples, self.num_anchors, self.num_classes + 9, grid_size, grid_size)\n",
        "            .permute(0, 1, 3, 4, 2)\n",
        "            .contiguous()\n",
        "        )\n",
        "\n",
        "        # Get outputs\n",
        "        x = torch.sigmoid(prediction[..., 0])  # Center x\n",
        "        y = torch.sigmoid(prediction[..., 1])  # Center y\n",
        "        z = torch.sigmoid(prediction[..., 2])  # Center z\n",
        "        l = prediction[..., 3]  # Length\n",
        "        w = prediction[..., 4]  # Width\n",
        "        h = prediction[..., 5]  # Height\n",
        "        r1 = torch.sigmoid(prediction[..., 6])  # Rotation r1\n",
        "        r2 = torch.sigmoid(prediction[..., 7])  # Rotation r2\n",
        "        pred_conf = torch.sigmoid(prediction[..., 8])  # Conf\n",
        "        pred_cls = torch.sigmoid(prediction[..., 9:])  # Cls pred.\n",
        "        \n",
        "        # If grid size does not match current we compute new offsets\n",
        "        if grid_size != self.grid_size:\n",
        "            self.compute_grid_offsets(grid_size, cuda=x.is_cuda)\n",
        "        # Add offset and scale with anchors\n",
        "        pred_boxes = FloatTensor(prediction[..., :8].shape)\n",
        "        pred_boxes[..., 0] = x.data + self.grid_x\n",
        "        pred_boxes[..., 1] = y.data + self.grid_y\n",
        "        pred_boxes[..., 2] = z.data\n",
        "        pred_boxes[..., 3] = torch.exp(w.data) * self.anchor_w\n",
        "        pred_boxes[..., 4] = torch.exp(l.data) * self.anchor_l\n",
        "        pred_boxes[..., 5] = torch.exp(h.data) * self.anchor_h\n",
        "        pred_boxes[..., 6] = r1.data\n",
        "        pred_boxes[..., 7] = r2.data\n",
        "\n",
        "        replacement = pred_boxes.view(num_samples, -1, 8)\n",
        "        replacement[...,:2] = replacement[...,:2] * self.stride\n",
        "        replacement[...,2] = replacement[...,2] * 5\n",
        "        replacement[...,3:5] = replacement[...,3:5] * self.stride\n",
        "        replacement[...,5] = replacement[...,5]\n",
        "        replacement[...,6] = replacement[...,6]\n",
        "        replacement[...,7] = replacement[...,7]\n",
        "\n",
        "\n",
        "        output = torch.cat(\n",
        "            (\n",
        "                replacement,\n",
        "                pred_conf.view(num_samples, -1, 1),\n",
        "                pred_cls.view(num_samples, -1, self.num_classes),\n",
        "            ),\n",
        "            -1,\n",
        "        )\n",
        "\n",
        "        if targets is None:\n",
        "            return output, 0\n",
        "        else:\n",
        "            iou_scores, class_mask, obj_mask, noobj_mask, tx, ty, tz, tw, tl, th, tr1, tr2, tcls, tconf = build_targets(\n",
        "                pred_boxes=pred_boxes,\n",
        "                pred_cls=pred_cls,\n",
        "                target=targets,\n",
        "                anchors=self.scaled_anchors,\n",
        "                ignore_thres=self.ignore_thres,\n",
        "            )\n",
        "            # Loss : Mask outputs to ignore non-existing objects (except with conf. loss)\n",
        "            loss_x = self.mse_loss(x[obj_mask], tx[obj_mask])\n",
        "            loss_y = self.mse_loss(y[obj_mask], ty[obj_mask])\n",
        "            loss_z = self.mse_loss(z[obj_mask], tz[obj_mask])\n",
        "            loss_w = self.mse_loss(w[obj_mask], tw[obj_mask])\n",
        "            loss_l = self.mse_loss(l[obj_mask], tl[obj_mask])\n",
        "            loss_h = self.mse_loss(h[obj_mask], th[obj_mask])\n",
        "            loss_r1 = self.mse_loss(r1[obj_mask], tr1[obj_mask])\n",
        "            loss_r2 = self.mse_loss(r2[obj_mask], tr2[obj_mask])\n",
        "            loss_conf_obj = self.bce_loss(pred_conf[obj_mask], tconf[obj_mask])\n",
        "            loss_conf_noobj = self.bce_loss(pred_conf[noobj_mask], tconf[noobj_mask])\n",
        "            loss_conf = self.obj_scale * loss_conf_obj + self.noobj_scale * loss_conf_noobj\n",
        "            loss_cls = self.bce_loss(pred_cls[obj_mask], tcls[obj_mask])\n",
        "            total_loss = loss_x + loss_y + loss_z + loss_w + loss_l + loss_h + loss_r1 + loss_r2 + loss_conf + loss_cls\n",
        "\n",
        "            # Metrics\n",
        "            cls_acc = 100 * class_mask[obj_mask].mean()\n",
        "            conf_obj = pred_conf[obj_mask].mean()\n",
        "            conf_noobj = pred_conf[noobj_mask].mean()\n",
        "            conf50 = (pred_conf > 0.5).float()\n",
        "            iou50 = (iou_scores > 0.5).float()\n",
        "            iou75 = (iou_scores > 0.75).float()\n",
        "            detected_mask = conf50 * class_mask * tconf\n",
        "            precision = torch.sum(iou50 * detected_mask) / (conf50.sum() + 1e-16)\n",
        "            recall50 = torch.sum(iou50 * detected_mask) / (obj_mask.sum() + 1e-16)\n",
        "            recall75 = torch.sum(iou75 * detected_mask) / (obj_mask.sum() + 1e-16)\n",
        "\n",
        "            self.metrics = {\n",
        "                \"loss\": to_cpu(total_loss).item(),\n",
        "                \"x\": to_cpu(loss_x).item(),\n",
        "                \"y\": to_cpu(loss_y).item(),\n",
        "                \"z\": to_cpu(loss_z).item(),\n",
        "                \"w\": to_cpu(loss_w).item(),\n",
        "                \"l\": to_cpu(loss_l).item(),\n",
        "                \"h\": to_cpu(loss_h).item(),\n",
        "                \"r1\": to_cpu(loss_r1).item(),\n",
        "                \"r2\": to_cpu(loss_r2).item(),\n",
        "                \"conf\": to_cpu(loss_conf).item(),\n",
        "                \"cls\": to_cpu(loss_cls).item(),\n",
        "                \"cls_acc\": to_cpu(cls_acc).item(),\n",
        "                \"recall50\": to_cpu(recall50).item(),\n",
        "                \"recall75\": to_cpu(recall75).item(),\n",
        "                \"precision\": to_cpu(precision).item(),\n",
        "                \"conf_obj\": to_cpu(conf_obj).item(),\n",
        "                \"conf_noobj\": to_cpu(conf_noobj).item(),\n",
        "                \"grid_size\": grid_size,\n",
        "            }\n",
        "\n",
        "            return output, total_loss\n",
        "\n",
        "\n",
        "class Darknet(nn.Module):\n",
        "    \"\"\"YOLOv3 object detection model\"\"\"\n",
        "\n",
        "    def __init__(self, config_path, img_size=1248):\n",
        "        super(Darknet, self).__init__()\n",
        "        self.module_defs = parse_model_config(config_path)\n",
        "        self.hyperparams, self.module_list = create_modules(self.module_defs)\n",
        "        self.yolo_layers = [layer[0] for layer in self.module_list if hasattr(layer[0], \"metrics\")]\n",
        "        self.img_size = img_size\n",
        "        self.seen = 0\n",
        "        self.header_info = np.array([0, 0, 0, self.seen, 0], dtype=np.int32)\n",
        "\n",
        "    def forward(self, x, targets=None):\n",
        "        img_dim = x.shape[2]\n",
        "        loss = 0\n",
        "        layer_outputs, yolo_outputs = [], []\n",
        "        for i, (module_def, module) in enumerate(zip(self.module_defs, self.module_list)):\n",
        "            if module_def[\"type\"] in [\"convolutional\", \"upsample\", \"maxpool\"]:\n",
        "                x = module(x)\n",
        "            elif module_def[\"type\"] == \"route\":\n",
        "                x = torch.cat([layer_outputs[int(layer_i)] for layer_i in module_def[\"layers\"].split(\",\")], 1)\n",
        "            elif module_def[\"type\"] == \"shortcut\":\n",
        "                layer_i = int(module_def[\"from\"])\n",
        "                x = layer_outputs[-1] + layer_outputs[layer_i]\n",
        "            elif module_def[\"type\"] == \"yolo\":\n",
        "                x, layer_loss = module[0](x, targets, img_dim)\n",
        "                loss += layer_loss\n",
        "                yolo_outputs.append(x)\n",
        "            layer_outputs.append(x)\n",
        "        yolo_outputs = to_cpu(torch.cat(yolo_outputs, 1))\n",
        "        return yolo_outputs if targets is None else (loss, yolo_outputs)\n",
        "\n",
        "    def load_darknet_weights(self, weights_path):\n",
        "        \"\"\"Parses and loads the weights stored in 'weights_path'\"\"\"\n",
        "\n",
        "        # Open the weights file\n",
        "        with open(weights_path, \"rb\") as f:\n",
        "            header = np.fromfile(f, dtype=np.int32, count=5)  # First five are header values\n",
        "            self.header_info = header  # Needed to write header when saving weights\n",
        "            self.seen = header[3]  # number of images seen during training\n",
        "            weights = np.fromfile(f, dtype=np.float32)  # The rest are weights\n",
        "\n",
        "        # Establish cutoff for loading backbone weights\n",
        "        cutoff = None\n",
        "        if \"darknet53.conv.74\" in weights_path:\n",
        "            cutoff = 75\n",
        "\n",
        "        ptr = 0\n",
        "        for i, (module_def, module) in enumerate(zip(self.module_defs, self.module_list)):\n",
        "            if i == cutoff:\n",
        "                break\n",
        "            if module_def[\"type\"] == \"convolutional\":\n",
        "                conv_layer = module[0]\n",
        "                if module_def[\"batch_normalize\"]:\n",
        "                    # Load BN bias, weights, running mean and running variance\n",
        "                    bn_layer = module[1]\n",
        "                    num_b = bn_layer.bias.numel()  # Number of biases\n",
        "                    # Bias\n",
        "                    bn_b = torch.from_numpy(weights[ptr : ptr + num_b]).view_as(bn_layer.bias)\n",
        "                    bn_layer.bias.data.copy_(bn_b)\n",
        "                    ptr += num_b\n",
        "                    # Weight\n",
        "                    bn_w = torch.from_numpy(weights[ptr : ptr + num_b]).view_as(bn_layer.weight)\n",
        "                    bn_layer.weight.data.copy_(bn_w)\n",
        "                    ptr += num_b\n",
        "                    # Running Mean\n",
        "                    bn_rm = torch.from_numpy(weights[ptr : ptr + num_b]).view_as(bn_layer.running_mean)\n",
        "                    bn_layer.running_mean.data.copy_(bn_rm)\n",
        "                    ptr += num_b\n",
        "                    # Running Var\n",
        "                    bn_rv = torch.from_numpy(weights[ptr : ptr + num_b]).view_as(bn_layer.running_var)\n",
        "                    bn_layer.running_var.data.copy_(bn_rv)\n",
        "                    ptr += num_b\n",
        "                else:\n",
        "                    # Load conv. bias\n",
        "                    num_b = conv_layer.bias.numel()\n",
        "                    conv_b = torch.from_numpy(weights[ptr : ptr + num_b]).view_as(conv_layer.bias)\n",
        "                    conv_layer.bias.data.copy_(conv_b)\n",
        "                    ptr += num_b\n",
        "                # Load conv. weights\n",
        "                num_w = conv_layer.weight.numel()\n",
        "                conv_w = torch.from_numpy(weights[ptr : ptr + num_w]).view_as(conv_layer.weight)\n",
        "                conv_layer.weight.data.copy_(conv_w)\n",
        "                ptr += num_w\n",
        "\n",
        "    def save_darknet_weights(self, path, cutoff=-1):\n",
        "        \"\"\"\n",
        "            @:param path    - path of the new weights file\n",
        "            @:param cutoff  - save layers between 0 and cutoff (cutoff = -1 -> all are saved)\n",
        "        \"\"\"\n",
        "        fp = open(path, \"wb\")\n",
        "        self.header_info[3] = self.seen\n",
        "        self.header_info.tofile(fp)\n",
        "\n",
        "        # Iterate through layers\n",
        "        for i, (module_def, module) in enumerate(zip(self.module_defs[:cutoff], self.module_list[:cutoff])):\n",
        "            if module_def[\"type\"] == \"convolutional\":\n",
        "                conv_layer = module[0]\n",
        "                # If batch norm, load bn first\n",
        "                if module_def[\"batch_normalize\"]:\n",
        "                    bn_layer = module[1]\n",
        "                    bn_layer.bias.data.cpu().numpy().tofile(fp)\n",
        "                    bn_layer.weight.data.cpu().numpy().tofile(fp)\n",
        "                    bn_layer.running_mean.data.cpu().numpy().tofile(fp)\n",
        "                    bn_layer.running_var.data.cpu().numpy().tofile(fp)\n",
        "                # Load conv bias\n",
        "                else:\n",
        "                    conv_layer.bias.data.cpu().numpy().tofile(fp)\n",
        "                # Load conv weights\n",
        "                conv_layer.weight.data.cpu().numpy().tofile(fp)\n",
        "\n",
        "        fp.close()\n"
      ],
      "execution_count": 12,
      "outputs": []
    },
    {
      "cell_type": "markdown",
      "metadata": {
        "id": "t51RsFcXEMHk"
      },
      "source": [
        "#Evaluation"
      ]
    },
    {
      "cell_type": "code",
      "metadata": {
        "id": "VUGbtD3-FLvV"
      },
      "source": [
        "from __future__ import division\n",
        "\n",
        "\n",
        "import os\n",
        "import sys\n",
        "import time\n",
        "import datetime\n",
        "import argparse\n",
        "import tqdm\n",
        "\n",
        "import torch\n",
        "from torch.utils.data import DataLoader\n",
        "from torchvision import datasets\n",
        "from torchvision import transforms\n",
        "from torch.autograd import Variable\n",
        "import torch.optim as optim\n",
        "\n",
        "\n",
        "def evaluate(model, data_samples, iou_thres, conf_thres, nms_thres, img_size, batch_size):\n",
        "    model.eval()\n",
        "\n",
        "    # Get dataloader\n",
        "    dataset = ListDataset(data_samples, img_size=img_size, augment=False, multiscale=False)\n",
        "    dataloader = torch.utils.data.DataLoader(\n",
        "        dataset, batch_size=batch_size, shuffle=False, num_workers=0, collate_fn=dataset.collate_fn\n",
        "    )\n",
        "\n",
        "    Tensor = torch.cuda.FloatTensor if torch.cuda.is_available() else torch.FloatTensor\n",
        "\n",
        "    labels = []\n",
        "    sample_metrics = []  # List of tuples (TP, confs, pred)\n",
        "    for batch_i, (imgs, targets) in enumerate(tqdm.tqdm(dataloader, desc=\"Detecting objects\")):\n",
        "\n",
        "        # Extract labels\n",
        "        labels += targets[:, 1].tolist()\n",
        "        # Rescale target\n",
        "        targets[:, 2:8] = xywh2xyxy(targets[:, 2:8])\n",
        "        targets[:, 2:8] *= img_size\n",
        "\n",
        "        imgs = Variable(imgs.type(Tensor), requires_grad=False)\n",
        "\n",
        "        with torch.no_grad():\n",
        "            outputs = model(imgs)\n",
        "            outputs = non_max_suppression(outputs, conf_thres=conf_thres, nms_thres=nms_thres)\n",
        "\n",
        "        sample_metrics += get_batch_statistics(outputs, targets, iou_threshold=iou_thres)\n",
        "        #print(sample_metrics)\n",
        "        del imgs,targets,outputs\n",
        "        torch.cuda.empty_cache()\n",
        "    # Concatenate sample statistics\n",
        "    if not sample_metrics :\n",
        "      precision, recall, AP, f1, ap_class = np.asarray([0]),np.asarray([0]),np.asarray([0]),np.asarray([0]),[]\n",
        "    else :\n",
        "      true_positives, pred_scores, pred_labels = [np.concatenate(x, 0) for x in list(zip(*sample_metrics))]\n",
        "      precision, recall, AP, f1, ap_class = ap_per_class(true_positives, pred_scores, pred_labels, labels)\n",
        "\n",
        "    return precision, recall, AP, f1, ap_class"
      ],
      "execution_count": 13,
      "outputs": []
    },
    {
      "cell_type": "markdown",
      "metadata": {
        "id": "g-CRslW0Xujc"
      },
      "source": [
        "#Train"
      ]
    },
    {
      "cell_type": "code",
      "metadata": {
        "id": "f0zm8fD5ISjg"
      },
      "source": [
        "class parameters:\n",
        "  def __init__(self, pretrained_weights = \"weights/darknet53.conv.74\", epochs = 100, batch_size = 8, step_size = 4, model_def = \"config/yolov3custom.cfg\", n_cpu = 8, img_size = 416, checkpoint_interval = 1, evaluation_interval = 5, compute_map = False, multiscale_training = True):\n",
        "    self.epochs = epochs #number of epochs\n",
        "    self.batch_size = batch_size #size of each image batch\n",
        "    self.gradient_accumulations =step_size    #number of gradient accums before step\n",
        "    self.model_def = model_def #path to model definition file\n",
        "    #self.data_config = data_config #path to data config file`\n",
        "    self.pretrained_weights = pretrained_weights #if specified starts from checkpoint model\n",
        "    self.n_cpu = n_cpu #number of cpu threads to use during batch generation\n",
        "    self.img_size = img_size #size of each image dimension\n",
        "    self.checkpoint_interval = checkpoint_interval #interval between saving model weights\n",
        "    self.evaluation_interval = evaluation_interval #interval evaluations on validation set\n",
        "    self.compute_map = compute_map #if True computes mAP every tenth batch\n",
        "    self.multiscale_training = multiscale_training #allow for multi-scale training\n"
      ],
      "execution_count": 14,
      "outputs": []
    },
    {
      "cell_type": "code",
      "metadata": {
        "id": "4oI0p5QnYyK2"
      },
      "source": [
        "opt = parameters(epochs = 3, pretrained_weights = \"checkpoints/aws-1.pth\",img_size = 1248,batch_size = 2,evaluation_interval = 10,checkpoint_interval=50,step_size=4)\n",
        "\n",
        "device = torch.device(\"cuda\" if torch.cuda.is_available() else \"cpu\")"
      ],
      "execution_count": 15,
      "outputs": []
    },
    {
      "cell_type": "code",
      "metadata": {
        "colab": {
          "base_uri": "https://localhost:8080/"
        },
        "id": "DPTzU1mCavSJ",
        "outputId": "490a5457-37f5-4736-ff0d-b8174db80432"
      },
      "source": [
        "model = Darknet(opt.model_def).to(device)\n",
        "model.apply(weights_init_normal) #applying initial weights to the model. Since it is using module apply recursively goes through each layer and initializes the specified weights weights_init_normal is a function in utils\n",
        "# If specified we start from checkpoint\n",
        "if opt.pretrained_weights:\n",
        "  if opt.pretrained_weights.endswith(\".pth\"):\n",
        "    model.load_state_dict(torch.load(opt.pretrained_weights))\n",
        "    print(\"Model LOADING Finished !!!\")\n",
        "  else:\n",
        "    model.load_darknet_weights(opt.pretrained_weights) "
      ],
      "execution_count": 16,
      "outputs": [
        {
          "output_type": "stream",
          "text": [
            "Model LOADING Finished !!!\n"
          ],
          "name": "stdout"
        }
      ]
    },
    {
      "cell_type": "code",
      "metadata": {
        "colab": {
          "base_uri": "https://localhost:8080/"
        },
        "id": "FIGSAkmDK3af",
        "outputId": "d9a7251b-d6e5-4dd7-9852-d50803b08dbf"
      },
      "source": [
        "from sklearn.model_selection import train_test_split\n",
        "\n",
        "sample_mapping = []\n",
        "file_path = 'data/'\n",
        "for scene  in nusc.scene :\n",
        "  sample_token = scene['first_sample_token']\n",
        "  sample = nusc.get('sample',sample_token)\n",
        "  while not sample['next'] =='':\n",
        "    new_token = sample['token']\n",
        "    sample_mapping.append(new_token)\n",
        "    sample = nusc.get('sample',sample['next'])\n",
        "\n",
        "train_samples, test_samples = train_test_split(sample_mapping, test_size=0.2, random_state=42)\n",
        "print(len(train_samples),len(test_samples))"
      ],
      "execution_count": 17,
      "outputs": [
        {
          "output_type": "stream",
          "text": [
            "26639 6660\n"
          ],
          "name": "stdout"
        }
      ]
    },
    {
      "cell_type": "code",
      "metadata": {
        "id": "3tAWjHQVsV9D"
      },
      "source": [
        "dataset = ListDataset(train_samples,  augment=True, multiscale=opt.multiscale_training)\n",
        "dataloader = torch.utils.data.DataLoader(\n",
        "    dataset,\n",
        "    shuffle = True,\n",
        "    batch_size=opt.batch_size,\n",
        "    num_workers=0,\n",
        "    pin_memory=True,\n",
        "    collate_fn=dataset.collate_fn,\n",
        ")\n",
        "class_names = dataset.categories"
      ],
      "execution_count": 18,
      "outputs": []
    },
    {
      "cell_type": "code",
      "metadata": {
        "id": "lLdpDzAWZM0D"
      },
      "source": [
        "optimizer = torch.optim.Adam(model.parameters(),lr =0.0006)"
      ],
      "execution_count": 19,
      "outputs": []
    },
    {
      "cell_type": "code",
      "metadata": {
        "id": "4tGdtKinQ-ll",
        "colab": {
          "base_uri": "https://localhost:8080/",
          "height": 1000,
          "referenced_widgets": [
            "a79a49bfe3e04c209bf5bbd03e0b2eed",
            "b76b470d533a48c1b3412f079f248108",
            "b21394988b7d4366bfe24338bbd43e70",
            "0b27ec85e56b402db9754ed5cbd93cae",
            "124e761376df419ebaab334ace9b580d",
            "4ae6b9c1d5054c5baea487d26a6e712c",
            "d8c396dba51c4ceb9e07276be999280b",
            "552a51448ede4e7b987e3ac337158973"
          ]
        },
        "outputId": "9cca02be-61df-4bae-e0bb-f5016e2fd33a"
      },
      "source": [
        "import tqdm\n",
        "import json\n",
        "\n",
        "#\n",
        "if os.path.exists(\"checkpoints/step.json\"):\n",
        "  with open('checkpoints/step.json') as f:\n",
        "    data = json.load(f)\n",
        "  step = data['step']\n",
        "else:\n",
        "  step = 0\n",
        "for epoch in tqdm.notebook.tqdm(range(opt.epochs),unit='epoch'):\n",
        "    model.train()\n",
        "    for batch_i, (imgs, targets) in enumerate(dataloader):\n",
        "        batches_done = len(dataloader) * epoch + batch_i\n",
        "        \n",
        "        imgs = Variable(imgs.to(device))\n",
        "        targets = Variable(targets.to(device), requires_grad=False)\n",
        "\n",
        "        loss, outputs = model(imgs, targets)\n",
        "        loss.backward()\n",
        "        loss = loss.cpu().detach().numpy()\n",
        "\n",
        "        try:\n",
        "          print(\"Step :\",step,\" -- \",batch_i,\"Batch\",loss,\"Targets = \",targets.shape[0],\"Ratio =\",loss/targets.shape[0],\"Threshold (0.2):\", len(non_max_suppression(outputs,conf_thres = 0.2,nms_thres=0.5)[0]))\n",
        "        except:\n",
        "          print(\"Step :\",step,\" -- \",batch_i,\"Batch\",loss,\"Targets = \",targets.shape[0],\"Ratio =\",loss/targets.shape[0])\n",
        "          \n",
        "        if batches_done % opt.gradient_accumulations == 0 and batches_done != 0:\n",
        "            # Accumulates gradient before each step\n",
        "            optimizer.step()\n",
        "            optimizer.zero_grad()\n",
        "            print(\"->\",optimizer.param_groups[0]['lr'])\n",
        "            step += 1\n",
        "            steps ={'step':step}\n",
        "            if step == 400000:\n",
        "              optimizer.param_groups[0]['lr'] = 0.0001\n",
        "            elif step ==  450000 :\n",
        "              optimizer.param_groups[0]['lr'] = 0.00001\n",
        "\n",
        "        \n",
        "        if batch_i % opt.checkpoint_interval == 0 and batch_i != 0:\n",
        "            torch.save(model.state_dict(), \"checkpoints/aws-1.pth\")\n",
        "            with open(\"checkpoints/step.json\",'w+') as f:\n",
        "              json.dump(steps,f)\n",
        "            print(\"Saved\")\n",
        "            plt.imshow(  imgs[0].cpu().permute(1, 2, 0)  )\n",
        "            try:\n",
        "                out = non_max_suppression(outputs,conf_thres = 0.3,nms_thres=0.5)\n",
        "                out[0][:,:2] /=1024\n",
        "                out[0][:,3:5] /=1024\n",
        "                draw(out[0])\n",
        "                print(\"threshold :\",0.3)\n",
        "            except:\n",
        "                try:\n",
        "                    out = non_max_suppression(outputs,conf_thres = 0.2,nms_thres=0.5)\n",
        "                    out[0][:,:2] /=1024\n",
        "                    out[0][:,3:5] /=1024\n",
        "                    draw(out[0])\n",
        "                    print(\"threshold :\",0.2)\n",
        "                except:\n",
        "                  print(\"Nothing !!!!\")\n",
        "\n",
        "        del imgs,targets,outputs,loss\n",
        "        torch.cuda.empty_cache()\n",
        "\n",
        "        \n",
        "    if epoch % opt.evaluation_interval == 0 and opt.evaluation_interval != 0:\n",
        "        print(\"\\n---- Evaluating Model ----\")\n",
        "        # Evaluate the model on the validation set\n",
        "        precision, recall, AP, f1, ap_class = evaluate(\n",
        "            model,\n",
        "            test_samples,\n",
        "            iou_thres=0.5,\n",
        "            conf_thres=0.5,\n",
        "            nms_thres=0.5,\n",
        "            img_size=opt.img_size,\n",
        "            batch_size=2,\n",
        "        )\n",
        "        evaluation_metrics = [\n",
        "            (\"val_precision\", precision.mean()),\n",
        "            (\"val_recall\", recall.mean()),\n",
        "            (\"val_mAP\", AP.mean()),\n",
        "            (\"val_f1\", f1.mean()),\n",
        "        ]\n",
        "        #logger.list_of_scalars_summary(evaluation_metrics, epoch)\n",
        "\n",
        "        # Print class APs and mAP\n",
        "        ap_table = [[\"Index\", \"Class name\", \"AP\"]]\n",
        "        for i, c in enumerate(ap_class):\n",
        "            ap_table += [[c, class_names[c], \"%.5f\" % AP[i]]]\n",
        "        print(AsciiTable(ap_table).table)\n",
        "        print(f\"---- mAP {AP.mean()}\")\n"
      ],
      "execution_count": null,
      "outputs": [
        {
          "output_type": "display_data",
          "data": {
            "text/plain": [
              "HBox(children=(FloatProgress(value=0.0, max=3.0), HTML(value='')))"
            ],
            "application/vnd.jupyter.widget-view+json": {
              "version_major": 2,
              "version_minor": 0,
              "model_id": "a79a49bfe3e04c209bf5bbd03e0b2eed"
            }
          },
          "metadata": {
            "tags": []
          }
        },
        {
          "output_type": "stream",
          "text": [
            "/home/ubuntu/anaconda3/lib/python3.7/site-packages/ipykernel_launcher.py:207: UserWarning: indexing with dtype torch.uint8 is now deprecated, please use a dtype torch.bool instead. (Triggered internally at  /pytorch/aten/src/ATen/native/IndexingUtils.h:25.)\n",
            "/home/ubuntu/anaconda3/lib/python3.7/site-packages/ipykernel_launcher.py:208: UserWarning: indexing with dtype torch.uint8 is now deprecated, please use a dtype torch.bool instead. (Triggered internally at  /pytorch/aten/src/ATen/native/IndexingUtils.h:25.)\n",
            "/home/ubuntu/anaconda3/lib/python3.7/site-packages/ipykernel_launcher.py:209: UserWarning: indexing with dtype torch.uint8 is now deprecated, please use a dtype torch.bool instead. (Triggered internally at  /pytorch/aten/src/ATen/native/IndexingUtils.h:25.)\n",
            "/home/ubuntu/anaconda3/lib/python3.7/site-packages/ipykernel_launcher.py:210: UserWarning: indexing with dtype torch.uint8 is now deprecated, please use a dtype torch.bool instead. (Triggered internally at  /pytorch/aten/src/ATen/native/IndexingUtils.h:25.)\n",
            "/home/ubuntu/anaconda3/lib/python3.7/site-packages/ipykernel_launcher.py:211: UserWarning: indexing with dtype torch.uint8 is now deprecated, please use a dtype torch.bool instead. (Triggered internally at  /pytorch/aten/src/ATen/native/IndexingUtils.h:25.)\n",
            "/home/ubuntu/anaconda3/lib/python3.7/site-packages/ipykernel_launcher.py:212: UserWarning: indexing with dtype torch.uint8 is now deprecated, please use a dtype torch.bool instead. (Triggered internally at  /pytorch/aten/src/ATen/native/IndexingUtils.h:25.)\n",
            "/home/ubuntu/anaconda3/lib/python3.7/site-packages/ipykernel_launcher.py:213: UserWarning: indexing with dtype torch.uint8 is now deprecated, please use a dtype torch.bool instead. (Triggered internally at  /pytorch/aten/src/ATen/native/IndexingUtils.h:25.)\n",
            "/home/ubuntu/anaconda3/lib/python3.7/site-packages/ipykernel_launcher.py:214: UserWarning: indexing with dtype torch.uint8 is now deprecated, please use a dtype torch.bool instead. (Triggered internally at  /pytorch/aten/src/ATen/native/IndexingUtils.h:25.)\n",
            "/home/ubuntu/anaconda3/lib/python3.7/site-packages/ipykernel_launcher.py:215: UserWarning: indexing with dtype torch.uint8 is now deprecated, please use a dtype torch.bool instead. (Triggered internally at  /pytorch/aten/src/ATen/native/IndexingUtils.h:25.)\n",
            "/home/ubuntu/anaconda3/lib/python3.7/site-packages/ipykernel_launcher.py:216: UserWarning: indexing with dtype torch.uint8 is now deprecated, please use a dtype torch.bool instead. (Triggered internally at  /pytorch/aten/src/ATen/native/IndexingUtils.h:25.)\n",
            "/home/ubuntu/anaconda3/lib/python3.7/site-packages/ipykernel_launcher.py:218: UserWarning: indexing with dtype torch.uint8 is now deprecated, please use a dtype torch.bool instead. (Triggered internally at  /pytorch/aten/src/ATen/native/IndexingUtils.h:25.)\n",
            "/home/ubuntu/anaconda3/lib/python3.7/site-packages/ipykernel_launcher.py:222: UserWarning: indexing with dtype torch.uint8 is now deprecated, please use a dtype torch.bool instead. (Triggered internally at  /pytorch/aten/src/ATen/native/IndexingUtils.h:25.)\n",
            "/home/ubuntu/anaconda3/lib/python3.7/site-packages/ipykernel_launcher.py:223: UserWarning: indexing with dtype torch.uint8 is now deprecated, please use a dtype torch.bool instead. (Triggered internally at  /pytorch/aten/src/ATen/native/IndexingUtils.h:25.)\n",
            "/home/ubuntu/anaconda3/lib/python3.7/site-packages/ipykernel_launcher.py:224: UserWarning: indexing with dtype torch.uint8 is now deprecated, please use a dtype torch.bool instead. (Triggered internally at  /pytorch/aten/src/ATen/native/IndexingUtils.h:25.)\n"
          ],
          "name": "stderr"
        },
        {
          "output_type": "stream",
          "text": [
            "Step : 104801  --  0 Batch 13.342764 Targets =  38 Ratio = 0.3511253658093904 Threshold (0.2): 2\n",
            "Step : 104801  --  1 Batch 15.102842 Targets =  76 Ratio = 0.19872160961753443 Threshold (0.2): 5\n",
            "Step : 104801  --  2 Batch 12.92308 Targets =  18 Ratio = 0.7179489135742188 Threshold (0.2): 5\n",
            "Step : 104801  --  3 Batch 14.421827 Targets =  69 Ratio = 0.20901199009107507 Threshold (0.2): 3\n",
            "Step : 104801  --  4 Batch 10.336787 Targets =  39 Ratio = 0.2650458262516902 Threshold (0.2): 3\n",
            "-> 0.0006\n",
            "Step : 104802  --  5 Batch 12.073234 Targets =  48 Ratio = 0.2515257000923157 Threshold (0.2): 3\n",
            "Step : 104802  --  6 Batch 11.653222 Targets =  31 Ratio = 0.37591038980791647 Threshold (0.2): 2\n",
            "Step : 104802  --  7 Batch 11.826678 Targets =  22 Ratio = 0.537576285275546 Threshold (0.2): 4\n",
            "Step : 104802  --  8 Batch 11.185608 Targets =  35 Ratio = 0.3195887974330357 Threshold (0.2): 6\n",
            "-> 0.0006\n",
            "Step : 104803  --  9 Batch 18.444527 Targets =  46 Ratio = 0.4009679711383322 Threshold (0.2): 1\n",
            "Step : 104803  --  10 Batch 14.911802 Targets =  27 Ratio = 0.5522889737729673 Threshold (0.2): 4\n",
            "Step : 104803  --  11 Batch 13.18389 Targets =  23 Ratio = 0.5732126235961914 Threshold (0.2): 4\n",
            "Step : 104803  --  12 Batch 11.82354 Targets =  46 Ratio = 0.2570334724757982 Threshold (0.2): 5\n",
            "-> 0.0006\n",
            "Step : 104804  --  13 Batch 12.039251 Targets =  37 Ratio = 0.3253851710139094 Threshold (0.2): 3\n",
            "Step : 104804  --  14 Batch 12.86183 Targets =  52 Ratio = 0.24734287995558518 Threshold (0.2): 5\n",
            "Step : 104804  --  15 Batch 9.471094 Targets =  27 Ratio = 0.3507812641285084 Threshold (0.2): 5\n",
            "Step : 104804  --  16 Batch 11.86397 Targets =  59 Ratio = 0.2010842339467194 Threshold (0.2): 1\n",
            "-> 0.0006\n",
            "Step : 104805  --  17 Batch 10.806421 Targets =  16 Ratio = 0.6754013299942017 Threshold (0.2): 4\n",
            "Step : 104805  --  18 Batch 10.625411 Targets =  19 Ratio = 0.5592321596647564 Threshold (0.2): 3\n",
            "Step : 104805  --  19 Batch 12.255391 Targets =  42 Ratio = 0.29179502668834867 Threshold (0.2): 3\n",
            "Step : 104805  --  20 Batch 10.143207 Targets =  31 Ratio = 0.3272002127862746 Threshold (0.2): 4\n",
            "-> 0.0006\n",
            "Step : 104806  --  21 Batch 11.090848 Targets =  36 Ratio = 0.3080791102515327 Threshold (0.2): 4\n",
            "Step : 104806  --  22 Batch 10.190782 Targets =  28 Ratio = 0.36395648547581266 Threshold (0.2): 5\n",
            "Step : 104806  --  23 Batch 11.919796 Targets =  76 Ratio = 0.15683942092092415 Threshold (0.2): 5\n",
            "Step : 104806  --  24 Batch 14.5678 Targets =  73 Ratio = 0.19955889819419548 Threshold (0.2): 1\n",
            "-> 0.0006\n",
            "Step : 104807  --  25 Batch 12.410936 Targets =  22 Ratio = 0.5641334707086737 Threshold (0.2): 6\n",
            "Step : 104807  --  26 Batch 11.21258 Targets =  15 Ratio = 0.7475053151448567 Threshold (0.2): 6\n",
            "Step : 104807  --  27 Batch 11.164495 Targets =  22 Ratio = 0.5074770667336204 Threshold (0.2): 6\n",
            "Step : 104807  --  28 Batch 10.531054 Targets =  19 Ratio = 0.5542659759521484 Threshold (0.2): 7\n",
            "-> 0.0006\n",
            "Step : 104808  --  29 Batch 13.576677 Targets =  32 Ratio = 0.4242711663246155 Threshold (0.2): 3\n",
            "Step : 104808  --  30 Batch 13.404757 Targets =  16 Ratio = 0.8377972841262817 Threshold (0.2): 2\n",
            "Step : 104808  --  31 Batch 14.438367 Targets =  52 Ratio = 0.2776609017298772 Threshold (0.2): 3\n",
            "Step : 104808  --  32 Batch 12.912529 Targets =  15 Ratio = 0.8608352661132812 Threshold (0.2): 8\n",
            "-> 0.0006\n",
            "Step : 104809  --  33 Batch 17.383986 Targets =  13 Ratio = 1.3372296553391676 Threshold (0.2): 6\n",
            "Step : 104809  --  34 Batch 16.679787 Targets =  46 Ratio = 0.36260405830715015 Threshold (0.2): 3\n",
            "Step : 104809  --  35 Batch 21.595327 Targets =  10 Ratio = 2.1595327377319338 Threshold (0.2): 3\n",
            "Step : 104809  --  36 Batch 9.556192 Targets =  26 Ratio = 0.36754586146428037 Threshold (0.2): 8\n",
            "-> 0.0006\n",
            "Step : 104810  --  37 Batch 13.508982 Targets =  21 Ratio = 0.6432848430815197 Threshold (0.2): 1\n",
            "Step : 104810  --  38 Batch 12.083996 Targets =  36 Ratio = 0.3356665505303277 Threshold (0.2): 4\n",
            "Step : 104810  --  39 Batch 12.2275915 Targets =  25 Ratio = 0.4891036605834961 Threshold (0.2): 4\n",
            "Step : 104810  --  40 Batch 12.268393 Targets =  70 Ratio = 0.17526275089808874 Threshold (0.2): 4\n",
            "-> 0.0006\n",
            "Step : 104811  --  41 Batch 11.558059 Targets =  40 Ratio = 0.2889514684677124 Threshold (0.2): 4\n",
            "Step : 104811  --  42 Batch 13.463295 Targets =  22 Ratio = 0.6119679537686434 Threshold (0.2): 4\n",
            "Step : 104811  --  43 Batch 11.795843 Targets =  34 Ratio = 0.34693656248204846 Threshold (0.2): 3\n",
            "Step : 104811  --  44 Batch 13.63092 Targets =  22 Ratio = 0.6195872913707386 Threshold (0.2): 5\n",
            "-> 0.0006\n",
            "Step : 104812  --  45 Batch 11.962421 Targets =  38 Ratio = 0.31480056361148234\n",
            "Step : 104812  --  46 Batch 12.585967 Targets =  22 Ratio = 0.5720894119956277 Threshold (0.2): 3\n",
            "Step : 104812  --  47 Batch 14.333247 Targets =  16 Ratio = 0.8958279490470886 Threshold (0.2): 6\n",
            "Step : 104812  --  48 Batch 11.797502 Targets =  22 Ratio = 0.5362500710920854 Threshold (0.2): 3\n",
            "-> 0.0006\n",
            "Step : 104813  --  49 Batch 11.708421 Targets =  45 Ratio = 0.26018712785508896 Threshold (0.2): 5\n",
            "Step : 104813  --  50 Batch 12.404 Targets =  113 Ratio = 0.10976991400254511 Threshold (0.2): 1\n",
            "Saved\n"
          ],
          "name": "stdout"
        },
        {
          "output_type": "display_data",
          "data": {
            "text/plain": [
              "<Figure size 432x288 with 1 Axes>"
            ],
            "image/png": "[encoded data removed]"
          },
          "metadata": {
            "tags": [],
            "needs_background": "light"
          }
        },
        {
          "output_type": "display_data",
          "data": {
            "text/plain": [
              "<Figure size 576x576 with 1 Axes>"
            ],
            "image/png": "[encoded data removed]"
          },
          "metadata": {
            "tags": [],
            "needs_background": "light"
          }
        },
        {
          "output_type": "stream",
          "text": [
            "threshold : 0.3\n",
            "Step : 104813  --  51 Batch 2.9225519 Targets =  1 Ratio = 2.9225518703460693 Threshold (0.2): 7\n",
            "Step : 104813  --  52 Batch 15.340324 Targets =  13 Ratio = 1.1800249539888823 Threshold (0.2): 3\n",
            "-> 0.0006\n",
            "Step : 104814  --  53 Batch 14.634862 Targets =  47 Ratio = 0.3113800414065097 Threshold (0.2): 3\n",
            "Step : 104814  --  54 Batch 12.227066 Targets =  70 Ratio = 0.17467237200055805 Threshold (0.2): 4\n",
            "Step : 104814  --  55 Batch 12.729509 Targets =  40 Ratio = 0.3182377338409424 Threshold (0.2): 1\n",
            "Step : 104814  --  56 Batch 10.536431 Targets =  47 Ratio = 0.2241793896289582 Threshold (0.2): 6\n",
            "-> 0.0006\n",
            "Step : 104815  --  57 Batch 13.213884 Targets =  23 Ratio = 0.5745167110277258 Threshold (0.2): 5\n",
            "Step : 104815  --  58 Batch 11.513058 Targets =  12 Ratio = 0.9594214757283529 Threshold (0.2): 1\n",
            "Step : 104815  --  59 Batch 12.568291 Targets =  55 Ratio = 0.22851437655362217 Threshold (0.2): 5\n",
            "Step : 104815  --  60 Batch 14.03997 Targets =  30 Ratio = 0.46799901326497395 Threshold (0.2): 1\n",
            "-> 0.0006\n",
            "Step : 104816  --  61 Batch 14.7795105 Targets =  14 Ratio = 1.0556793212890625 Threshold (0.2): 5\n",
            "Step : 104816  --  62 Batch 11.378562 Targets =  23 Ratio = 0.49472008580746857 Threshold (0.2): 2\n",
            "Step : 104816  --  63 Batch 14.969685 Targets =  15 Ratio = 0.9979789733886719 Threshold (0.2): 4\n",
            "Step : 104816  --  64 Batch 12.532216 Targets =  34 Ratio = 0.36859459035536823 Threshold (0.2): 2\n",
            "-> 0.0006\n",
            "Step : 104817  --  65 Batch 13.580406 Targets =  49 Ratio = 0.2771511467135682 Threshold (0.2): 3\n",
            "Step : 104817  --  66 Batch 11.056096 Targets =  13 Ratio = 0.8504689289973333 Threshold (0.2): 3\n",
            "Step : 104817  --  67 Batch 19.657154 Targets =  13 Ratio = 1.5120887756347656 Threshold (0.2): 4\n",
            "Step : 104817  --  68 Batch 11.694403 Targets =  46 Ratio = 0.25422614553700323 Threshold (0.2): 3\n",
            "-> 0.0006\n",
            "Step : 104818  --  69 Batch 11.208675 Targets =  16 Ratio = 0.7005422115325928 Threshold (0.2): 5\n",
            "Step : 104818  --  70 Batch 13.218842 Targets =  25 Ratio = 0.528753662109375 Threshold (0.2): 3\n",
            "Step : 104818  --  71 Batch 10.105098 Targets =  18 Ratio = 0.5613943205939399 Threshold (0.2): 3\n",
            "Step : 104818  --  72 Batch 15.066704 Targets =  11 Ratio = 1.3697003451260654 Threshold (0.2): 3\n",
            "-> 0.0006\n",
            "Step : 104819  --  73 Batch 10.376687 Targets =  20 Ratio = 0.5188343524932861 Threshold (0.2): 3\n",
            "Step : 104819  --  74 Batch 11.384644 Targets =  103 Ratio = 0.11053051994842233 Threshold (0.2): 1\n",
            "Step : 104819  --  75 Batch 13.842659 Targets =  65 Ratio = 0.21296398456280047 Threshold (0.2): 2\n",
            "Step : 104819  --  76 Batch 11.660037 Targets =  25 Ratio = 0.466401481628418 Threshold (0.2): 1\n",
            "-> 0.0006\n",
            "Step : 104820  --  77 Batch 12.962283 Targets =  41 Ratio = 0.3161532471819622 Threshold (0.2): 4\n",
            "Step : 104820  --  78 Batch 10.888739 Targets =  49 Ratio = 0.22221915575922752 Threshold (0.2): 1\n",
            "Step : 104820  --  79 Batch 11.314133 Targets =  22 Ratio = 0.5142787586558949 Threshold (0.2): 1\n",
            "Step : 104820  --  80 Batch 11.558113 Targets =  67 Ratio = 0.1725091507185751 Threshold (0.2): 2\n",
            "-> 0.0006\n",
            "Step : 104821  --  81 Batch 11.992117 Targets =  60 Ratio = 0.19986861546834309 Threshold (0.2): 3\n",
            "Step : 104821  --  82 Batch 11.467837 Targets =  34 Ratio = 0.33728933334350586 Threshold (0.2): 1\n",
            "Step : 104821  --  83 Batch 12.673834 Targets =  32 Ratio = 0.3960573077201843 Threshold (0.2): 1\n",
            "Step : 104821  --  84 Batch 15.194569 Targets =  11 Ratio = 1.3813244212757458\n",
            "-> 0.0006\n",
            "Step : 104822  --  85 Batch 12.794079 Targets =  21 Ratio = 0.6092418489002046 Threshold (0.2): 3\n",
            "Step : 104822  --  86 Batch 8.991505 Targets =  29 Ratio = 0.3100518851444639 Threshold (0.2): 3\n",
            "Step : 104822  --  87 Batch 12.585146 Targets =  21 Ratio = 0.5992926643008277 Threshold (0.2): 5\n",
            "Step : 104822  --  88 Batch 14.356362 Targets =  76 Ratio = 0.1888995045109799 Threshold (0.2): 4\n",
            "-> 0.0006\n",
            "Step : 104823  --  89 Batch 10.9870615 Targets =  58 Ratio = 0.18943209483705717 Threshold (0.2): 1\n",
            "Step : 104823  --  90 Batch 13.911381 Targets =  37 Ratio = 0.3759832639951964 Threshold (0.2): 2\n",
            "Step : 104823  --  91 Batch 7.355048 Targets =  29 Ratio = 0.25362235102160224 Threshold (0.2): 1\n",
            "Step : 104823  --  92 Batch 11.352699 Targets =  80 Ratio = 0.14190874099731446 Threshold (0.2): 4\n",
            "-> 0.0006\n",
            "Step : 104824  --  93 Batch 7.064441 Targets =  4 Ratio = 1.7661103010177612 Threshold (0.2): 4\n",
            "Step : 104824  --  94 Batch 13.402498 Targets =  25 Ratio = 0.5360999298095703 Threshold (0.2): 4\n",
            "Step : 104824  --  95 Batch 14.648062 Targets =  25 Ratio = 0.5859224700927734 Threshold (0.2): 1\n",
            "Step : 104824  --  96 Batch 13.042503 Targets =  70 Ratio = 0.18632147652762276 Threshold (0.2): 4\n",
            "-> 0.0006\n",
            "Step : 104825  --  97 Batch 12.788431 Targets =  33 Ratio = 0.38752821720007696 Threshold (0.2): 5\n",
            "Step : 104825  --  98 Batch 10.313497 Targets =  21 Ratio = 0.4911188852219355 Threshold (0.2): 4\n",
            "Step : 104825  --  99 Batch 15.264388 Targets =  45 Ratio = 0.33920862409803604 Threshold (0.2): 3\n",
            "Step : 104825  --  100 Batch 16.829945 Targets =  54 Ratio = 0.3116656409369575 Threshold (0.2): 2\n",
            "-> 0.0006\n",
            "Saved\n"
          ],
          "name": "stdout"
        },
        {
          "output_type": "display_data",
          "data": {
            "text/plain": [
              "<Figure size 432x288 with 1 Axes>"
            ],
            "image/png": "[encoded data removed]"
          },
          "metadata": {
            "tags": [],
            "needs_background": "light"
          }
        },
        {
          "output_type": "display_data",
          "data": {
            "text/plain": [
              "<Figure size 576x576 with 1 Axes>"
            ],
            "image/png": "[encoded data removed]"
          },
          "metadata": {
            "tags": [],
            "needs_background": "light"
          }
        },
        {
          "output_type": "stream",
          "text": [
            "threshold : 0.3\n",
            "Step : 104826  --  101 Batch 12.653151 Targets =  28 Ratio = 0.4518982342311314 Threshold (0.2): 3\n",
            "Step : 104826  --  102 Batch 11.391504 Targets =  23 Ratio = 0.49528279511824896 Threshold (0.2): 5\n",
            "Step : 104826  --  103 Batch 13.976885 Targets =  56 Ratio = 0.24958722931998117 Threshold (0.2): 1\n",
            "Step : 104826  --  104 Batch 11.449812 Targets =  21 Ratio = 0.5452291397821336 Threshold (0.2): 2\n",
            "-> 0.0006\n",
            "Step : 104827  --  105 Batch 11.574717 Targets =  97 Ratio = 0.11932697492776458 Threshold (0.2): 4\n",
            "Step : 104827  --  106 Batch 14.92449 Targets =  68 Ratio = 0.21947779374964096 Threshold (0.2): 4\n",
            "Step : 104827  --  107 Batch 11.700806 Targets =  42 Ratio = 0.27859061104910715 Threshold (0.2): 1\n",
            "Step : 104827  --  108 Batch 11.247079 Targets =  7 Ratio = 1.6067255565098353 Threshold (0.2): 5\n",
            "-> 0.0006\n",
            "Step : 104828  --  109 Batch 11.767248 Targets =  23 Ratio = 0.5116194849428923 Threshold (0.2): 1\n",
            "Step : 104828  --  110 Batch 14.767422 Targets =  49 Ratio = 0.30137595351861446 Threshold (0.2): 2\n",
            "Step : 104828  --  111 Batch 13.240614 Targets =  64 Ratio = 0.20688459277153015 Threshold (0.2): 3\n",
            "Step : 104828  --  112 Batch 12.408689 Targets =  11 Ratio = 1.1280625950206409 Threshold (0.2): 5\n",
            "-> 0.0006\n",
            "Step : 104829  --  113 Batch 14.15605 Targets =  32 Ratio = 0.4423765540122986 Threshold (0.2): 1\n",
            "Step : 104829  --  114 Batch 8.878378 Targets =  33 Ratio = 0.26904175498268823 Threshold (0.2): 1\n",
            "Step : 104829  --  115 Batch 15.689423 Targets =  26 Ratio = 0.6034393310546875 Threshold (0.2): 3\n",
            "Step : 104829  --  116 Batch 13.607789 Targets =  17 Ratio = 0.800458178800695 Threshold (0.2): 4\n",
            "-> 0.0006\n",
            "Step : 104830  --  117 Batch 13.406905 Targets =  19 Ratio = 0.7056265881187037 Threshold (0.2): 5\n",
            "Step : 104830  --  118 Batch 13.672497 Targets =  18 Ratio = 0.7595831553141276 Threshold (0.2): 5\n",
            "Step : 104830  --  119 Batch 9.611225 Targets =  16 Ratio = 0.6007015705108643 Threshold (0.2): 1\n",
            "Step : 104830  --  120 Batch 10.387501 Targets =  15 Ratio = 0.6925000508626302 Threshold (0.2): 4\n",
            "-> 0.0006\n",
            "Step : 104831  --  121 Batch 7.913753 Targets =  17 Ratio = 0.4655148842755486 Threshold (0.2): 4\n",
            "Step : 104831  --  122 Batch 11.58493 Targets =  33 Ratio = 0.35105849757339014 Threshold (0.2): 2\n",
            "Step : 104831  --  123 Batch 13.048845 Targets =  36 Ratio = 0.3624679247538249 Threshold (0.2): 4\n",
            "Step : 104831  --  124 Batch 11.21969 Targets =  31 Ratio = 0.3619254942863218 Threshold (0.2): 4\n",
            "-> 0.0006\n",
            "Step : 104832  --  125 Batch 11.366877 Targets =  20 Ratio = 0.5683438301086425 Threshold (0.2): 4\n",
            "Step : 104832  --  126 Batch 12.618183 Targets =  4 Ratio = 3.154545783996582 Threshold (0.2): 4\n",
            "Step : 104832  --  127 Batch 12.211559 Targets =  23 Ratio = 0.5309373606806216 Threshold (0.2): 4\n",
            "Step : 104832  --  128 Batch 12.467273 Targets =  27 Ratio = 0.4617508429068106 Threshold (0.2): 6\n",
            "-> 0.0006\n",
            "Step : 104833  --  129 Batch 13.302622 Targets =  56 Ratio = 0.23754681859697616 Threshold (0.2): 5\n",
            "Step : 104833  --  130 Batch 8.876389 Targets =  5 Ratio = 1.7752777099609376 Threshold (0.2): 2\n",
            "Step : 104833  --  131 Batch 9.63287 Targets =  12 Ratio = 0.802739143371582 Threshold (0.2): 5\n",
            "Step : 104833  --  132 Batch 12.702488 Targets =  22 Ratio = 0.57738581570712 Threshold (0.2): 4\n",
            "-> 0.0006\n",
            "Step : 104834  --  133 Batch 11.094938 Targets =  7 Ratio = 1.584991182599749 Threshold (0.2): 6\n",
            "Step : 104834  --  134 Batch 12.312396 Targets =  89 Ratio = 0.13834152864606192 Threshold (0.2): 2\n",
            "Step : 104834  --  135 Batch 14.117136 Targets =  36 Ratio = 0.3921426667107476 Threshold (0.2): 2\n",
            "Step : 104834  --  136 Batch 9.126284 Targets =  50 Ratio = 0.18252567291259766 Threshold (0.2): 2\n",
            "-> 0.0006\n",
            "Step : 104835  --  137 Batch 15.093313 Targets =  50 Ratio = 0.3018662643432617 Threshold (0.2): 1\n",
            "Step : 104835  --  138 Batch 11.17652 Targets =  17 Ratio = 0.6574423733879539 Threshold (0.2): 2\n",
            "Step : 104835  --  139 Batch 7.3358884 Targets =  25 Ratio = 0.2934355354309082 Threshold (0.2): 6\n",
            "Step : 104835  --  140 Batch 15.565603 Targets =  34 Ratio = 0.4578118604772231 Threshold (0.2): 4\n",
            "-> 0.0006\n",
            "Step : 104836  --  141 Batch 13.467564 Targets =  31 Ratio = 0.4344375364242061 Threshold (0.2): 1\n",
            "Step : 104836  --  142 Batch 14.22629 Targets =  52 Ratio = 0.27358249517587513 Threshold (0.2): 5\n",
            "Step : 104836  --  143 Batch 14.738638 Targets =  26 Ratio = 0.5668706893920898 Threshold (0.2): 2\n",
            "Step : 104836  --  144 Batch 11.661862 Targets =  67 Ratio = 0.17405764736346344 Threshold (0.2): 4\n",
            "-> 0.0006\n",
            "Step : 104837  --  145 Batch 12.042978 Targets =  25 Ratio = 0.48171913146972656 Threshold (0.2): 3\n",
            "Step : 104837  --  146 Batch 13.695833 Targets =  70 Ratio = 0.1956547600882394 Threshold (0.2): 1\n",
            "Step : 104837  --  147 Batch 10.662739 Targets =  28 Ratio = 0.38081210000174387 Threshold (0.2): 2\n",
            "Step : 104837  --  148 Batch 15.608305 Targets =  27 Ratio = 0.5780853695339627 Threshold (0.2): 3\n",
            "-> 0.0006\n",
            "Step : 104838  --  149 Batch 9.733299 Targets =  16 Ratio = 0.6083312034606934 Threshold (0.2): 2\n",
            "Step : 104838  --  150 Batch 11.916015 Targets =  34 Ratio = 0.35047101974487305 Threshold (0.2): 2\n",
            "Saved\n"
          ],
          "name": "stdout"
        },
        {
          "output_type": "display_data",
          "data": {
            "text/plain": [
              "<Figure size 432x288 with 1 Axes>"
            ],
            "image/png": "[encoded data removed]"
          },
          "metadata": {
            "tags": [],
            "needs_background": "light"
          }
        },
        {
          "output_type": "display_data",
          "data": {
            "text/plain": [
              "<Figure size 576x576 with 1 Axes>"
            ],
            "image/png": "[encoded data removed]"
          },
          "metadata": {
            "tags": [],
            "needs_background": "light"
          }
        },
        {
          "output_type": "stream",
          "text": [
            "threshold : 0.3\n",
            "Step : 104838  --  151 Batch 13.786295 Targets =  52 Ratio = 0.2651210564833421 Threshold (0.2): 1\n",
            "Step : 104838  --  152 Batch 10.967435 Targets =  15 Ratio = 0.7311623255411784 Threshold (0.2): 4\n",
            "-> 0.0006\n",
            "Step : 104839  --  153 Batch 13.122403 Targets =  42 Ratio = 0.312438170115153 Threshold (0.2): 4\n",
            "Step : 104839  --  154 Batch 14.326056 Targets =  41 Ratio = 0.34941598845691213 Threshold (0.2): 2\n"
          ],
          "name": "stdout"
        }
      ]
    },
    {
      "cell_type": "code",
      "metadata": {
        "id": "Tc-2Uf6MlQiE"
      },
      "source": [
        "precision, recall, AP, f1, ap_class = evaluate(\n",
        "    model,\n",
        "    test_samples,\n",
        "    iou_thres=0.5,\n",
        "    conf_thres=0.5,\n",
        "    nms_thres=0.5, \n",
        "    img_size=opt.img_size,\n",
        "    batch_size=2,\n",
        ")\n",
        "evaluation_metrics = [\n",
        "    (\"val_precision\", precision.mean()),\n",
        "    (\"val_recall\", recall.mean()),\n",
        "    (\"val_mAP\", AP.mean()),\n",
        "    (\"val_f1\", f1.mean()),\n",
        "]\n",
        "#logger.list_of_scalars_summary(evaluation_metrics, epoch)\n",
        "\n",
        "# Print class APs and mAP\n",
        "ap_table = [[\"Index\", \"Class name\", \"AP\"]]\n",
        "for i, c in enumerate(ap_class):\n",
        "    ap_table += [[c, class_names[c], \"%.5f\" % AP[i]]]\n",
        "print(AsciiTable(ap_table).table)\n",
        "print(f\"---- mAP {AP.mean()}\")"
      ],
      "execution_count": null,
      "outputs": []
    },
    {
      "cell_type": "code",
      "metadata": {
        "id": "7eNn34W70xfj"
      },
      "source": [
        "for param_group in optimizer.param_groups:\n",
        "  print(param_group['lr'])"
      ],
      "execution_count": null,
      "outputs": []
    },
    {
      "cell_type": "code",
      "metadata": {
        "id": "SCrpmVLrjGCn"
      },
      "source": [
        "torch.save(model.state_dict(), f\"checkpoint/yolov3_sample-6.pth\")"
      ],
      "execution_count": null,
      "outputs": []
    },
    {
      "cell_type": "code",
      "metadata": {
        "id": "loApNq16LsjG"
      },
      "source": [
        "model.load_state_dict(torch.load(f\"checkpoint/yolov3_sample.pth\"))"
      ],
      "execution_count": null,
      "outputs": []
    },
    {
      "cell_type": "code",
      "metadata": {
        "id": "shkMUZFghdKy",
        "colab": {
          "base_uri": "https://localhost:8080/",
          "height": 1000
        },
        "outputId": "708ecc93-530c-473c-d35c-5d494390e70c"
      },
      "source": [
        "img, tragets = next(iter(dataloader))\n",
        "img = Variable(img.to(device))\n",
        "model.eval()\n",
        "target = []\n",
        "for t in tragets:\n",
        "  print(t)\n",
        "  if t[0] == 0:\n",
        "    target.append(t[2:])\n",
        "out = model(img)\n",
        "out = non_max_suppression(out,conf_thres = 0.3,nms_thres = 0.5)\n",
        "out[0][:,:2] /=1024\n",
        "out[0][:,3:5] /=1024\n",
        "#print(loss)\n",
        "draw(target)\n",
        "print(target)\n",
        "print(out[0])"
      ],
      "execution_count": 20,
      "outputs": [
        {
          "output_type": "stream",
          "text": [
            "tensor([0.0000e+00, 8.0000e+00, 4.7302e-01, 7.6730e-02, 2.6600e-01, 1.5086e-02,\n",
            "        3.5193e-02, 3.4580e-01, 5.1714e-01, 2.9388e-04])\n",
            "tensor([0.0000e+00, 1.7000e+01, 6.3110e-01, 5.2335e-01, 4.5960e-01, 2.2457e-02,\n",
            "        1.1764e-01, 8.2040e-01, 6.3629e-03, 5.7951e-01])\n",
            "tensor([0.0000e+00, 8.0000e+00, 3.7297e-01, 3.3487e-01, 1.7820e-01, 1.1814e-02,\n",
            "        3.0293e-02, 2.9800e-01, 4.7076e-03, 4.3155e-01])\n",
            "tensor([0.0000e+00, 1.7000e+01, 4.6767e-01, 4.6456e-01, 4.0920e-01, 1.5521e-02,\n",
            "        1.5379e-02, 6.7540e-01, 5.3573e-01, 1.2781e-03])\n",
            "tensor([0.0000e+00, 1.1000e+01, 4.3110e-01, 4.6195e-01, 3.6440e-01, 2.1357e-02,\n",
            "        6.3250e-02, 6.7040e-01, 5.4388e-01, 1.9290e-03])\n",
            "tensor([0.0000e+00, 1.9000e+01, 4.7253e-01, 4.6851e-01, 1.4440e-01, 3.2857e-03,\n",
            "        3.0571e-03, 1.9720e-01, 2.6641e-05, 5.0516e-01])\n",
            "tensor([0.0000e+00, 1.1000e+01, 4.2525e-01, 5.3438e-01, 3.5520e-01, 2.1943e-02,\n",
            "        7.9221e-02, 7.0420e-01, 5.3518e-01, 1.2391e-03])\n",
            "tensor([0.0000e+00, 1.8000e+01, 5.6370e-01, 5.1265e-01, 1.4540e-01, 2.2343e-02,\n",
            "        5.2643e-03, 1.5240e-01, 1.0000e+00, 5.0077e-01])\n",
            "tensor([0.0000e+00, 1.9000e+01, 4.6843e-01, 4.5070e-01, 1.2160e-01, 2.7714e-03,\n",
            "        5.1929e-03, 8.9400e-02, 4.3786e-01, 9.9612e-01])\n",
            "tensor([1.0000e+00, 8.0000e+00, 3.9573e-01, 9.2433e-01, 3.7860e-01, 2.0879e-02,\n",
            "        4.9843e-02, 6.2860e-01, 4.7911e-01, 4.3673e-04])\n",
            "tensor([1.0000e+00, 0.0000e+00, 5.8141e-01, 2.6643e-01, 2.6300e-01, 4.7071e-03,\n",
            "        7.1214e-03, 3.8020e-01, 5.0918e-01, 8.4289e-05])\n",
            "tensor([1.0000e+00, 8.0000e+00, 3.3483e-01, 1.9103e-01, 1.0640e-01, 1.4300e-02,\n",
            "        3.2593e-02, 3.8420e-01, 4.4718e-01, 2.7977e-03])\n",
            "tensor([1.0000, 8.0000, 0.4688, 0.4464, 0.1436, 0.0141, 0.0346, 0.3360, 0.4394,\n",
            "        0.9963])\n",
            "tensor([ 1.0000, 13.0000,  0.6038,  0.3084,  0.2746,  0.0151,  0.0424,  0.4364,\n",
            "         0.5183,  0.9997])\n",
            "tensor([1.0000, 8.0000, 0.2889, 0.6497, 0.3420, 0.0162, 0.0423, 0.6078, 0.0085,\n",
            "        0.4082])\n",
            "tensor([1.0000e+00, 1.8000e+01, 3.2539e-01, 3.6604e-01, 1.4600e-01, 1.0300e-02,\n",
            "        9.0429e-03, 3.3560e-01, 7.6047e-01, 7.3206e-02])\n",
            "tensor([1.0000e+00, 1.9000e+01, 2.7225e-01, 4.4342e-01, 8.5000e-02, 3.2500e-03,\n",
            "        3.1286e-03, 2.6980e-01, 1.1697e-03, 5.3418e-01])\n",
            "tensor([1.0000, 8.0000, 0.7010, 0.7692, 0.2946, 0.0139, 0.0335, 0.3682, 0.0102,\n",
            "        0.3995])\n",
            "tensor([1.0000e+00, 1.8000e+01, 2.9199e-01, 4.0223e-01, 1.9980e-01, 9.3643e-03,\n",
            "        3.8143e-03, 3.5320e-01, 5.2196e-01, 4.8245e-04])\n",
            "tensor([1.0000, 8.0000, 0.5210, 0.2887, 0.1744, 0.0138, 0.0377, 0.4332, 0.4963,\n",
            "        1.0000])\n",
            "tensor([1.0000, 0.0000, 0.4280, 0.3969, 0.1368, 0.0043, 0.0042, 0.3830, 0.0013,\n",
            "        0.4638])\n",
            "tensor([1.0000e+00, 1.9000e+01, 2.6878e-01, 4.0615e-01, 1.4820e-01, 3.2000e-03,\n",
            "        3.3214e-03, 2.7080e-01, 2.5167e-03, 4.4990e-01])\n",
            "tensor([1.0000, 8.0000, 0.4818, 0.5472, 0.1868, 0.0137, 0.0307, 0.3658, 0.3655,\n",
            "        0.9816])\n",
            "tensor([ 1.0000, 13.0000,  0.4642,  0.8440,  0.3214,  0.0148,  0.0378,  0.4242,\n",
            "         0.4929,  0.9999])\n",
            "tensor([1.0000e+00, 9.0000e+00, 5.2256e-01, 3.3047e-01, 1.1540e-01, 6.1429e-03,\n",
            "        1.5721e-02, 2.7200e-01, 9.8272e-01, 6.3030e-01])\n",
            "tensor([1.0000e+00, 1.9000e+01, 2.7080e-01, 4.3101e-01, 1.3160e-01, 3.1143e-03,\n",
            "        3.1143e-03, 2.4900e-01, 1.1697e-03, 5.3418e-01])\n",
            "tensor([1.0000e+00, 1.9000e+01, 2.7037e-01, 4.1854e-01, 1.6480e-01, 3.2929e-03,\n",
            "        2.9714e-03, 3.0640e-01, 1.1697e-03, 5.3418e-01])\n",
            "tensor([ 1.0000, 13.0000,  0.4256,  0.6364,  0.4552,  0.0215,  0.0799,  0.8486,\n",
            "         0.0517,  0.7213])\n",
            "tensor([1.0000, 8.0000, 0.5171, 0.1612, 0.1932, 0.0134, 0.0337, 0.3450, 0.5329,\n",
            "        0.9989])\n",
            "tensor([ 1.0000, 13.0000,  0.6161,  0.4778,  0.4416,  0.0192,  0.0639,  0.8340,\n",
            "         1.0000,  0.5021])\n",
            "tensor([1.0000, 0.0000, 0.3421, 0.5331, 0.1918, 0.0041, 0.0035, 0.3588, 0.5911,\n",
            "        0.9916])\n",
            "tensor([1.0000, 8.0000, 0.7654, 0.5204, 0.3004, 0.0135, 0.0321, 0.3766, 0.9995,\n",
            "        0.4784])\n",
            "tensor([1.0000, 8.0000, 0.3408, 0.1036, 0.1510, 0.0138, 0.0346, 0.3662, 0.3740,\n",
            "        0.0161])\n",
            "tensor([1.0000, 8.0000, 0.4525, 0.5420, 0.1992, 0.0134, 0.0321, 0.3572, 0.2712,\n",
            "        0.9446])\n",
            "tensor([1.0000, 8.0000, 0.5141, 0.0749, 0.2686, 0.0148, 0.0409, 0.4712, 0.5242,\n",
            "        0.9994])\n",
            "tensor([1.0000e+00, 1.8000e+01, 4.4125e-01, 3.5773e-01, 9.7800e-02, 2.2221e-02,\n",
            "        3.3357e-03, 1.5180e-01, 2.5878e-05, 5.0509e-01])\n",
            "tensor([1.0000e+00, 1.8000e+01, 5.7035e-01, 4.0166e-01, 2.0640e-01, 8.9000e-03,\n",
            "        2.8071e-03, 3.1360e-01, 4.6571e-01, 9.9882e-01])\n",
            "tensor([1.0000, 8.0000, 0.5204, 0.2109, 0.1708, 0.0127, 0.0317, 0.3268, 0.5138,\n",
            "        0.9998])\n"
          ],
          "name": "stdout"
        },
        {
          "output_type": "display_data",
          "data": {
            "text/plain": [
              "<Figure size 576x576 with 1 Axes>"
            ],
            "image/png": "[encoded data removed]"
          },
          "metadata": {
            "tags": [],
            "needs_background": "light"
          }
        },
        {
          "output_type": "stream",
          "text": [
            "[tensor([4.7302e-01, 7.6730e-02, 2.6600e-01, 1.5086e-02, 3.5193e-02, 3.4580e-01,\n",
            "        5.1714e-01, 2.9388e-04]), tensor([0.6311, 0.5233, 0.4596, 0.0225, 0.1176, 0.8204, 0.0064, 0.5795]), tensor([0.3730, 0.3349, 0.1782, 0.0118, 0.0303, 0.2980, 0.0047, 0.4315]), tensor([0.4677, 0.4646, 0.4092, 0.0155, 0.0154, 0.6754, 0.5357, 0.0013]), tensor([0.4311, 0.4619, 0.3644, 0.0214, 0.0632, 0.6704, 0.5439, 0.0019]), tensor([4.7253e-01, 4.6851e-01, 1.4440e-01, 3.2857e-03, 3.0571e-03, 1.9720e-01,\n",
            "        2.6641e-05, 5.0516e-01]), tensor([0.4253, 0.5344, 0.3552, 0.0219, 0.0792, 0.7042, 0.5352, 0.0012]), tensor([0.5637, 0.5127, 0.1454, 0.0223, 0.0053, 0.1524, 1.0000, 0.5008]), tensor([0.4684, 0.4507, 0.1216, 0.0028, 0.0052, 0.0894, 0.4379, 0.9961])]\n",
            "tensor([[5.7622e-01, 5.8526e-01, 6.5716e-01, 9.4770e-03, 4.7274e-03, 1.1962e+00,\n",
            "         4.5703e-01, 4.8561e-01, 4.0165e-01, 6.9614e-01, 1.8000e+01],\n",
            "        [5.3411e-01, 5.7372e-01, 6.7808e-01, 7.7231e-03, 4.6344e-03, 1.2684e+00,\n",
            "         4.2535e-01, 4.8497e-01, 3.1026e-01, 4.0773e-01, 0.0000e+00],\n",
            "        [5.7953e-01, 6.0916e-01, 7.8906e-01, 9.2664e-03, 7.2021e-03, 1.3348e+00,\n",
            "         4.1631e-01, 5.2484e-01, 3.1427e-01, 2.9700e-01, 1.9000e+01]])\n"
          ],
          "name": "stdout"
        }
      ]
    },
    {
      "cell_type": "code",
      "metadata": {
        "id": "rVUXxDqZayNP",
        "colab": {
          "base_uri": "https://localhost:8080/"
        },
        "outputId": "b6a29e88-abb5-47ce-cba5-2010949f66c2"
      },
      "source": [
        "print(tragets.size())"
      ],
      "execution_count": 21,
      "outputs": [
        {
          "output_type": "stream",
          "text": [
            "torch.Size([38, 10])\n"
          ],
          "name": "stdout"
        }
      ]
    },
    {
      "cell_type": "code",
      "metadata": {
        "id": "10RWCATMGcqG",
        "colab": {
          "base_uri": "https://localhost:8080/",
          "height": 286
        },
        "outputId": "29c64d3d-d55d-4c22-9fd7-a37d48aabf5c"
      },
      "source": [
        "plt.imshow(  img[0].cpu().permute(1, 2, 0)  )"
      ],
      "execution_count": 22,
      "outputs": [
        {
          "output_type": "execute_result",
          "data": {
            "text/plain": [
              "<matplotlib.image.AxesImage at 0x7fe5c2c6c490>"
            ]
          },
          "metadata": {
            "tags": []
          },
          "execution_count": 22
        },
        {
          "output_type": "display_data",
          "data": {
            "text/plain": [
              "<Figure size 432x288 with 1 Axes>"
            ],
            "image/png": "[encoded data removed]"
          },
          "metadata": {
            "tags": [],
            "needs_background": "light"
          }
        }
      ]
    },
    {
      "cell_type": "code",
      "metadata": {
        "id": "5jHwWqMFX8n5",
        "colab": {
          "base_uri": "https://localhost:8080/",
          "height": 504
        },
        "outputId": "79011745-8a1c-4f5e-ee77-fa02992b23bf"
      },
      "source": [
        "draw(out[0])\r\n",
        "print(len(out[0]))"
      ],
      "execution_count": 23,
      "outputs": [
        {
          "output_type": "display_data",
          "data": {
            "text/plain": [
              "<Figure size 576x576 with 1 Axes>"
            ],
            "image/png": "[encoded data removed]"
          },
          "metadata": {
            "tags": [],
            "needs_background": "light"
          }
        },
        {
          "output_type": "stream",
          "text": [
            "3\n"
          ],
          "name": "stdout"
        }
      ]
    },
    {
      "cell_type": "code",
      "metadata": {
        "id": "d2qIApnwh5pK",
        "colab": {
          "base_uri": "https://localhost:8080/",
          "height": 483
        },
        "outputId": "56473847-6b12-46d3-fa30-8e090ff9e6a0"
      },
      "source": [
        "draw(out[0])"
      ],
      "execution_count": null,
      "outputs": [
        {
          "output_type": "display_data",
          "data": {
            "image/png": "[encoded data removed]",
            "text/plain": [
              "<Figure size 576x576 with 1 Axes>"
            ]
          },
          "metadata": {
            "tags": [],
            "needs_background": "light"
          }
        }
      ]
    },
    {
      "cell_type": "markdown",
      "metadata": {
        "id": "m0jfQRuyqhHq"
      },
      "source": [
        "#Testing (Nuscene's Basics)"
      ]
    },
    {
      "cell_type": "code",
      "metadata": {
        "id": "C1v635cuk858"
      },
      "source": [
        "classes = nusc.get('category',)"
      ],
      "execution_count": null,
      "outputs": []
    },
    {
      "cell_type": "code",
      "metadata": {
        "colab": {
          "base_uri": "https://localhost:8080/"
        },
        "id": "KVYn959sH3Pz",
        "outputId": "7e1bafa7-c9fc-4a69-c631-391fb9189069"
      },
      "source": [
        "model.eval()"
      ],
      "execution_count": null,
      "outputs": [
        {
          "output_type": "execute_result",
          "data": {
            "text/plain": [
              "Darknet(\n",
              "  (module_list): ModuleList(\n",
              "    (0): Sequential(\n",
              "      (conv_0): Conv2d(3, 32, kernel_size=(3, 3), stride=(1, 1), padding=(1, 1), bias=False)\n",
              "      (batch_norm_0): BatchNorm2d(32, eps=1e-05, momentum=0.9, affine=True, track_running_stats=True)\n",
              "      (leaky_0): LeakyReLU(negative_slope=0.1)\n",
              "    )\n",
              "    (1): Sequential(\n",
              "      (conv_1): Conv2d(32, 64, kernel_size=(3, 3), stride=(2, 2), padding=(1, 1), bias=False)\n",
              "      (batch_norm_1): BatchNorm2d(64, eps=1e-05, momentum=0.9, affine=True, track_running_stats=True)\n",
              "      (leaky_1): LeakyReLU(negative_slope=0.1)\n",
              "    )\n",
              "    (2): Sequential(\n",
              "      (conv_2): Conv2d(64, 32, kernel_size=(1, 1), stride=(1, 1), bias=False)\n",
              "      (batch_norm_2): BatchNorm2d(32, eps=1e-05, momentum=0.9, affine=True, track_running_stats=True)\n",
              "      (leaky_2): LeakyReLU(negative_slope=0.1)\n",
              "    )\n",
              "    (3): Sequential(\n",
              "      (conv_3): Conv2d(32, 64, kernel_size=(3, 3), stride=(1, 1), padding=(1, 1), bias=False)\n",
              "      (batch_norm_3): BatchNorm2d(64, eps=1e-05, momentum=0.9, affine=True, track_running_stats=True)\n",
              "      (leaky_3): LeakyReLU(negative_slope=0.1)\n",
              "    )\n",
              "    (4): Sequential(\n",
              "      (shortcut_4): EmptyLayer()\n",
              "    )\n",
              "    (5): Sequential(\n",
              "      (conv_5): Conv2d(64, 128, kernel_size=(3, 3), stride=(2, 2), padding=(1, 1), bias=False)\n",
              "      (batch_norm_5): BatchNorm2d(128, eps=1e-05, momentum=0.9, affine=True, track_running_stats=True)\n",
              "      (leaky_5): LeakyReLU(negative_slope=0.1)\n",
              "    )\n",
              "    (6): Sequential(\n",
              "      (conv_6): Conv2d(128, 64, kernel_size=(1, 1), stride=(1, 1), bias=False)\n",
              "      (batch_norm_6): BatchNorm2d(64, eps=1e-05, momentum=0.9, affine=True, track_running_stats=True)\n",
              "      (leaky_6): LeakyReLU(negative_slope=0.1)\n",
              "    )\n",
              "    (7): Sequential(\n",
              "      (conv_7): Conv2d(64, 128, kernel_size=(3, 3), stride=(1, 1), padding=(1, 1), bias=False)\n",
              "      (batch_norm_7): BatchNorm2d(128, eps=1e-05, momentum=0.9, affine=True, track_running_stats=True)\n",
              "      (leaky_7): LeakyReLU(negative_slope=0.1)\n",
              "    )\n",
              "    (8): Sequential(\n",
              "      (shortcut_8): EmptyLayer()\n",
              "    )\n",
              "    (9): Sequential(\n",
              "      (conv_9): Conv2d(128, 64, kernel_size=(1, 1), stride=(1, 1), bias=False)\n",
              "      (batch_norm_9): BatchNorm2d(64, eps=1e-05, momentum=0.9, affine=True, track_running_stats=True)\n",
              "      (leaky_9): LeakyReLU(negative_slope=0.1)\n",
              "    )\n",
              "    (10): Sequential(\n",
              "      (conv_10): Conv2d(64, 128, kernel_size=(3, 3), stride=(1, 1), padding=(1, 1), bias=False)\n",
              "      (batch_norm_10): BatchNorm2d(128, eps=1e-05, momentum=0.9, affine=True, track_running_stats=True)\n",
              "      (leaky_10): LeakyReLU(negative_slope=0.1)\n",
              "    )\n",
              "    (11): Sequential(\n",
              "      (shortcut_11): EmptyLayer()\n",
              "    )\n",
              "    (12): Sequential(\n",
              "      (conv_12): Conv2d(128, 256, kernel_size=(3, 3), stride=(2, 2), padding=(1, 1), bias=False)\n",
              "      (batch_norm_12): BatchNorm2d(256, eps=1e-05, momentum=0.9, affine=True, track_running_stats=True)\n",
              "      (leaky_12): LeakyReLU(negative_slope=0.1)\n",
              "    )\n",
              "    (13): Sequential(\n",
              "      (conv_13): Conv2d(256, 128, kernel_size=(1, 1), stride=(1, 1), bias=False)\n",
              "      (batch_norm_13): BatchNorm2d(128, eps=1e-05, momentum=0.9, affine=True, track_running_stats=True)\n",
              "      (leaky_13): LeakyReLU(negative_slope=0.1)\n",
              "    )\n",
              "    (14): Sequential(\n",
              "      (conv_14): Conv2d(128, 256, kernel_size=(3, 3), stride=(1, 1), padding=(1, 1), bias=False)\n",
              "      (batch_norm_14): BatchNorm2d(256, eps=1e-05, momentum=0.9, affine=True, track_running_stats=True)\n",
              "      (leaky_14): LeakyReLU(negative_slope=0.1)\n",
              "    )\n",
              "    (15): Sequential(\n",
              "      (shortcut_15): EmptyLayer()\n",
              "    )\n",
              "    (16): Sequential(\n",
              "      (conv_16): Conv2d(256, 128, kernel_size=(1, 1), stride=(1, 1), bias=False)\n",
              "      (batch_norm_16): BatchNorm2d(128, eps=1e-05, momentum=0.9, affine=True, track_running_stats=True)\n",
              "      (leaky_16): LeakyReLU(negative_slope=0.1)\n",
              "    )\n",
              "    (17): Sequential(\n",
              "      (conv_17): Conv2d(128, 256, kernel_size=(3, 3), stride=(1, 1), padding=(1, 1), bias=False)\n",
              "      (batch_norm_17): BatchNorm2d(256, eps=1e-05, momentum=0.9, affine=True, track_running_stats=True)\n",
              "      (leaky_17): LeakyReLU(negative_slope=0.1)\n",
              "    )\n",
              "    (18): Sequential(\n",
              "      (shortcut_18): EmptyLayer()\n",
              "    )\n",
              "    (19): Sequential(\n",
              "      (conv_19): Conv2d(256, 128, kernel_size=(1, 1), stride=(1, 1), bias=False)\n",
              "      (batch_norm_19): BatchNorm2d(128, eps=1e-05, momentum=0.9, affine=True, track_running_stats=True)\n",
              "      (leaky_19): LeakyReLU(negative_slope=0.1)\n",
              "    )\n",
              "    (20): Sequential(\n",
              "      (conv_20): Conv2d(128, 256, kernel_size=(3, 3), stride=(1, 1), padding=(1, 1), bias=False)\n",
              "      (batch_norm_20): BatchNorm2d(256, eps=1e-05, momentum=0.9, affine=True, track_running_stats=True)\n",
              "      (leaky_20): LeakyReLU(negative_slope=0.1)\n",
              "    )\n",
              "    (21): Sequential(\n",
              "      (shortcut_21): EmptyLayer()\n",
              "    )\n",
              "    (22): Sequential(\n",
              "      (conv_22): Conv2d(256, 128, kernel_size=(1, 1), stride=(1, 1), bias=False)\n",
              "      (batch_norm_22): BatchNorm2d(128, eps=1e-05, momentum=0.9, affine=True, track_running_stats=True)\n",
              "      (leaky_22): LeakyReLU(negative_slope=0.1)\n",
              "    )\n",
              "    (23): Sequential(\n",
              "      (conv_23): Conv2d(128, 256, kernel_size=(3, 3), stride=(1, 1), padding=(1, 1), bias=False)\n",
              "      (batch_norm_23): BatchNorm2d(256, eps=1e-05, momentum=0.9, affine=True, track_running_stats=True)\n",
              "      (leaky_23): LeakyReLU(negative_slope=0.1)\n",
              "    )\n",
              "    (24): Sequential(\n",
              "      (shortcut_24): EmptyLayer()\n",
              "    )\n",
              "    (25): Sequential(\n",
              "      (conv_25): Conv2d(256, 128, kernel_size=(1, 1), stride=(1, 1), bias=False)\n",
              "      (batch_norm_25): BatchNorm2d(128, eps=1e-05, momentum=0.9, affine=True, track_running_stats=True)\n",
              "      (leaky_25): LeakyReLU(negative_slope=0.1)\n",
              "    )\n",
              "    (26): Sequential(\n",
              "      (conv_26): Conv2d(128, 256, kernel_size=(3, 3), stride=(1, 1), padding=(1, 1), bias=False)\n",
              "      (batch_norm_26): BatchNorm2d(256, eps=1e-05, momentum=0.9, affine=True, track_running_stats=True)\n",
              "      (leaky_26): LeakyReLU(negative_slope=0.1)\n",
              "    )\n",
              "    (27): Sequential(\n",
              "      (shortcut_27): EmptyLayer()\n",
              "    )\n",
              "    (28): Sequential(\n",
              "      (conv_28): Conv2d(256, 128, kernel_size=(1, 1), stride=(1, 1), bias=False)\n",
              "      (batch_norm_28): BatchNorm2d(128, eps=1e-05, momentum=0.9, affine=True, track_running_stats=True)\n",
              "      (leaky_28): LeakyReLU(negative_slope=0.1)\n",
              "    )\n",
              "    (29): Sequential(\n",
              "      (conv_29): Conv2d(128, 256, kernel_size=(3, 3), stride=(1, 1), padding=(1, 1), bias=False)\n",
              "      (batch_norm_29): BatchNorm2d(256, eps=1e-05, momentum=0.9, affine=True, track_running_stats=True)\n",
              "      (leaky_29): LeakyReLU(negative_slope=0.1)\n",
              "    )\n",
              "    (30): Sequential(\n",
              "      (shortcut_30): EmptyLayer()\n",
              "    )\n",
              "    (31): Sequential(\n",
              "      (conv_31): Conv2d(256, 128, kernel_size=(1, 1), stride=(1, 1), bias=False)\n",
              "      (batch_norm_31): BatchNorm2d(128, eps=1e-05, momentum=0.9, affine=True, track_running_stats=True)\n",
              "      (leaky_31): LeakyReLU(negative_slope=0.1)\n",
              "    )\n",
              "    (32): Sequential(\n",
              "      (conv_32): Conv2d(128, 256, kernel_size=(3, 3), stride=(1, 1), padding=(1, 1), bias=False)\n",
              "      (batch_norm_32): BatchNorm2d(256, eps=1e-05, momentum=0.9, affine=True, track_running_stats=True)\n",
              "      (leaky_32): LeakyReLU(negative_slope=0.1)\n",
              "    )\n",
              "    (33): Sequential(\n",
              "      (shortcut_33): EmptyLayer()\n",
              "    )\n",
              "    (34): Sequential(\n",
              "      (conv_34): Conv2d(256, 128, kernel_size=(1, 1), stride=(1, 1), bias=False)\n",
              "      (batch_norm_34): BatchNorm2d(128, eps=1e-05, momentum=0.9, affine=True, track_running_stats=True)\n",
              "      (leaky_34): LeakyReLU(negative_slope=0.1)\n",
              "    )\n",
              "    (35): Sequential(\n",
              "      (conv_35): Conv2d(128, 256, kernel_size=(3, 3), stride=(1, 1), padding=(1, 1), bias=False)\n",
              "      (batch_norm_35): BatchNorm2d(256, eps=1e-05, momentum=0.9, affine=True, track_running_stats=True)\n",
              "      (leaky_35): LeakyReLU(negative_slope=0.1)\n",
              "    )\n",
              "    (36): Sequential(\n",
              "      (shortcut_36): EmptyLayer()\n",
              "    )\n",
              "    (37): Sequential(\n",
              "      (conv_37): Conv2d(256, 512, kernel_size=(3, 3), stride=(2, 2), padding=(1, 1), bias=False)\n",
              "      (batch_norm_37): BatchNorm2d(512, eps=1e-05, momentum=0.9, affine=True, track_running_stats=True)\n",
              "      (leaky_37): LeakyReLU(negative_slope=0.1)\n",
              "    )\n",
              "    (38): Sequential(\n",
              "      (conv_38): Conv2d(512, 256, kernel_size=(1, 1), stride=(1, 1), bias=False)\n",
              "      (batch_norm_38): BatchNorm2d(256, eps=1e-05, momentum=0.9, affine=True, track_running_stats=True)\n",
              "      (leaky_38): LeakyReLU(negative_slope=0.1)\n",
              "    )\n",
              "    (39): Sequential(\n",
              "      (conv_39): Conv2d(256, 512, kernel_size=(3, 3), stride=(1, 1), padding=(1, 1), bias=False)\n",
              "      (batch_norm_39): BatchNorm2d(512, eps=1e-05, momentum=0.9, affine=True, track_running_stats=True)\n",
              "      (leaky_39): LeakyReLU(negative_slope=0.1)\n",
              "    )\n",
              "    (40): Sequential(\n",
              "      (shortcut_40): EmptyLayer()\n",
              "    )\n",
              "    (41): Sequential(\n",
              "      (conv_41): Conv2d(512, 256, kernel_size=(1, 1), stride=(1, 1), bias=False)\n",
              "      (batch_norm_41): BatchNorm2d(256, eps=1e-05, momentum=0.9, affine=True, track_running_stats=True)\n",
              "      (leaky_41): LeakyReLU(negative_slope=0.1)\n",
              "    )\n",
              "    (42): Sequential(\n",
              "      (conv_42): Conv2d(256, 512, kernel_size=(3, 3), stride=(1, 1), padding=(1, 1), bias=False)\n",
              "      (batch_norm_42): BatchNorm2d(512, eps=1e-05, momentum=0.9, affine=True, track_running_stats=True)\n",
              "      (leaky_42): LeakyReLU(negative_slope=0.1)\n",
              "    )\n",
              "    (43): Sequential(\n",
              "      (shortcut_43): EmptyLayer()\n",
              "    )\n",
              "    (44): Sequential(\n",
              "      (conv_44): Conv2d(512, 256, kernel_size=(1, 1), stride=(1, 1), bias=False)\n",
              "      (batch_norm_44): BatchNorm2d(256, eps=1e-05, momentum=0.9, affine=True, track_running_stats=True)\n",
              "      (leaky_44): LeakyReLU(negative_slope=0.1)\n",
              "    )\n",
              "    (45): Sequential(\n",
              "      (conv_45): Conv2d(256, 512, kernel_size=(3, 3), stride=(1, 1), padding=(1, 1), bias=False)\n",
              "      (batch_norm_45): BatchNorm2d(512, eps=1e-05, momentum=0.9, affine=True, track_running_stats=True)\n",
              "      (leaky_45): LeakyReLU(negative_slope=0.1)\n",
              "    )\n",
              "    (46): Sequential(\n",
              "      (shortcut_46): EmptyLayer()\n",
              "    )\n",
              "    (47): Sequential(\n",
              "      (conv_47): Conv2d(512, 256, kernel_size=(1, 1), stride=(1, 1), bias=False)\n",
              "      (batch_norm_47): BatchNorm2d(256, eps=1e-05, momentum=0.9, affine=True, track_running_stats=True)\n",
              "      (leaky_47): LeakyReLU(negative_slope=0.1)\n",
              "    )\n",
              "    (48): Sequential(\n",
              "      (conv_48): Conv2d(256, 512, kernel_size=(3, 3), stride=(1, 1), padding=(1, 1), bias=False)\n",
              "      (batch_norm_48): BatchNorm2d(512, eps=1e-05, momentum=0.9, affine=True, track_running_stats=True)\n",
              "      (leaky_48): LeakyReLU(negative_slope=0.1)\n",
              "    )\n",
              "    (49): Sequential(\n",
              "      (shortcut_49): EmptyLayer()\n",
              "    )\n",
              "    (50): Sequential(\n",
              "      (conv_50): Conv2d(512, 256, kernel_size=(1, 1), stride=(1, 1), bias=False)\n",
              "      (batch_norm_50): BatchNorm2d(256, eps=1e-05, momentum=0.9, affine=True, track_running_stats=True)\n",
              "      (leaky_50): LeakyReLU(negative_slope=0.1)\n",
              "    )\n",
              "    (51): Sequential(\n",
              "      (conv_51): Conv2d(256, 512, kernel_size=(3, 3), stride=(1, 1), padding=(1, 1), bias=False)\n",
              "      (batch_norm_51): BatchNorm2d(512, eps=1e-05, momentum=0.9, affine=True, track_running_stats=True)\n",
              "      (leaky_51): LeakyReLU(negative_slope=0.1)\n",
              "    )\n",
              "    (52): Sequential(\n",
              "      (shortcut_52): EmptyLayer()\n",
              "    )\n",
              "    (53): Sequential(\n",
              "      (conv_53): Conv2d(512, 256, kernel_size=(1, 1), stride=(1, 1), bias=False)\n",
              "      (batch_norm_53): BatchNorm2d(256, eps=1e-05, momentum=0.9, affine=True, track_running_stats=True)\n",
              "      (leaky_53): LeakyReLU(negative_slope=0.1)\n",
              "    )\n",
              "    (54): Sequential(\n",
              "      (conv_54): Conv2d(256, 512, kernel_size=(3, 3), stride=(1, 1), padding=(1, 1), bias=False)\n",
              "      (batch_norm_54): BatchNorm2d(512, eps=1e-05, momentum=0.9, affine=True, track_running_stats=True)\n",
              "      (leaky_54): LeakyReLU(negative_slope=0.1)\n",
              "    )\n",
              "    (55): Sequential(\n",
              "      (shortcut_55): EmptyLayer()\n",
              "    )\n",
              "    (56): Sequential(\n",
              "      (conv_56): Conv2d(512, 256, kernel_size=(1, 1), stride=(1, 1), bias=False)\n",
              "      (batch_norm_56): BatchNorm2d(256, eps=1e-05, momentum=0.9, affine=True, track_running_stats=True)\n",
              "      (leaky_56): LeakyReLU(negative_slope=0.1)\n",
              "    )\n",
              "    (57): Sequential(\n",
              "      (conv_57): Conv2d(256, 512, kernel_size=(3, 3), stride=(1, 1), padding=(1, 1), bias=False)\n",
              "      (batch_norm_57): BatchNorm2d(512, eps=1e-05, momentum=0.9, affine=True, track_running_stats=True)\n",
              "      (leaky_57): LeakyReLU(negative_slope=0.1)\n",
              "    )\n",
              "    (58): Sequential(\n",
              "      (shortcut_58): EmptyLayer()\n",
              "    )\n",
              "    (59): Sequential(\n",
              "      (conv_59): Conv2d(512, 256, kernel_size=(1, 1), stride=(1, 1), bias=False)\n",
              "      (batch_norm_59): BatchNorm2d(256, eps=1e-05, momentum=0.9, affine=True, track_running_stats=True)\n",
              "      (leaky_59): LeakyReLU(negative_slope=0.1)\n",
              "    )\n",
              "    (60): Sequential(\n",
              "      (conv_60): Conv2d(256, 512, kernel_size=(3, 3), stride=(1, 1), padding=(1, 1), bias=False)\n",
              "      (batch_norm_60): BatchNorm2d(512, eps=1e-05, momentum=0.9, affine=True, track_running_stats=True)\n",
              "      (leaky_60): LeakyReLU(negative_slope=0.1)\n",
              "    )\n",
              "    (61): Sequential(\n",
              "      (shortcut_61): EmptyLayer()\n",
              "    )\n",
              "    (62): Sequential(\n",
              "      (conv_62): Conv2d(512, 1024, kernel_size=(3, 3), stride=(2, 2), padding=(1, 1), bias=False)\n",
              "      (batch_norm_62): BatchNorm2d(1024, eps=1e-05, momentum=0.9, affine=True, track_running_stats=True)\n",
              "      (leaky_62): LeakyReLU(negative_slope=0.1)\n",
              "    )\n",
              "    (63): Sequential(\n",
              "      (conv_63): Conv2d(1024, 512, kernel_size=(1, 1), stride=(1, 1), bias=False)\n",
              "      (batch_norm_63): BatchNorm2d(512, eps=1e-05, momentum=0.9, affine=True, track_running_stats=True)\n",
              "      (leaky_63): LeakyReLU(negative_slope=0.1)\n",
              "    )\n",
              "    (64): Sequential(\n",
              "      (conv_64): Conv2d(512, 1024, kernel_size=(3, 3), stride=(1, 1), padding=(1, 1), bias=False)\n",
              "      (batch_norm_64): BatchNorm2d(1024, eps=1e-05, momentum=0.9, affine=True, track_running_stats=True)\n",
              "      (leaky_64): LeakyReLU(negative_slope=0.1)\n",
              "    )\n",
              "    (65): Sequential(\n",
              "      (shortcut_65): EmptyLayer()\n",
              "    )\n",
              "    (66): Sequential(\n",
              "      (conv_66): Conv2d(1024, 512, kernel_size=(1, 1), stride=(1, 1), bias=False)\n",
              "      (batch_norm_66): BatchNorm2d(512, eps=1e-05, momentum=0.9, affine=True, track_running_stats=True)\n",
              "      (leaky_66): LeakyReLU(negative_slope=0.1)\n",
              "    )\n",
              "    (67): Sequential(\n",
              "      (conv_67): Conv2d(512, 1024, kernel_size=(3, 3), stride=(1, 1), padding=(1, 1), bias=False)\n",
              "      (batch_norm_67): BatchNorm2d(1024, eps=1e-05, momentum=0.9, affine=True, track_running_stats=True)\n",
              "      (leaky_67): LeakyReLU(negative_slope=0.1)\n",
              "    )\n",
              "    (68): Sequential(\n",
              "      (shortcut_68): EmptyLayer()\n",
              "    )\n",
              "    (69): Sequential(\n",
              "      (conv_69): Conv2d(1024, 512, kernel_size=(1, 1), stride=(1, 1), bias=False)\n",
              "      (batch_norm_69): BatchNorm2d(512, eps=1e-05, momentum=0.9, affine=True, track_running_stats=True)\n",
              "      (leaky_69): LeakyReLU(negative_slope=0.1)\n",
              "    )\n",
              "    (70): Sequential(\n",
              "      (conv_70): Conv2d(512, 1024, kernel_size=(3, 3), stride=(1, 1), padding=(1, 1), bias=False)\n",
              "      (batch_norm_70): BatchNorm2d(1024, eps=1e-05, momentum=0.9, affine=True, track_running_stats=True)\n",
              "      (leaky_70): LeakyReLU(negative_slope=0.1)\n",
              "    )\n",
              "    (71): Sequential(\n",
              "      (shortcut_71): EmptyLayer()\n",
              "    )\n",
              "    (72): Sequential(\n",
              "      (conv_72): Conv2d(1024, 512, kernel_size=(1, 1), stride=(1, 1), bias=False)\n",
              "      (batch_norm_72): BatchNorm2d(512, eps=1e-05, momentum=0.9, affine=True, track_running_stats=True)\n",
              "      (leaky_72): LeakyReLU(negative_slope=0.1)\n",
              "    )\n",
              "    (73): Sequential(\n",
              "      (conv_73): Conv2d(512, 1024, kernel_size=(3, 3), stride=(1, 1), padding=(1, 1), bias=False)\n",
              "      (batch_norm_73): BatchNorm2d(1024, eps=1e-05, momentum=0.9, affine=True, track_running_stats=True)\n",
              "      (leaky_73): LeakyReLU(negative_slope=0.1)\n",
              "    )\n",
              "    (74): Sequential(\n",
              "      (shortcut_74): EmptyLayer()\n",
              "    )\n",
              "    (75): Sequential(\n",
              "      (conv_75): Conv2d(1024, 512, kernel_size=(1, 1), stride=(1, 1), bias=False)\n",
              "      (batch_norm_75): BatchNorm2d(512, eps=1e-05, momentum=0.9, affine=True, track_running_stats=True)\n",
              "      (leaky_75): LeakyReLU(negative_slope=0.1)\n",
              "    )\n",
              "    (76): Sequential(\n",
              "      (conv_76): Conv2d(512, 1024, kernel_size=(3, 3), stride=(1, 1), padding=(1, 1), bias=False)\n",
              "      (batch_norm_76): BatchNorm2d(1024, eps=1e-05, momentum=0.9, affine=True, track_running_stats=True)\n",
              "      (leaky_76): LeakyReLU(negative_slope=0.1)\n",
              "    )\n",
              "    (77): Sequential(\n",
              "      (conv_77): Conv2d(1024, 512, kernel_size=(1, 1), stride=(1, 1), bias=False)\n",
              "      (batch_norm_77): BatchNorm2d(512, eps=1e-05, momentum=0.9, affine=True, track_running_stats=True)\n",
              "      (leaky_77): LeakyReLU(negative_slope=0.1)\n",
              "    )\n",
              "    (78): Sequential(\n",
              "      (conv_78): Conv2d(512, 1024, kernel_size=(3, 3), stride=(1, 1), padding=(1, 1), bias=False)\n",
              "      (batch_norm_78): BatchNorm2d(1024, eps=1e-05, momentum=0.9, affine=True, track_running_stats=True)\n",
              "      (leaky_78): LeakyReLU(negative_slope=0.1)\n",
              "    )\n",
              "    (79): Sequential(\n",
              "      (conv_79): Conv2d(1024, 512, kernel_size=(1, 1), stride=(1, 1), bias=False)\n",
              "      (batch_norm_79): BatchNorm2d(512, eps=1e-05, momentum=0.9, affine=True, track_running_stats=True)\n",
              "      (leaky_79): LeakyReLU(negative_slope=0.1)\n",
              "    )\n",
              "    (80): Sequential(\n",
              "      (conv_80): Conv2d(512, 1024, kernel_size=(3, 3), stride=(1, 1), padding=(1, 1), bias=False)\n",
              "      (batch_norm_80): BatchNorm2d(1024, eps=1e-05, momentum=0.9, affine=True, track_running_stats=True)\n",
              "      (leaky_80): LeakyReLU(negative_slope=0.1)\n",
              "    )\n",
              "    (81): Sequential(\n",
              "      (conv_81): Conv2d(1024, 96, kernel_size=(1, 1), stride=(1, 1))\n",
              "    )\n",
              "    (82): Sequential(\n",
              "      (yolo_82): YOLOLayer(\n",
              "        (mse_loss): MSELoss()\n",
              "        (bce_loss): BCELoss()\n",
              "      )\n",
              "    )\n",
              "    (83): Sequential(\n",
              "      (route_83): EmptyLayer()\n",
              "    )\n",
              "    (84): Sequential(\n",
              "      (conv_84): Conv2d(512, 256, kernel_size=(1, 1), stride=(1, 1), bias=False)\n",
              "      (batch_norm_84): BatchNorm2d(256, eps=1e-05, momentum=0.9, affine=True, track_running_stats=True)\n",
              "      (leaky_84): LeakyReLU(negative_slope=0.1)\n",
              "    )\n",
              "    (85): Sequential(\n",
              "      (upsample_85): Upsample()\n",
              "    )\n",
              "    (86): Sequential(\n",
              "      (route_86): EmptyLayer()\n",
              "    )\n",
              "    (87): Sequential(\n",
              "      (conv_87): Conv2d(768, 256, kernel_size=(1, 1), stride=(1, 1), bias=False)\n",
              "      (batch_norm_87): BatchNorm2d(256, eps=1e-05, momentum=0.9, affine=True, track_running_stats=True)\n",
              "      (leaky_87): LeakyReLU(negative_slope=0.1)\n",
              "    )\n",
              "    (88): Sequential(\n",
              "      (conv_88): Conv2d(256, 512, kernel_size=(3, 3), stride=(1, 1), padding=(1, 1), bias=False)\n",
              "      (batch_norm_88): BatchNorm2d(512, eps=1e-05, momentum=0.9, affine=True, track_running_stats=True)\n",
              "      (leaky_88): LeakyReLU(negative_slope=0.1)\n",
              "    )\n",
              "    (89): Sequential(\n",
              "      (conv_89): Conv2d(512, 256, kernel_size=(1, 1), stride=(1, 1), bias=False)\n",
              "      (batch_norm_89): BatchNorm2d(256, eps=1e-05, momentum=0.9, affine=True, track_running_stats=True)\n",
              "      (leaky_89): LeakyReLU(negative_slope=0.1)\n",
              "    )\n",
              "    (90): Sequential(\n",
              "      (conv_90): Conv2d(256, 512, kernel_size=(3, 3), stride=(1, 1), padding=(1, 1), bias=False)\n",
              "      (batch_norm_90): BatchNorm2d(512, eps=1e-05, momentum=0.9, affine=True, track_running_stats=True)\n",
              "      (leaky_90): LeakyReLU(negative_slope=0.1)\n",
              "    )\n",
              "    (91): Sequential(\n",
              "      (conv_91): Conv2d(512, 256, kernel_size=(1, 1), stride=(1, 1), bias=False)\n",
              "      (batch_norm_91): BatchNorm2d(256, eps=1e-05, momentum=0.9, affine=True, track_running_stats=True)\n",
              "      (leaky_91): LeakyReLU(negative_slope=0.1)\n",
              "    )\n",
              "    (92): Sequential(\n",
              "      (conv_92): Conv2d(256, 512, kernel_size=(3, 3), stride=(1, 1), padding=(1, 1), bias=False)\n",
              "      (batch_norm_92): BatchNorm2d(512, eps=1e-05, momentum=0.9, affine=True, track_running_stats=True)\n",
              "      (leaky_92): LeakyReLU(negative_slope=0.1)\n",
              "    )\n",
              "    (93): Sequential(\n",
              "      (conv_93): Conv2d(512, 96, kernel_size=(1, 1), stride=(1, 1))\n",
              "    )\n",
              "    (94): Sequential(\n",
              "      (yolo_94): YOLOLayer(\n",
              "        (mse_loss): MSELoss()\n",
              "        (bce_loss): BCELoss()\n",
              "      )\n",
              "    )\n",
              "    (95): Sequential(\n",
              "      (route_95): EmptyLayer()\n",
              "    )\n",
              "    (96): Sequential(\n",
              "      (conv_96): Conv2d(256, 128, kernel_size=(1, 1), stride=(1, 1), bias=False)\n",
              "      (batch_norm_96): BatchNorm2d(128, eps=1e-05, momentum=0.9, affine=True, track_running_stats=True)\n",
              "      (leaky_96): LeakyReLU(negative_slope=0.1)\n",
              "    )\n",
              "    (97): Sequential(\n",
              "      (upsample_97): Upsample()\n",
              "    )\n",
              "    (98): Sequential(\n",
              "      (route_98): EmptyLayer()\n",
              "    )\n",
              "    (99): Sequential(\n",
              "      (conv_99): Conv2d(384, 128, kernel_size=(1, 1), stride=(1, 1), bias=False)\n",
              "      (batch_norm_99): BatchNorm2d(128, eps=1e-05, momentum=0.9, affine=True, track_running_stats=True)\n",
              "      (leaky_99): LeakyReLU(negative_slope=0.1)\n",
              "    )\n",
              "    (100): Sequential(\n",
              "      (conv_100): Conv2d(128, 256, kernel_size=(3, 3), stride=(1, 1), padding=(1, 1), bias=False)\n",
              "      (batch_norm_100): BatchNorm2d(256, eps=1e-05, momentum=0.9, affine=True, track_running_stats=True)\n",
              "      (leaky_100): LeakyReLU(negative_slope=0.1)\n",
              "    )\n",
              "    (101): Sequential(\n",
              "      (conv_101): Conv2d(256, 128, kernel_size=(1, 1), stride=(1, 1), bias=False)\n",
              "      (batch_norm_101): BatchNorm2d(128, eps=1e-05, momentum=0.9, affine=True, track_running_stats=True)\n",
              "      (leaky_101): LeakyReLU(negative_slope=0.1)\n",
              "    )\n",
              "    (102): Sequential(\n",
              "      (conv_102): Conv2d(128, 256, kernel_size=(3, 3), stride=(1, 1), padding=(1, 1), bias=False)\n",
              "      (batch_norm_102): BatchNorm2d(256, eps=1e-05, momentum=0.9, affine=True, track_running_stats=True)\n",
              "      (leaky_102): LeakyReLU(negative_slope=0.1)\n",
              "    )\n",
              "    (103): Sequential(\n",
              "      (conv_103): Conv2d(256, 128, kernel_size=(1, 1), stride=(1, 1), bias=False)\n",
              "      (batch_norm_103): BatchNorm2d(128, eps=1e-05, momentum=0.9, affine=True, track_running_stats=True)\n",
              "      (leaky_103): LeakyReLU(negative_slope=0.1)\n",
              "    )\n",
              "    (104): Sequential(\n",
              "      (conv_104): Conv2d(128, 256, kernel_size=(3, 3), stride=(1, 1), padding=(1, 1), bias=False)\n",
              "      (batch_norm_104): BatchNorm2d(256, eps=1e-05, momentum=0.9, affine=True, track_running_stats=True)\n",
              "      (leaky_104): LeakyReLU(negative_slope=0.1)\n",
              "    )\n",
              "    (105): Sequential(\n",
              "      (conv_105): Conv2d(256, 96, kernel_size=(1, 1), stride=(1, 1))\n",
              "    )\n",
              "    (106): Sequential(\n",
              "      (yolo_106): YOLOLayer(\n",
              "        (mse_loss): MSELoss()\n",
              "        (bce_loss): BCELoss()\n",
              "      )\n",
              "    )\n",
              "  )\n",
              ")"
            ]
          },
          "metadata": {
            "tags": []
          },
          "execution_count": 36
        }
      ]
    },
    {
      "cell_type": "code",
      "metadata": {
        "colab": {
          "base_uri": "https://localhost:8080/"
        },
        "id": "kxTzVdt1HyNt",
        "outputId": "6ac1b271-df32-49d3-cc08-c7f605a70757"
      },
      "source": [
        "img, label = next(iter(dataloader))\n",
        "print(img.shape)"
      ],
      "execution_count": null,
      "outputs": [
        {
          "output_type": "stream",
          "text": [
            "torch.Size([2, 3, 1184, 1184])\n"
          ],
          "name": "stdout"
        }
      ]
    },
    {
      "cell_type": "code",
      "metadata": {
        "colab": {
          "base_uri": "https://localhost:8080/"
        },
        "id": "Q89sfq4sHyPY",
        "outputId": "ee8f2cf5-f9d8-4dfb-a58f-9a56faab6f6d"
      },
      "source": [
        "loss, out = model(img.to(device),label.to(device))"
      ],
      "execution_count": null,
      "outputs": [
        {
          "output_type": "stream",
          "text": [
            "/usr/local/lib/python3.6/dist-packages/ipykernel_launcher.py:217: UserWarning: indexing with dtype torch.uint8 is now deprecated, please use a dtype torch.bool instead. (Triggered internally at  /pytorch/aten/src/ATen/native/IndexingUtils.h:25.)\n",
            "/usr/local/lib/python3.6/dist-packages/ipykernel_launcher.py:218: UserWarning: indexing with dtype torch.uint8 is now deprecated, please use a dtype torch.bool instead. (Triggered internally at  /pytorch/aten/src/ATen/native/IndexingUtils.h:25.)\n",
            "/usr/local/lib/python3.6/dist-packages/ipykernel_launcher.py:219: UserWarning: indexing with dtype torch.uint8 is now deprecated, please use a dtype torch.bool instead. (Triggered internally at  /pytorch/aten/src/ATen/native/IndexingUtils.h:25.)\n",
            "/usr/local/lib/python3.6/dist-packages/ipykernel_launcher.py:220: UserWarning: indexing with dtype torch.uint8 is now deprecated, please use a dtype torch.bool instead. (Triggered internally at  /pytorch/aten/src/ATen/native/IndexingUtils.h:25.)\n",
            "/usr/local/lib/python3.6/dist-packages/ipykernel_launcher.py:221: UserWarning: indexing with dtype torch.uint8 is now deprecated, please use a dtype torch.bool instead. (Triggered internally at  /pytorch/aten/src/ATen/native/IndexingUtils.h:25.)\n",
            "/usr/local/lib/python3.6/dist-packages/ipykernel_launcher.py:222: UserWarning: indexing with dtype torch.uint8 is now deprecated, please use a dtype torch.bool instead. (Triggered internally at  /pytorch/aten/src/ATen/native/IndexingUtils.h:25.)\n",
            "/usr/local/lib/python3.6/dist-packages/ipykernel_launcher.py:223: UserWarning: indexing with dtype torch.uint8 is now deprecated, please use a dtype torch.bool instead. (Triggered internally at  /pytorch/aten/src/ATen/native/IndexingUtils.h:25.)\n",
            "/usr/local/lib/python3.6/dist-packages/ipykernel_launcher.py:224: UserWarning: indexing with dtype torch.uint8 is now deprecated, please use a dtype torch.bool instead. (Triggered internally at  /pytorch/aten/src/ATen/native/IndexingUtils.h:25.)\n",
            "/usr/local/lib/python3.6/dist-packages/ipykernel_launcher.py:225: UserWarning: indexing with dtype torch.uint8 is now deprecated, please use a dtype torch.bool instead. (Triggered internally at  /pytorch/aten/src/ATen/native/IndexingUtils.h:25.)\n",
            "/usr/local/lib/python3.6/dist-packages/ipykernel_launcher.py:226: UserWarning: indexing with dtype torch.uint8 is now deprecated, please use a dtype torch.bool instead. (Triggered internally at  /pytorch/aten/src/ATen/native/IndexingUtils.h:25.)\n",
            "/usr/local/lib/python3.6/dist-packages/ipykernel_launcher.py:228: UserWarning: indexing with dtype torch.uint8 is now deprecated, please use a dtype torch.bool instead. (Triggered internally at  /pytorch/aten/src/ATen/native/IndexingUtils.h:25.)\n",
            "/usr/local/lib/python3.6/dist-packages/ipykernel_launcher.py:232: UserWarning: indexing with dtype torch.uint8 is now deprecated, please use a dtype torch.bool instead. (Triggered internally at  /pytorch/aten/src/ATen/native/IndexingUtils.h:25.)\n",
            "/usr/local/lib/python3.6/dist-packages/ipykernel_launcher.py:233: UserWarning: indexing with dtype torch.uint8 is now deprecated, please use a dtype torch.bool instead. (Triggered internally at  /pytorch/aten/src/ATen/native/IndexingUtils.h:25.)\n",
            "/usr/local/lib/python3.6/dist-packages/ipykernel_launcher.py:234: UserWarning: indexing with dtype torch.uint8 is now deprecated, please use a dtype torch.bool instead. (Triggered internally at  /pytorch/aten/src/ATen/native/IndexingUtils.h:25.)\n"
          ],
          "name": "stderr"
        }
      ]
    },
    {
      "cell_type": "code",
      "metadata": {
        "colab": {
          "base_uri": "https://localhost:8080/"
        },
        "id": "0EL2lkUEUaeZ",
        "outputId": "2538f9e0-5e4f-499e-ad7b-beb97ff23bc9"
      },
      "source": [
        "print(non_max_suppression(out.to(device))[1].shape)"
      ],
      "execution_count": null,
      "outputs": [
        {
          "output_type": "stream",
          "text": [
            "torch.Size([8, 11])\n"
          ],
          "name": "stdout"
        }
      ]
    },
    {
      "cell_type": "code",
      "metadata": {
        "colab": {
          "base_uri": "https://localhost:8080/"
        },
        "id": "h6K8n4CZT7Ft",
        "outputId": "14c726dd-6045-4fcf-d9c7-d2ac2f625efc"
      },
      "source": [
        "print(out.shape)"
      ],
      "execution_count": null,
      "outputs": [
        {
          "output_type": "stream",
          "text": [
            "torch.Size([2, 86247, 32])\n"
          ],
          "name": "stdout"
        }
      ]
    },
    {
      "cell_type": "code",
      "metadata": {
        "id": "4-DD17QtR2dq"
      },
      "source": [
        "del imgs,targets,out,loss\n",
        "torch.cuda.empty_cache()"
      ],
      "execution_count": null,
      "outputs": []
    },
    {
      "cell_type": "code",
      "metadata": {
        "colab": {
          "base_uri": "https://localhost:8080/",
          "height": 34
        },
        "id": "FgzPg8rc4Bse",
        "outputId": "09b09246-a40c-4a3e-ee09-ab10d16f41a9"
      },
      "source": [
        "print(label[:,2].max())"
      ],
      "execution_count": null,
      "outputs": [
        {
          "output_type": "stream",
          "text": [
            "tensor(0.8393)\n"
          ],
          "name": "stdout"
        }
      ]
    },
    {
      "cell_type": "code",
      "metadata": {
        "colab": {
          "base_uri": "https://localhost:8080/",
          "height": 34
        },
        "id": "Rju84T256zm-",
        "outputId": "2d9cfc4c-89f4-4450-9bc5-0871adf180e2"
      },
      "source": [
        "print(label[:,2].max())"
      ],
      "execution_count": null,
      "outputs": [
        {
          "output_type": "stream",
          "text": [
            "tensor(1982.4609)\n"
          ],
          "name": "stdout"
        }
      ]
    },
    {
      "cell_type": "code",
      "metadata": {
        "colab": {
          "base_uri": "https://localhost:8080/"
        },
        "id": "O3TwxDkCqj-g",
        "outputId": "08e44627-9bf0-4ef6-fbb5-2840a68bde2d"
      },
      "source": [
        "%matplotlib inline\n",
        "from nuscenes.nuscenes import NuScenes \n",
        "\n",
        "nusc = NuScenes(version='v1.0-mini', dataroot='drive/My Drive/data', verbose=True)"
      ],
      "execution_count": null,
      "outputs": [
        {
          "output_type": "stream",
          "text": [
            "======\n",
            "Loading NuScenes tables for version v1.0-mini...\n",
            "23 category,\n",
            "8 attribute,\n",
            "4 visibility,\n",
            "911 instance,\n",
            "12 sensor,\n",
            "120 calibrated_sensor,\n",
            "31206 ego_pose,\n",
            "8 log,\n",
            "10 scene,\n",
            "404 sample,\n",
            "31206 sample_data,\n",
            "18538 sample_annotation,\n",
            "4 map,\n",
            "Done loading in 1.387 seconds.\n",
            "======\n",
            "Reverse indexing ...\n",
            "Done reverse indexing in 0.1 seconds.\n",
            "======\n"
          ],
          "name": "stdout"
        }
      ]
    },
    {
      "cell_type": "code",
      "metadata": {
        "colab": {
          "base_uri": "https://localhost:8080/"
        },
        "id": "A13iNdjFqkm_",
        "outputId": "2757e855-84de-40c4-fcb5-0b087ca3c486"
      },
      "source": [
        "scene = nusc.scene[0]\n",
        "scene"
      ],
      "execution_count": null,
      "outputs": [
        {
          "output_type": "execute_result",
          "data": {
            "text/plain": [
              "{'description': 'Parked truck, construction, intersection, turn left, following a van',\n",
              " 'first_sample_token': 'ca9a282c9e77460f8360f564131a8af5',\n",
              " 'last_sample_token': 'ed5fc18c31904f96a8f0dbb99ff069c0',\n",
              " 'log_token': '7e25a2c8ea1f41c5b0da1e69ecfa71a2',\n",
              " 'name': 'scene-0061',\n",
              " 'nbr_samples': 39,\n",
              " 'token': 'cc8c0bf57f984915a77078b10eb33198'}"
            ]
          },
          "metadata": {
            "tags": []
          },
          "execution_count": 41
        }
      ]
    },
    {
      "cell_type": "code",
      "metadata": {
        "colab": {
          "base_uri": "https://localhost:8080/"
        },
        "id": "Hkw-qStdrcmq",
        "outputId": "5bf69695-0ca8-4faa-deb4-de210e99c4d9"
      },
      "source": [
        "sample_token = scene['first_sample_token']\n",
        "sample = nusc.get('sample',sample_token)\n",
        "sample"
      ],
      "execution_count": null,
      "outputs": [
        {
          "output_type": "execute_result",
          "data": {
            "text/plain": [
              "{'anns': ['ef63a697930c4b20a6b9791f423351da',\n",
              "  '6b89da9bf1f84fd6a5fbe1c3b236f809',\n",
              "  '924ee6ac1fed440a9d9e3720aac635a0',\n",
              "  '91e3608f55174a319246f361690906ba',\n",
              "  'cd051723ed9c40f692b9266359f547af',\n",
              "  '36d52dfedd764b27863375543c965376',\n",
              "  '70af124fceeb433ea73a79537e4bea9e',\n",
              "  '63b89fe17f3e41ecbe28337e0e35db8e',\n",
              "  'e4a3582721c34f528e3367f0bda9485d',\n",
              "  'fcb2332977ed4203aa4b7e04a538e309',\n",
              "  'a0cac1c12246451684116067ae2611f6',\n",
              "  '02248ff567e3497c957c369dc9a1bd5c',\n",
              "  '9db977e264964c2887db1e37113cddaa',\n",
              "  'ca9c5dd6cf374aa980fdd81022f016fd',\n",
              "  '179b8b54ee74425893387ebc09ee133d',\n",
              "  '5b990ac640bf498ca7fd55eaf85d3e12',\n",
              "  '16140fbf143d4e26a4a7613cbd3aa0e8',\n",
              "  '54939f11a73d4398b14aeef500bf0c23',\n",
              "  '83d881a6b3d94ef3a3bc3b585cc514f8',\n",
              "  '74986f1604f047b6925d409915265bf7',\n",
              "  'e86330c5538c4858b8d3ffe874556cc5',\n",
              "  'a7bd5bb89e27455bbb3dba89a576b6a1',\n",
              "  'fbd9d8c939b24f0eb6496243a41e8c41',\n",
              "  '198023a1fb5343a5b6fad033ab8b7057',\n",
              "  'ffeafb90ecd5429cba23d0be9a5b54ee',\n",
              "  'cc636a58e27e446cbdd030c14f3718fd',\n",
              "  '076a7e3ec6244d3b84e7df5ebcbac637',\n",
              "  '0603fbaef1234c6c86424b163d2e3141',\n",
              "  'd76bd5dcc62f4c57b9cece1c7bcfabc5',\n",
              "  '5acb6c71bcd64aa188804411b28c4c8f',\n",
              "  '49b74a5f193c4759b203123b58ca176d',\n",
              "  '77519174b48f4853a895f58bb8f98661',\n",
              "  'c5e9455e98bb42c0af7d1990db1df0c9',\n",
              "  'fcc5b4b5c4724179ab24962a39ca6d65',\n",
              "  '791d1ca7e228433fa50b01778c32449a',\n",
              "  '316d20eb238c43ef9ee195642dd6e3fe',\n",
              "  'cda0a9085607438c9b1ea87f4360dd64',\n",
              "  'e865152aaa194f22b97ad0078c012b21',\n",
              "  '7962506dbc24423aa540a5e4c7083dad',\n",
              "  '29cca6a580924b72a90b9dd6e7710d3e',\n",
              "  'a6f7d4bb60374f868144c5ba4431bf4c',\n",
              "  'f1ae3f713ba946069fa084a6b8626fbf',\n",
              "  'd7af8ede316546f68d4ab4f3dbf03f88',\n",
              "  '91cb8f15ed4444e99470d43515e50c1d',\n",
              "  'bc638d33e89848f58c0b3ccf3900c8bb',\n",
              "  '26fb370c13f844de9d1830f6176ebab6',\n",
              "  '7e66fdf908d84237943c833e6c1b317a',\n",
              "  '67c5dbb3ddcc4aff8ec5140930723c37',\n",
              "  'eaf2532c820740ae905bb7ed78fb1037',\n",
              "  '3e2d17fa9aa5484d9cabc1dfca532193',\n",
              "  'de6bd5ffbed24aa59c8891f8d9c32c44',\n",
              "  '9d51d699f635478fbbcd82a70396dd62',\n",
              "  'b7cbc6d0e80e4dfda7164871ece6cb71',\n",
              "  '563a3f547bd64a2f9969278c5ef447fd',\n",
              "  'df8917888b81424f8c0670939e61d885',\n",
              "  'bb3ef5ced8854640910132b11b597348',\n",
              "  'a522ce1d7f6545d7955779f25d01783b',\n",
              "  '1fafb2468af5481ca9967407af219c32',\n",
              "  '05de82bdb8484623906bb9d97ae87542',\n",
              "  'bfedb0d85e164b7697d1e72dd971fb72',\n",
              "  'ca0f85b4f0d44beb9b7ff87b1ab37ff5',\n",
              "  'bca4bbfdef3d4de980842f28be80b3ca',\n",
              "  'a834fb0389a8453c810c3330e3503e16',\n",
              "  '6c804cb7d78943b195045082c5c2d7fa',\n",
              "  'adf1594def9e4722b952fea33b307937',\n",
              "  '49f76277d07541c5a584aa14c9d28754',\n",
              "  '15a3b4d60b514db5a3468e2aef72a90c',\n",
              "  '18cc2837f2b9457c80af0761a0b83ccc',\n",
              "  '2bfcc693ae9946daba1d9f2724478fd4'],\n",
              " 'data': {'CAM_BACK': '03bea5763f0f4722933508d5999c5fd8',\n",
              "  'CAM_BACK_LEFT': '43893a033f9c46d4a51b5e08a67a1eb7',\n",
              "  'CAM_BACK_RIGHT': '79dbb4460a6b40f49f9c150cb118247e',\n",
              "  'CAM_FRONT': 'e3d495d4ac534d54b321f50006683844',\n",
              "  'CAM_FRONT_LEFT': 'fe5422747a7d4268a4b07fc396707b23',\n",
              "  'CAM_FRONT_RIGHT': 'aac7867ebf4f446395d29fbd60b63b3b',\n",
              "  'LIDAR_TOP': '9d9bf11fb0e144c8b446d54a8a00184f',\n",
              "  'RADAR_BACK_LEFT': '312aa38d0e3e4f01b3124c523e6f9776',\n",
              "  'RADAR_BACK_RIGHT': '07b30d5eb6104e79be58eadf94382bc1',\n",
              "  'RADAR_FRONT': '37091c75b9704e0daa829ba56dfa0906',\n",
              "  'RADAR_FRONT_LEFT': '11946c1461d14016a322916157da3c7d',\n",
              "  'RADAR_FRONT_RIGHT': '491209956ee3435a9ec173dad3aaf58b'},\n",
              " 'next': '39586f9d59004284a7114a68825e8eec',\n",
              " 'prev': '',\n",
              " 'scene_token': 'cc8c0bf57f984915a77078b10eb33198',\n",
              " 'timestamp': 1532402927647951,\n",
              " 'token': 'ca9a282c9e77460f8360f564131a8af5'}"
            ]
          },
          "metadata": {
            "tags": []
          },
          "execution_count": 42
        }
      ]
    },
    {
      "cell_type": "code",
      "metadata": {
        "colab": {
          "base_uri": "https://localhost:8080/"
        },
        "id": "x0WDSEtHOK0O",
        "outputId": "cb95afc0-89c6-4a4e-8d01-97c7815145bb"
      },
      "source": [
        "for first_anno in sample['anns'] :\n",
        "  anno = nusc.get('sample_annotation',first_anno)\n",
        "  vis = nusc.get('visibility',anno['visibility_token'])\n",
        "  print(vis)"
      ],
      "execution_count": null,
      "outputs": [
        {
          "output_type": "stream",
          "text": [
            "{'description': 'visibility of whole object is between 0 and 40%', 'token': '1', 'level': 'v0-40'}\n",
            "{'description': 'visibility of whole object is between 40 and 60%', 'token': '2', 'level': 'v40-60'}\n",
            "{'description': 'visibility of whole object is between 60 and 80%', 'token': '3', 'level': 'v60-80'}\n",
            "{'description': 'visibility of whole object is between 80 and 100%', 'token': '4', 'level': 'v80-100'}\n",
            "{'description': 'visibility of whole object is between 80 and 100%', 'token': '4', 'level': 'v80-100'}\n",
            "{'description': 'visibility of whole object is between 0 and 40%', 'token': '1', 'level': 'v0-40'}\n",
            "{'description': 'visibility of whole object is between 40 and 60%', 'token': '2', 'level': 'v40-60'}\n",
            "{'description': 'visibility of whole object is between 80 and 100%', 'token': '4', 'level': 'v80-100'}\n",
            "{'description': 'visibility of whole object is between 80 and 100%', 'token': '4', 'level': 'v80-100'}\n",
            "{'description': 'visibility of whole object is between 80 and 100%', 'token': '4', 'level': 'v80-100'}\n",
            "{'description': 'visibility of whole object is between 80 and 100%', 'token': '4', 'level': 'v80-100'}\n",
            "{'description': 'visibility of whole object is between 80 and 100%', 'token': '4', 'level': 'v80-100'}\n",
            "{'description': 'visibility of whole object is between 40 and 60%', 'token': '2', 'level': 'v40-60'}\n",
            "{'description': 'visibility of whole object is between 80 and 100%', 'token': '4', 'level': 'v80-100'}\n",
            "{'description': 'visibility of whole object is between 80 and 100%', 'token': '4', 'level': 'v80-100'}\n",
            "{'description': 'visibility of whole object is between 80 and 100%', 'token': '4', 'level': 'v80-100'}\n",
            "{'description': 'visibility of whole object is between 80 and 100%', 'token': '4', 'level': 'v80-100'}\n",
            "{'description': 'visibility of whole object is between 40 and 60%', 'token': '2', 'level': 'v40-60'}\n",
            "{'description': 'visibility of whole object is between 80 and 100%', 'token': '4', 'level': 'v80-100'}\n",
            "{'description': 'visibility of whole object is between 0 and 40%', 'token': '1', 'level': 'v0-40'}\n",
            "{'description': 'visibility of whole object is between 0 and 40%', 'token': '1', 'level': 'v0-40'}\n",
            "{'description': 'visibility of whole object is between 80 and 100%', 'token': '4', 'level': 'v80-100'}\n",
            "{'description': 'visibility of whole object is between 80 and 100%', 'token': '4', 'level': 'v80-100'}\n",
            "{'description': 'visibility of whole object is between 0 and 40%', 'token': '1', 'level': 'v0-40'}\n",
            "{'description': 'visibility of whole object is between 80 and 100%', 'token': '4', 'level': 'v80-100'}\n",
            "{'description': 'visibility of whole object is between 80 and 100%', 'token': '4', 'level': 'v80-100'}\n",
            "{'description': 'visibility of whole object is between 40 and 60%', 'token': '2', 'level': 'v40-60'}\n",
            "{'description': 'visibility of whole object is between 80 and 100%', 'token': '4', 'level': 'v80-100'}\n",
            "{'description': 'visibility of whole object is between 80 and 100%', 'token': '4', 'level': 'v80-100'}\n",
            "{'description': 'visibility of whole object is between 0 and 40%', 'token': '1', 'level': 'v0-40'}\n",
            "{'description': 'visibility of whole object is between 0 and 40%', 'token': '1', 'level': 'v0-40'}\n",
            "{'description': 'visibility of whole object is between 40 and 60%', 'token': '2', 'level': 'v40-60'}\n",
            "{'description': 'visibility of whole object is between 0 and 40%', 'token': '1', 'level': 'v0-40'}\n",
            "{'description': 'visibility of whole object is between 60 and 80%', 'token': '3', 'level': 'v60-80'}\n",
            "{'description': 'visibility of whole object is between 60 and 80%', 'token': '3', 'level': 'v60-80'}\n",
            "{'description': 'visibility of whole object is between 0 and 40%', 'token': '1', 'level': 'v0-40'}\n",
            "{'description': 'visibility of whole object is between 80 and 100%', 'token': '4', 'level': 'v80-100'}\n",
            "{'description': 'visibility of whole object is between 80 and 100%', 'token': '4', 'level': 'v80-100'}\n",
            "{'description': 'visibility of whole object is between 40 and 60%', 'token': '2', 'level': 'v40-60'}\n",
            "{'description': 'visibility of whole object is between 80 and 100%', 'token': '4', 'level': 'v80-100'}\n",
            "{'description': 'visibility of whole object is between 60 and 80%', 'token': '3', 'level': 'v60-80'}\n",
            "{'description': 'visibility of whole object is between 80 and 100%', 'token': '4', 'level': 'v80-100'}\n",
            "{'description': 'visibility of whole object is between 80 and 100%', 'token': '4', 'level': 'v80-100'}\n",
            "{'description': 'visibility of whole object is between 0 and 40%', 'token': '1', 'level': 'v0-40'}\n",
            "{'description': 'visibility of whole object is between 80 and 100%', 'token': '4', 'level': 'v80-100'}\n",
            "{'description': 'visibility of whole object is between 40 and 60%', 'token': '2', 'level': 'v40-60'}\n",
            "{'description': 'visibility of whole object is between 80 and 100%', 'token': '4', 'level': 'v80-100'}\n",
            "{'description': 'visibility of whole object is between 0 and 40%', 'token': '1', 'level': 'v0-40'}\n",
            "{'description': 'visibility of whole object is between 0 and 40%', 'token': '1', 'level': 'v0-40'}\n",
            "{'description': 'visibility of whole object is between 60 and 80%', 'token': '3', 'level': 'v60-80'}\n",
            "{'description': 'visibility of whole object is between 0 and 40%', 'token': '1', 'level': 'v0-40'}\n",
            "{'description': 'visibility of whole object is between 80 and 100%', 'token': '4', 'level': 'v80-100'}\n",
            "{'description': 'visibility of whole object is between 60 and 80%', 'token': '3', 'level': 'v60-80'}\n",
            "{'description': 'visibility of whole object is between 80 and 100%', 'token': '4', 'level': 'v80-100'}\n",
            "{'description': 'visibility of whole object is between 60 and 80%', 'token': '3', 'level': 'v60-80'}\n",
            "{'description': 'visibility of whole object is between 80 and 100%', 'token': '4', 'level': 'v80-100'}\n",
            "{'description': 'visibility of whole object is between 80 and 100%', 'token': '4', 'level': 'v80-100'}\n",
            "{'description': 'visibility of whole object is between 80 and 100%', 'token': '4', 'level': 'v80-100'}\n",
            "{'description': 'visibility of whole object is between 80 and 100%', 'token': '4', 'level': 'v80-100'}\n",
            "{'description': 'visibility of whole object is between 80 and 100%', 'token': '4', 'level': 'v80-100'}\n",
            "{'description': 'visibility of whole object is between 0 and 40%', 'token': '1', 'level': 'v0-40'}\n",
            "{'description': 'visibility of whole object is between 0 and 40%', 'token': '1', 'level': 'v0-40'}\n",
            "{'description': 'visibility of whole object is between 80 and 100%', 'token': '4', 'level': 'v80-100'}\n",
            "{'description': 'visibility of whole object is between 60 and 80%', 'token': '3', 'level': 'v60-80'}\n",
            "{'description': 'visibility of whole object is between 80 and 100%', 'token': '4', 'level': 'v80-100'}\n",
            "{'description': 'visibility of whole object is between 80 and 100%', 'token': '4', 'level': 'v80-100'}\n",
            "{'description': 'visibility of whole object is between 80 and 100%', 'token': '4', 'level': 'v80-100'}\n",
            "{'description': 'visibility of whole object is between 80 and 100%', 'token': '4', 'level': 'v80-100'}\n",
            "{'description': 'visibility of whole object is between 80 and 100%', 'token': '4', 'level': 'v80-100'}\n"
          ],
          "name": "stdout"
        }
      ]
    },
    {
      "cell_type": "code",
      "metadata": {
        "colab": {
          "base_uri": "https://localhost:8080/"
        },
        "id": "u035LGwgPRiA",
        "outputId": "ec34f518-7c50-47c1-c7c8-99daa9a837ba"
      },
      "source": [
        "vis = nusc.get('visibility',anno['visibility_token'])\n",
        "vis"
      ],
      "execution_count": null,
      "outputs": [
        {
          "output_type": "execute_result",
          "data": {
            "text/plain": [
              "{'description': 'visibility of whole object is between 0 and 40%',\n",
              " 'level': 'v0-40',\n",
              " 'token': '1'}"
            ]
          },
          "metadata": {
            "tags": []
          },
          "execution_count": 44
        }
      ]
    },
    {
      "cell_type": "code",
      "metadata": {
        "colab": {
          "base_uri": "https://localhost:8080/",
          "height": 408
        },
        "id": "O9b82vLGnJ4v",
        "outputId": "2d32c171-6c7a-4c6f-dfd2-e96a6c7dd2cb"
      },
      "source": [
        "import json\n",
        "\n",
        "\n",
        "with open('/content/drive/My Drive/data/v1.0-mini/category.json') as f:\n",
        "  data = json.load(f)\n",
        "for d in data:\n",
        "  print(d['name'])"
      ],
      "execution_count": null,
      "outputs": [
        {
          "output_type": "stream",
          "text": [
            "human.pedestrian.adult\n",
            "human.pedestrian.child\n",
            "human.pedestrian.wheelchair\n",
            "human.pedestrian.stroller\n",
            "human.pedestrian.personal_mobility\n",
            "human.pedestrian.police_officer\n",
            "human.pedestrian.construction_worker\n",
            "animal\n",
            "vehicle.car\n",
            "vehicle.motorcycle\n",
            "vehicle.bicycle\n",
            "vehicle.bus.bendy\n",
            "vehicle.bus.rigid\n",
            "vehicle.truck\n",
            "vehicle.construction\n",
            "vehicle.emergency.ambulance\n",
            "vehicle.emergency.police\n",
            "vehicle.trailer\n",
            "movable_object.barrier\n",
            "movable_object.trafficcone\n",
            "movable_object.pushable_pullable\n",
            "movable_object.debris\n",
            "static_object.bicycle_rack\n"
          ],
          "name": "stdout"
        }
      ]
    },
    {
      "cell_type": "code",
      "metadata": {
        "colab": {
          "base_uri": "https://localhost:8080/",
          "height": 286
        },
        "id": "_SLzR8LenKIE",
        "outputId": "b6c32e34-7bb9-4eab-f3f3-6577eaecc7d5"
      },
      "source": [
        "img,targets = iter(dataloader).next()\n",
        "plt.imshow(  img[0].permute(1, 2, 0)  )"
      ],
      "execution_count": null,
      "outputs": [
        {
          "output_type": "execute_result",
          "data": {
            "text/plain": [
              "<matplotlib.image.AxesImage at 0x7f1b0582a5f8>"
            ]
          },
          "metadata": {
            "tags": []
          },
          "execution_count": 52
        },
        {
          "output_type": "display_data",
          "data": {
            "image/png": "[encoded data removed]",
            "text/plain": [
              "<Figure size 432x288 with 1 Axes>"
            ]
          },
          "metadata": {
            "tags": []
          }
        }
      ]
    },
    {
      "cell_type": "code",
      "metadata": {
        "colab": {
          "base_uri": "https://localhost:8080/",
          "height": 34
        },
        "id": "mvAnhNUPhFgU",
        "outputId": "61f9f234-19e5-4919-bc14-6ce530b34873"
      },
      "source": [
        "output = model(img.to(device))\n",
        "print(output[...,8].max())"
      ],
      "execution_count": null,
      "outputs": [
        {
          "output_type": "stream",
          "text": [
            "tensor(0.9947)\n"
          ],
          "name": "stdout"
        }
      ]
    },
    {
      "cell_type": "code",
      "metadata": {
        "colab": {
          "base_uri": "https://localhost:8080/",
          "height": 34
        },
        "id": "xX05wMiohJNz",
        "outputId": "8a34bb29-1ead-4d03-c55e-f21ecfd27f9b"
      },
      "source": [
        "output = non_max_suppression(output,conf_thres=0.9)\n",
        "print(output[0].shape)"
      ],
      "execution_count": null,
      "outputs": [
        {
          "output_type": "stream",
          "text": [
            "torch.Size([10, 11])\n"
          ],
          "name": "stdout"
        }
      ]
    },
    {
      "cell_type": "code",
      "metadata": {
        "colab": {
          "base_uri": "https://localhost:8080/",
          "height": 238
        },
        "id": "Bw4rYBEDWKaY",
        "outputId": "bea4e00b-1ef4-47d4-a455-c83b3053007e"
      },
      "source": [
        "print(targets)"
      ],
      "execution_count": null,
      "outputs": [
        {
          "output_type": "stream",
          "text": [
            "tensor([[0.0000e+00, 0.0000e+00, 4.7458e-01,  ..., 3.2640e-01, 1.1154e-03,\n",
            "         4.6662e-01],\n",
            "        [0.0000e+00, 0.0000e+00, 5.0075e-01,  ..., 3.5600e-01, 5.4577e-01,\n",
            "         9.9790e-01],\n",
            "        [0.0000e+00, 8.0000e+00, 7.4861e-01,  ..., 3.0260e-01, 3.0156e-01,\n",
            "         4.1066e-02],\n",
            "        ...,\n",
            "        [1.0000e+00, 1.8000e+01, 4.8719e-01,  ..., 2.3620e-01, 3.9791e-01,\n",
            "         1.0534e-02],\n",
            "        [1.0000e+00, 1.9000e+01, 7.3987e-01,  ..., 1.5480e-01, 9.9424e-01,\n",
            "         5.7565e-01],\n",
            "        [1.0000e+00, 1.9000e+01, 3.6606e-01,  ..., 1.3800e-01, 7.7270e-02,\n",
            "         7.6702e-01]])\n"
          ],
          "name": "stdout"
        }
      ]
    },
    {
      "cell_type": "code",
      "metadata": {
        "id": "jU7biujtWx1R"
      },
      "source": [
        "from matplotlib import pyplot as plt\n",
        "from matplotlib.patches import Rectangle\n",
        "import matplotlib as mpl\n",
        "import matplotlib.patches as patches\n",
        "from IPython.display import clear_output\n",
        "import time"
      ],
      "execution_count": null,
      "outputs": []
    },
    {
      "cell_type": "code",
      "metadata": {
        "id": "ZcQwss6bXKoR"
      },
      "source": [
        "\n",
        "fig = plt.figure(figsize=(8,8))\n",
        "ax = fig.add_subplot(111)\n",
        "for annotation in targets:\n",
        "  annotation = nusc.get('sample_annotation',annotation)\n",
        "  cordinate = [annotation['translation'][i] - ego_pose['translation'][i] for i in range(3)]\n",
        "  cordinate[0], cordinate[1] = rotate_around_point_lowperf(cordinate[:2], ego_yaw, origin=(0, 0))\n",
        "  rotation_yaw = quaternion_yaw(annotation['rotation']) - math.pi/2\n",
        "  print(\"rotation_yaw = \", quaternion_yaw(annotation['rotation']) + math.pi )\n",
        "  object_rotation = rotation_yaw - ego_yaw\n",
        "  height = annotation['size'][0]\n",
        "  width = annotation['size'][1]\n",
        "  x_temp, y_temp = rotate_around_point_lowperf((cordinate[0],cordinate[1]),2*math.pi -  (object_rotation+math.pi/2), origin=(cordinate[0]-width/2, cordinate[1] - height/2))\n",
        "  x_offset, y_offset = x_temp - cordinate[0], y_temp - cordinate[1]\n",
        "  rectas = patches.Rectangle(xy=((cordinate[0]-width/2) - x_offset, (cordinate[1] - height/2) - y_offset) ,width=width, angle = (object_rotation+math.pi/2)*180/math.pi, height=height, linewidth=1, color='blue', fill=False)\n",
        "  ax.add_patch(rectas)\n",
        "  ax.scatter(cordinate[0], cordinate[1], color = 'red', s=10)\n",
        "  break\n",
        "ax.scatter(0, 0)\n",
        "plt.xlim(-80,80)\n",
        "plt.ylim(-80,80)\n",
        "plt.show()"
      ],
      "execution_count": null,
      "outputs": []
    },
    {
      "cell_type": "code",
      "metadata": {
        "colab": {
          "base_uri": "https://localhost:8080/",
          "height": 35
        },
        "id": "3xsHPdyHjeJ7",
        "outputId": "5c344ee7-135c-4ae3-cfee-5b98fa617b5e"
      },
      "source": [
        "dataset.categories[18]"
      ],
      "execution_count": null,
      "outputs": [
        {
          "output_type": "execute_result",
          "data": {
            "application/vnd.google.colaboratory.intrinsic+json": {
              "type": "string"
            },
            "text/plain": [
              "'movable_object.barrier'"
            ]
          },
          "metadata": {
            "tags": []
          },
          "execution_count": 42
        }
      ]
    },
    {
      "cell_type": "markdown",
      "metadata": {
        "id": "IwvIc7iFZ__d"
      },
      "source": [
        "#Angle testing"
      ]
    },
    {
      "cell_type": "code",
      "metadata": {
        "colab": {
          "base_uri": "https://localhost:8080/",
          "height": 68
        },
        "id": "sbhkMNF-aCGL",
        "outputId": "5c6caf94-8306-4097-bc84-e906730bed04"
      },
      "source": [
        "#30degree\n",
        "rotation_yaw = 0\n",
        "r1 = (1 + math.sin(rotation_yaw))/2\n",
        "r2 = (1 + math.cos(rotation_yaw))/2\n",
        "print(r1,r2)\n",
        "teta1 = math.asin(2*r1 - 1)\n",
        "teta2 = math.acos(2*r2 - 1)\n",
        "print(teta1,teta2)\n",
        "print(angle_decoder([r1,r2])*180/math.pi)"
      ],
      "execution_count": null,
      "outputs": [
        {
          "output_type": "stream",
          "text": [
            "0.5 1.0\n",
            "0.0 0.0\n",
            "0.0\n"
          ],
          "name": "stdout"
        }
      ]
    },
    {
      "cell_type": "code",
      "metadata": {
        "colab": {
          "base_uri": "https://localhost:8080/",
          "height": 68
        },
        "id": "pT11qiCtaLLS",
        "outputId": "317537dc-fd14-4746-cdc2-d7675279f749"
      },
      "source": [
        "#120degree\n",
        "rotation_yaw = math.pi/2 \n",
        "r1 = (1 + math.sin(rotation_yaw))/2\n",
        "r2 = (1 + math.cos(rotation_yaw))/2\n",
        "print(r1,r2)\n",
        "teta1 = math.asin(2*r1 - 1)\n",
        "teta2 = math.acos(2*r2 - 1)\n",
        "print(teta1,teta2)\n",
        "print(angle_decoder([r1,r2])*180/math.pi)"
      ],
      "execution_count": null,
      "outputs": [
        {
          "output_type": "stream",
          "text": [
            "1.0 0.5\n",
            "1.5707963267948966 1.5707963267948966\n",
            "90.0\n"
          ],
          "name": "stdout"
        }
      ]
    },
    {
      "cell_type": "code",
      "metadata": {
        "colab": {
          "base_uri": "https://localhost:8080/",
          "height": 68
        },
        "id": "BjJ5mE2TaN6H",
        "outputId": "7ba8beba-ad6b-4538-da10-41a70485e032"
      },
      "source": [
        "#210degree\n",
        "rotation_yaw = math.pi\n",
        "r1 = (1 + math.sin(rotation_yaw))/2\n",
        "r2 = (1 + math.cos(rotation_yaw))/2\n",
        "print(r1,r2)\n",
        "teta1 = math.asin(2*r1 - 1)\n",
        "teta2 = math.acos(2*r2 - 1)\n",
        "print(teta1,teta2)\n",
        "print(angle_decoder([r1,r2])*180/math.pi)"
      ],
      "execution_count": null,
      "outputs": [
        {
          "output_type": "stream",
          "text": [
            "0.5000000000000001 0.0\n",
            "2.220446049250313e-16 3.141592653589793\n",
            "180.0\n"
          ],
          "name": "stdout"
        }
      ]
    },
    {
      "cell_type": "code",
      "metadata": {
        "colab": {
          "base_uri": "https://localhost:8080/",
          "height": 68
        },
        "id": "qXNmm2SQavVU",
        "outputId": "b7f0c088-e125-4c9f-bcb1-51b081760cb6"
      },
      "source": [
        "#300degree\n",
        "rotation_yaw = 3*math.pi/2\n",
        "r1 = (1 + math.sin(rotation_yaw))/2\n",
        "r2 = (1 + math.cos(rotation_yaw))/2\n",
        "print(r1,r2)\n",
        "teta1 = math.asin(2*r1 - 1)\n",
        "teta2 = math.acos(2*r2 - 1)\n",
        "print(teta1,teta2)\n",
        "print(angle_decoder([r1,r2])*180/math.pi)"
      ],
      "execution_count": null,
      "outputs": [
        {
          "output_type": "stream",
          "text": [
            "0.0 0.4999999999999999\n",
            "-1.5707963267948966 1.5707963267948968\n",
            "270.0\n"
          ],
          "name": "stdout"
        }
      ]
    },
    {
      "cell_type": "code",
      "metadata": {
        "id": "3TGwbnheayIx"
      },
      "source": [
        ""
      ],
      "execution_count": null,
      "outputs": []
    },
    {
      "cell_type": "markdown",
      "metadata": {
        "id": "8_2iY7HwCTlm"
      },
      "source": [
        "#Intersection Area Testing"
      ]
    },
    {
      "cell_type": "code",
      "metadata": {
        "colab": {
          "base_uri": "https://localhost:8080/"
        },
        "id": "jLZVErYZxX4D",
        "outputId": "981748f9-b220-487c-f394-b8263b135038"
      },
      "source": [
        "from turfpy.transformation import intersect\n",
        "from turfpy.measurement import area\n",
        "from geojson import Feature\n",
        "f = Feature(geometry={\"coordinates\": [\n",
        "[[-122.801742, 45.48565], [-122.801742, 45.60491],\n",
        "[-122.584762, 45.60491], [-122.584762, 45.48565],\n",
        "[-122.801742, 45.48565]]], \"type\": \"Polygon\"})\n",
        "b = Feature(geometry={\"coordinates\": [\n",
        "[[-122.520217, 45.535693], [-122.64038, 45.553967],\n",
        "[-122.720031, 45.526554], [-122.669906, 45.507309],\n",
        "[-122.723464, 45.446643], [-122.532577, 45.408574],\n",
        "[-122.487258, 45.477466], [-122.520217, 45.535693]\n",
        "]], \"type\": \"Polygon\"})\n",
        "inter = intersect([f, b])\n",
        "area(inter)"
      ],
      "execution_count": null,
      "outputs": [
        {
          "output_type": "execute_result",
          "data": {
            "text/plain": [
              "56901155.05995309"
            ]
          },
          "metadata": {
            "tags": []
          },
          "execution_count": 3
        }
      ]
    },
    {
      "cell_type": "code",
      "metadata": {
        "colab": {
          "base_uri": "https://localhost:8080/"
        },
        "id": "CePQxQ8Uxaye",
        "outputId": "9dc7c7f0-4be8-40bf-957a-5f31e8e5d2b3"
      },
      "source": [
        "!pip install turfpy"
      ],
      "execution_count": null,
      "outputs": [
        {
          "output_type": "stream",
          "text": [
            "Collecting turfpy\n",
            "  Downloading https://files.pythonhosted.org/packages/00/9f/3327e2fbddbad1585acf37dcc9aababda0cb007c2d8180a3ae0251fa4339/turfpy-0.0.4.tar.gz\n",
            "Collecting geojson\n",
            "  Downloading https://files.pythonhosted.org/packages/e4/8d/9e28e9af95739e6d2d2f8d4bef0b3432da40b7c3588fbad4298c1be09e48/geojson-2.5.0-py2.py3-none-any.whl\n",
            "Requirement already satisfied: shapely in /usr/local/lib/python3.6/dist-packages (from turfpy) (1.7.1)\n",
            "Requirement already satisfied: scipy in /usr/local/lib/python3.6/dist-packages (from turfpy) (1.4.1)\n",
            "Requirement already satisfied: numpy in /usr/local/lib/python3.6/dist-packages (from turfpy) (1.18.5)\n",
            "Building wheels for collected packages: turfpy\n",
            "  Building wheel for turfpy (setup.py) ... \u001b[?25l\u001b[?25hdone\n",
            "  Created wheel for turfpy: filename=turfpy-0.0.4-cp36-none-any.whl size=32317 sha256=76b9dc9f683d5b6eae6f404c1b15fd5ee26c92a78086a865e43952be574641aa\n",
            "  Stored in directory: /root/.cache/pip/wheels/e8/5a/1f/216423b705f113c02e3c287b8c5ce31df9a8c6a5526c4da56c\n",
            "Successfully built turfpy\n",
            "Installing collected packages: geojson, turfpy\n",
            "Successfully installed geojson-2.5.0 turfpy-0.0.4\n"
          ],
          "name": "stdout"
        }
      ]
    },
    {
      "cell_type": "code",
      "metadata": {
        "id": "0HSDxXySxjqN"
      },
      "source": [
        ""
      ],
      "execution_count": null,
      "outputs": []
    }
  ]
}